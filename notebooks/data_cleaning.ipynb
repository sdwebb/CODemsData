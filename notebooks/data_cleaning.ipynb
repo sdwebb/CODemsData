{
 "cells": [
  {
   "cell_type": "markdown",
   "metadata": {},
   "source": [
    "# Data Cleaning for Projections\n",
    "\n",
    "The historical data from the CO Secretary of State's office is not uniform -- all the spreadsheets are formatted differently from year to year, some years have precinct-by-precinct data while others do not, the fields are different, etc.\n",
    "\n",
    "This notebook will clean all that into a standard format and then dump that data in a Pandas-friendly CSV file that can be accessed later. Doing this year by year."
   ]
  },
  {
   "cell_type": "code",
   "execution_count": 1,
   "metadata": {},
   "outputs": [],
   "source": [
    "import pandas as pd\n",
    "import glob\n",
    "import re\n",
    "import string\n",
    "\n",
    "reg_dir = '../data/registration/'\n",
    "res_dir = '../data/results/'"
   ]
  },
  {
   "cell_type": "markdown",
   "metadata": {},
   "source": [
    "## Registration Data\n",
    "\n",
    "The voter registration data has a uniform format, so a single function should do the trick."
   ]
  },
  {
   "cell_type": "code",
   "execution_count": 2,
   "metadata": {},
   "outputs": [],
   "source": [
    "def clean_registration_data(year):\n",
    "\n",
    "    print('Processing registration data for {}'.format(year))\n",
    "    df = pd.read_excel(reg_dir+'raw/{}.xlsx'.format(year), 'State Senate Districts', \n",
    "                                        header=0)#, names=columns)\n",
    "\n",
    "    # empty squares have no voters, replace NAN with 0\n",
    "    df = df.fillna(0)\n",
    "    \n",
    "    # rename columns to capital\n",
    "    rename_dict = {}\n",
    "    for col in df.columns:\n",
    "        rename_dict[col] = col.upper()\n",
    "        \n",
    "    # make all strings capital\n",
    "    df = df.rename(columns=rename_dict)\n",
    "    df['COUNTY'] = df['COUNTY'].str.upper()\n",
    "    \n",
    "    df = df[df['COUNTY'].notnull()]\n",
    "\n",
    "    # write to file\n",
    "    df.to_csv(reg_dir+'cleaned/{}.csv'.format(year))"
   ]
  },
  {
   "cell_type": "code",
   "execution_count": 5,
   "metadata": {},
   "outputs": [
    {
     "name": "stdout",
     "output_type": "stream",
     "text": [
      "['2016', '2020', '2012', '2014', '2018']\n",
      "Processing registration data for 2016\n",
      "Processing registration data for 2020\n",
      "Processing registration data for 2012\n",
      "Processing registration data for 2014\n",
      "Processing registration data for 2018\n"
     ]
    }
   ],
   "source": [
    "filepaths = glob.glob(reg_dir+'raw/*.xlsx')\n",
    "years = [re.search(reg_dir+'raw/(.*).xlsx', filepath).group(1) for filepath in filepaths]\n",
    "print(years)\n",
    "for year in years:\n",
    "    clean_registration_data(year)"
   ]
  },
  {
   "cell_type": "markdown",
   "metadata": {},
   "source": [
    "## Results Data\n",
    "\n",
    "Take in the results and isolate only the information we want, i.e. scrape out the ballot initiatives, federal elections, etc. to only look at the State Senate elections."
   ]
  },
  {
   "cell_type": "code",
   "execution_count": 22,
   "metadata": {},
   "outputs": [],
   "source": [
    "def clean_results_data(year):\n",
    "\n",
    "    print('Processing results data for {}'.format(year))\n",
    "    df = pd.read_excel(res_dir+'raw/{}.xlsx'.format(year))\n",
    "    \n",
    "    # deal with a change in formatting after two years\n",
    "    if 'Candidate Votes' in df.columns:\n",
    "        df['Yes Votes'] = df['Yes Votes'] + df['Candidate Votes']\n",
    "        \n",
    "    # capitalize all the columns\n",
    "    rename_dict = {}\n",
    "    for col in df.columns:\n",
    "        rename_dict[col] = col.upper()\n",
    "\n",
    "    # column name edge case party -- \n",
    "    #   spreadsheets use different names for what they were voting on every year\n",
    "    rename_dict['Office/Issue/Judgeship'] = 'DISTRICT'         # 2012\n",
    "    rename_dict['Office/Issue/Judgeship'] = 'DISTRICT'         # 2014\n",
    "    rename_dict['OFFICE / BALLOT ISSUE'] = 'DISTRICT'          # 2016\n",
    "    rename_dict['OFFICE/BALLOT ISSUE NUMBER'] = 'DISTRICT'     # 2018\n",
    "\n",
    "    # capitalize all the strings\n",
    "    df = df.rename(columns=rename_dict)\n",
    "    df['COUNTY'] = df['COUNTY'].str.upper()\n",
    "    df['PARTY'] = df['PARTY'].str.upper()\n",
    "\n",
    "    # Isolate the data we want\n",
    "    cols = ['YES VOTES', 'DISTRICT', 'COUNTY', 'PARTY']\n",
    "    df = df[cols][df['DISTRICT'].str.match('State Senate')]\n",
    "    # deal with the 'district-total' corner case\n",
    "    df = df[(df['COUNTY'].notnull()) & ~(df['COUNTY'] == 'TOTAL')]\n",
    "    df['DISTRICT'] = df['DISTRICT'].str.replace('State Senate - District', 'SD')\n",
    "\n",
    "    # write to file\n",
    "    df.to_csv(res_dir+'cleaned/{}.csv'.format(year))"
   ]
  },
  {
   "cell_type": "code",
   "execution_count": 23,
   "metadata": {},
   "outputs": [
    {
     "name": "stdout",
     "output_type": "stream",
     "text": [
      "['2016', '2012', '2014', '2018']\n",
      "Processing results data for 2016\n",
      "[False False False False False False False False False False False False\n",
      " False False False False False False False False False False False False\n",
      " False False False False False False False False False]\n",
      "Processing results data for 2012\n",
      "[False False False False False False False False False False False False\n",
      " False False False False False False False False False False False False\n",
      " False False False False False False False False False]\n",
      "Processing results data for 2014\n",
      "[False False False False False False False False False False False False\n",
      " False False False False False False False False False False False False\n",
      " False False False False False False False False False False False False\n",
      " False False False False]\n",
      "Processing results data for 2018\n",
      "[False False False False False False False False False False False False\n",
      " False False False False False False False False False False False False\n",
      " False False False False False False False False False False False False\n",
      " False False False False]\n"
     ]
    }
   ],
   "source": [
    "filepaths = glob.glob(res_dir+'raw/*.xlsx')\n",
    "years = [re.search(res_dir+'raw/(.*).xlsx', filepath).group(1) for filepath in filepaths]\n",
    "print(years)\n",
    "for year in years:\n",
    "    clean_results_data(year)"
   ]
  },
  {
   "cell_type": "code",
   "execution_count": null,
   "metadata": {},
   "outputs": [],
   "source": []
  }
 ],
 "metadata": {
  "kernelspec": {
   "display_name": "Python 3",
   "language": "python",
   "name": "python3"
  },
  "language_info": {
   "codemirror_mode": {
    "name": "ipython",
    "version": 3
   },
   "file_extension": ".py",
   "mimetype": "text/x-python",
   "name": "python",
   "nbconvert_exporter": "python",
   "pygments_lexer": "ipython3",
   "version": "3.7.7"
  }
 },
 "nbformat": 4,
 "nbformat_minor": 4
}
