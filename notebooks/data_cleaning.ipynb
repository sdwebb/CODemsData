{
 "cells": [
  {
   "cell_type": "markdown",
   "metadata": {},
   "source": [
    "# Data Cleaning for Projections\n",
    "\n",
    "The historical data from the CO Secretary of State's office is not uniform -- all the spreadsheets are formatted differently from year to year, some years have precinct-by-precinct data while others do not, the fields are different, etc.\n",
    "\n",
    "This notebook will clean all that into a standard format and then dump that data in a Pandas-friendly CSV file that can be accessed later. Doing this year by year."
   ]
  },
  {
   "cell_type": "code",
   "execution_count": 1,
   "metadata": {},
   "outputs": [],
   "source": [
    "import pandas as pd\n",
    "import glob\n",
    "import re\n",
    "import string\n",
    "\n",
    "reg_dir = '../data/registration/'\n",
    "res_dir = '../data/results/'"
   ]
  },
  {
   "cell_type": "markdown",
   "metadata": {},
   "source": [
    "## Registration Data\n",
    "\n",
    "The voter registration data has a uniform format, so a single function should do the trick."
   ]
  },
  {
   "cell_type": "code",
   "execution_count": 2,
   "metadata": {},
   "outputs": [],
   "source": [
    "def clean_registration_data(year):\n",
    "    #columns = ['DISTRICT', 'COUNTY', \n",
    "    #       'ACN-ACTIVE', 'APV-ACTIVE', 'DEM-ACTIVE', 'GRN-ACTIVE', 'LBR-ACTIVE', 'REP-ACTIVE',\n",
    "    #   'UAF-ACTIVE', 'UNI-ACTIVE', 'TOTAL-ACTIVE', \n",
    "    #       'ACN-INACTIVE', 'APV-INACTIVE', 'DEM-INACTIVE', 'GRN-INACTIVE',\n",
    "    #   'LBR-INACTIVE', 'REP-INACTIVE', 'UAF-INACTIVE', 'UNI-INACTIVE', 'TOTAL-INACTIVE', \n",
    "    #       'ACN-PREREG', 'APV-PREREG',\n",
    "    #   'DEM-PREREG', 'GRN-PREREG', 'LBR-PREREG', 'REP-PREREG', 'UAF-PREREG', 'UNI-PREREG', 'TOTAL-PREREG',\n",
    "    #       'TOTAL']\n",
    "    print(year)\n",
    "    df = pd.read_excel(reg_dir+'raw/{}.xlsx'.format(year), 'State Senate Districts', \n",
    "                                        header=0)#, names=columns)\n",
    "\n",
    "    # empty squares have no voters\n",
    "    df = df.fillna(0)\n",
    "    df.head()\n",
    "\n",
    "    # Remove each \"Total\" County instance\n",
    "    #df.drop(df.loc[df['COUNTY']==0].index, inplace=True)\n",
    "    \n",
    "    rename_dict = {}\n",
    "    for col in df.columns:\n",
    "        rename_dict[col] = col.upper()\n",
    "        \n",
    "    df = df.rename(columns=rename_dict)\n",
    "    df.head()\n",
    "\n",
    "    df['COUNTY'] = df['COUNTY'].str.upper()\n",
    "\n",
    "    df.to_csv(reg_dir+'cleaned/{}.csv'.format(year))"
   ]
  },
  {
   "cell_type": "code",
   "execution_count": 3,
   "metadata": {},
   "outputs": [
    {
     "name": "stdout",
     "output_type": "stream",
     "text": [
      "['2016', '2012', '2014', '2018']\n",
      "2016\n",
      "2012\n",
      "2014\n",
      "2018\n"
     ]
    }
   ],
   "source": [
    "filepaths = glob.glob(reg_dir+'raw/*.xlsx')\n",
    "years = [re.search(reg_dir+'raw/(.*).xlsx', filepath).group(1) for filepath in filepaths]\n",
    "print(years)\n",
    "for year in years:\n",
    "    clean_registration_data(year)"
   ]
  },
  {
   "cell_type": "markdown",
   "metadata": {},
   "source": [
    "## 2018"
   ]
  },
  {
   "cell_type": "markdown",
   "metadata": {},
   "source": [
    "Clean up the registration data. This involves collapsing columns of different non-D/R voters to a single \"Other\" category, removing intermediate rows with totals, etc."
   ]
  },
  {
   "cell_type": "code",
   "execution_count": null,
   "metadata": {},
   "outputs": [],
   "source": [
    "columns = ['DISTRICT', 'COUNTY', \n",
    "           'ACN-ACTIVE', 'APV-ACTIVE', 'DEM-ACTIVE', 'GRN-ACTIVE', 'LBR-ACTIVE', 'REP-ACTIVE',\n",
    "       'UAF-ACTIVE', 'UNI-ACTIVE', 'TOTAL-ACTIVE', \n",
    "           'ACN-INACTIVE', 'APV-INACTIVE', 'DEM-INACTIVE', 'GRN-INACTIVE',\n",
    "       'LBR-INACTIVE', 'REP-INACTIVE', 'UAF-INACTIVE', 'UNI-INACTIVE', 'TOTAL-INACTIVE', \n",
    "           'ACN-PREREG', 'APV-PREREG',\n",
    "       'DEM-PREREG', 'GRN-PREREG', 'LBR-PREREG', 'REP-PREREG', 'UAF-PREREG', 'UNI-PREREG', 'TOTAL-PREREG',\n",
    "           'TOTAL']\n",
    "\n",
    "df = pd.read_excel(reg_dir+'raw/2018.xlsx', 'State Senate Districts', \n",
    "                                    header=2, names=columns)\n",
    "\n",
    "# empty squares have no voters\n",
    "df = df.fillna(0)\n",
    "\n",
    "# Remove each \"Total\" County instance\n",
    "df.drop(df.loc[df['COUNTY']==0].index, inplace=True)\n",
    "\n",
    "collapsed_columns = {'ACN-ACTIVE' : 'OTHER-ACTIVE', \n",
    "                     'APV-ACTIVE' : 'OTHER-ACTIVE', \n",
    "                     'GRN-ACTIVE' : 'OTHER-ACTIVE', \n",
    "                     'LBR-ACTIVE' : 'OTHER-ACTIVE', \n",
    "                     'UAF-ACTIVE' : 'OTHER-ACTIVE', \n",
    "                     'UNI-ACTIVE' : 'OTHER-ACTIVE', \n",
    "                     'ACN-INACTIVE' : 'OTHER-INACTIVE', \n",
    "                     'APV-INACTIVE' : 'OTHER-INACTIVE', \n",
    "                     'DEM-INACTIVE' : 'OTHER-INACTIVE', \n",
    "                     'GRN-INACTIVE' : 'OTHER-INACTIVE',\n",
    "                     'LBR-INACTIVE' : 'OTHER-INACTIVE', \n",
    "                     'REP-INACTIVE' : 'OTHER-INACTIVE', \n",
    "                     'UAF-INACTIVE' : 'OTHER-INACTIVE', \n",
    "                     'UNI-INACTIVE' : 'OTHER-INACTIVE',\n",
    "                     'ACN-PREREG' : 'OTHER-PREREG', \n",
    "                     'APV-PREREG' : 'OTHER-PREREG',\n",
    "                     'DEM-PREREG' : 'OTHER-PREREG', \n",
    "                     'GRN-PREREG' : 'OTHER-PREREG', \n",
    "                     'LBR-PREREG' : 'OTHER-PREREG', \n",
    "                     'REP-PREREG' : 'OTHER-PREREG', \n",
    "                     'UAF-PREREG' : 'OTHER-PREREG', \n",
    "                     'UNI-PREREG' : 'OTHER-PREREG',\n",
    "                     'DISTRICT' : 'DISTRICT', \n",
    "                     'COUNTY' : 'COUNTY', \n",
    "                     'DEM-ACTIVE' : 'DEM-ACTIVE', \n",
    "                     'REP-ACTIVE' : 'REP-ACTIVE', \n",
    "                     'TOTAL-ACTIVE' : 'TOTAL-ACTIVE', \n",
    "                     'DEM-INACTIVE' : 'DEM-INACTIVE', \n",
    "                     'REP-INACTIVE' : 'REP-INACTIVE', \n",
    "                     'TOTAL-INACTIVE' : 'TOTAL-INACTIVE', \n",
    "                     'DEM-PREREG' : 'DEM-PREPREG', \n",
    "                     'REP-PREREG' : 'REP-PREREG', \n",
    "                     'TOTAL-PREREG' : 'TOTAL-PREREG',\n",
    "                     'TOTAL' : 'TOTAL'\n",
    "                    }\n",
    "\n",
    "df = df.groupby(collapsed_columns, axis=1).sum()\n",
    "\n",
    "df['COUNTY'] = df['COUNTY'].str.upper()\n",
    "\n",
    "df.to_csv(reg_dir+'cleaned/2018.csv')"
   ]
  },
  {
   "cell_type": "markdown",
   "metadata": {
    "jupyter": {
     "source_hidden": true
    }
   },
   "source": [
    "Clean the 2018 results, isolating the Senate district votes and reformatting the district string to match the formatting in the registration dataframe."
   ]
  },
  {
   "cell_type": "code",
   "execution_count": null,
   "metadata": {
    "jupyter": {
     "source_hidden": true
    }
   },
   "outputs": [],
   "source": [
    "df = pd.read_excel(res_dir+'raw/2018.xlsx')\n",
    "\n",
    "# Convert the formatting for uniformity\n",
    "df = df[df['OFFICE/BALLOT ISSUE NUMBER'].str.contains('State Senate')]\n",
    "df['OFFICE/BALLOT ISSUE NUMBER'] = df['OFFICE/BALLOT ISSUE NUMBER'].str.replace('State Senate - District', 'SD')\n",
    "df.rename(columns={'OFFICE/BALLOT ISSUE NUMBER' : 'OFFICE', 'CANDIDATE/JUDGE/BALLOT TITLE' : 'CANDIDATE'})\n",
    "\n",
    "# Isolate the county data\n",
    "county_vals = (df.COUNTY != 'TOTAL')\n",
    "df = df[county_vals]\n",
    "df = df.drop(columns=['NO VOTES', 'NO PERCENT'])\n",
    "\n",
    "df.to_csv(res_dir+'cleaned/2018.csv')"
   ]
  },
  {
   "cell_type": "markdown",
   "metadata": {},
   "source": [
    "## 2016"
   ]
  },
  {
   "cell_type": "markdown",
   "metadata": {},
   "source": [
    "Clean the registration data."
   ]
  },
  {
   "cell_type": "code",
   "execution_count": null,
   "metadata": {},
   "outputs": [],
   "source": []
  }
 ],
 "metadata": {
  "kernelspec": {
   "display_name": "Python 3",
   "language": "python",
   "name": "python3"
  },
  "language_info": {
   "codemirror_mode": {
    "name": "ipython",
    "version": 3
   },
   "file_extension": ".py",
   "mimetype": "text/x-python",
   "name": "python",
   "nbconvert_exporter": "python",
   "pygments_lexer": "ipython3",
   "version": "3.7.7"
  }
 },
 "nbformat": 4,
 "nbformat_minor": 4
}
