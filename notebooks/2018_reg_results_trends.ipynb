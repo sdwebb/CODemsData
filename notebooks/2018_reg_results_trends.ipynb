{
 "cells": [
  {
   "cell_type": "markdown",
   "metadata": {},
   "source": [
    "# Trends in Voter Registration in October 2018 versus November 2018 Results\n",
    "\n",
    "Exploring the dumbest correlation possible"
   ]
  },
  {
   "cell_type": "code",
   "execution_count": 1,
   "metadata": {},
   "outputs": [],
   "source": [
    "import pandas as pd\n",
    "from matplotlib import pyplot as plt"
   ]
  },
  {
   "cell_type": "markdown",
   "metadata": {},
   "source": [
    "## Data Cleaning"
   ]
  },
  {
   "cell_type": "markdown",
   "metadata": {},
   "source": [
    "### Election Results Data\n",
    "\n",
    "Reading in the November 2018 election results data, isolating State Senate races, and digesting their outcomes"
   ]
  },
  {
   "cell_type": "code",
   "execution_count": 2,
   "metadata": {},
   "outputs": [
    {
     "data": {
      "text/html": [
       "<div>\n",
       "<style scoped>\n",
       "    .dataframe tbody tr th:only-of-type {\n",
       "        vertical-align: middle;\n",
       "    }\n",
       "\n",
       "    .dataframe tbody tr th {\n",
       "        vertical-align: top;\n",
       "    }\n",
       "\n",
       "    .dataframe thead th {\n",
       "        text-align: right;\n",
       "    }\n",
       "</style>\n",
       "<table border=\"1\" class=\"dataframe\">\n",
       "  <thead>\n",
       "    <tr style=\"text-align: right;\">\n",
       "      <th></th>\n",
       "      <th>OFFICE/BALLOT ISSUE NUMBER</th>\n",
       "      <th>PARTY</th>\n",
       "      <th>COUNTY</th>\n",
       "      <th>CANDIDATE/JUDGE/BALLOT TITLE</th>\n",
       "      <th>YES VOTES</th>\n",
       "      <th>YES PERCENT</th>\n",
       "      <th>NO VOTES</th>\n",
       "      <th>NO PERCENT</th>\n",
       "    </tr>\n",
       "  </thead>\n",
       "  <tbody>\n",
       "    <tr>\n",
       "      <th>0</th>\n",
       "      <td>United States Representative - District 1</td>\n",
       "      <td>Republican Party</td>\n",
       "      <td>ARAPAHOE</td>\n",
       "      <td>Charles Casper Stockham</td>\n",
       "      <td>8300</td>\n",
       "      <td>0.0224</td>\n",
       "      <td>NaN</td>\n",
       "      <td>NaN</td>\n",
       "    </tr>\n",
       "    <tr>\n",
       "      <th>1</th>\n",
       "      <td>United States Representative - District 1</td>\n",
       "      <td>Republican Party</td>\n",
       "      <td>DENVER</td>\n",
       "      <td>Charles Casper Stockham</td>\n",
       "      <td>57186</td>\n",
       "      <td>0.1547</td>\n",
       "      <td>NaN</td>\n",
       "      <td>NaN</td>\n",
       "    </tr>\n",
       "    <tr>\n",
       "      <th>2</th>\n",
       "      <td>United States Representative - District 1</td>\n",
       "      <td>Republican Party</td>\n",
       "      <td>JEFFERSON</td>\n",
       "      <td>Charles Casper Stockham</td>\n",
       "      <td>19721</td>\n",
       "      <td>0.0533</td>\n",
       "      <td>NaN</td>\n",
       "      <td>NaN</td>\n",
       "    </tr>\n",
       "    <tr>\n",
       "      <th>3</th>\n",
       "      <td>United States Representative - District 1</td>\n",
       "      <td>Republican Party</td>\n",
       "      <td>TOTAL</td>\n",
       "      <td>Charles Casper Stockham</td>\n",
       "      <td>85207</td>\n",
       "      <td>0.2305</td>\n",
       "      <td>NaN</td>\n",
       "      <td>NaN</td>\n",
       "    </tr>\n",
       "    <tr>\n",
       "      <th>4</th>\n",
       "      <td>United States Representative - District 1</td>\n",
       "      <td>Democratic Party</td>\n",
       "      <td>ARAPAHOE</td>\n",
       "      <td>Diana DeGette</td>\n",
       "      <td>15645</td>\n",
       "      <td>0.0423</td>\n",
       "      <td>NaN</td>\n",
       "      <td>NaN</td>\n",
       "    </tr>\n",
       "  </tbody>\n",
       "</table>\n",
       "</div>"
      ],
      "text/plain": [
       "                  OFFICE/BALLOT ISSUE NUMBER             PARTY     COUNTY  \\\n",
       "0  United States Representative - District 1  Republican Party   ARAPAHOE   \n",
       "1  United States Representative - District 1  Republican Party     DENVER   \n",
       "2  United States Representative - District 1  Republican Party  JEFFERSON   \n",
       "3  United States Representative - District 1  Republican Party      TOTAL   \n",
       "4  United States Representative - District 1  Democratic Party   ARAPAHOE   \n",
       "\n",
       "  CANDIDATE/JUDGE/BALLOT TITLE YES VOTES  YES PERCENT  NO VOTES  NO PERCENT  \n",
       "0      Charles Casper Stockham      8300       0.0224       NaN         NaN  \n",
       "1      Charles Casper Stockham     57186       0.1547       NaN         NaN  \n",
       "2      Charles Casper Stockham     19721       0.0533       NaN         NaN  \n",
       "3      Charles Casper Stockham     85207       0.2305       NaN         NaN  \n",
       "4                Diana DeGette     15645       0.0423       NaN         NaN  "
      ]
     },
     "execution_count": 2,
     "metadata": {},
     "output_type": "execute_result"
    }
   ],
   "source": [
    "election_df = pd.read_excel('../data/results/2018GeneralResults.xlsx')\n",
    "election_df.head()"
   ]
  },
  {
   "cell_type": "markdown",
   "metadata": {},
   "source": [
    "Pluck out State Senate election results as a separate dataframe"
   ]
  },
  {
   "cell_type": "code",
   "execution_count": 7,
   "metadata": {},
   "outputs": [
    {
     "name": "stdout",
     "output_type": "stream",
     "text": [
      "     OFFICE/BALLOT ISSUE NUMBER             PARTY      COUNTY  \\\n",
      "1778                       SD 1  Republican Party    CHEYENNE   \n",
      "1779                       SD 1  Republican Party      ELBERT   \n",
      "1780                       SD 1  Republican Party  KIT CARSON   \n",
      "1781                       SD 1  Republican Party     LINCOLN   \n",
      "1782                       SD 1  Republican Party       LOGAN   \n",
      "...                         ...               ...         ...   \n",
      "1913                      SD 32  Democratic Party      DENVER   \n",
      "1915                      SD 32  Republican Party      DENVER   \n",
      "1917                      SD 32       Independent      DENVER   \n",
      "1919                      SD 34  Democratic Party      DENVER   \n",
      "1921                      SD 34  Republican Party      DENVER   \n",
      "\n",
      "     CANDIDATE/JUDGE/BALLOT TITLE YES VOTES  YES PERCENT  NO VOTES  NO PERCENT  \n",
      "1778             Jerry Sonnenberg       829       0.0125       NaN         NaN  \n",
      "1779             Jerry Sonnenberg     11132       0.1681       NaN         NaN  \n",
      "1780             Jerry Sonnenberg      2543       0.0384       NaN         NaN  \n",
      "1781             Jerry Sonnenberg      1709       0.0258       NaN         NaN  \n",
      "1782             Jerry Sonnenberg      7045       0.1064       NaN         NaN  \n",
      "...                           ...       ...          ...       ...         ...  \n",
      "1913             Robert Rodriguez     53307       0.7199       NaN         NaN  \n",
      "1915                Mark Calonder     17294       0.2336       NaN         NaN  \n",
      "1917            Peter Lucas Smith      3446       0.0465       NaN         NaN  \n",
      "1919               Julie Gonzales     54312       0.8313       NaN         NaN  \n",
      "1921                 Gordon Alley     11018       0.1687       NaN         NaN  \n",
      "\n",
      "[104 rows x 8 columns]\n"
     ]
    },
    {
     "name": "stderr",
     "output_type": "stream",
     "text": [
      "/opt/anaconda3/lib/python3.7/site-packages/ipykernel_launcher.py:2: SettingWithCopyWarning: \n",
      "A value is trying to be set on a copy of a slice from a DataFrame.\n",
      "Try using .loc[row_indexer,col_indexer] = value instead\n",
      "\n",
      "See the caveats in the documentation: https://pandas.pydata.org/pandas-docs/stable/user_guide/indexing.html#returning-a-view-versus-a-copy\n",
      "  \n"
     ]
    }
   ],
   "source": [
    "state_senate_df = election_df[election_df['OFFICE/BALLOT ISSUE NUMBER'].str.contains('State Senate')]\n",
    "state_senate_df['OFFICE/BALLOT ISSUE NUMBER'] = state_senate_df['OFFICE/BALLOT ISSUE NUMBER'].str.replace('State Senate - District', 'SD')\n",
    "county_vals = (state_senate_df.COUNTY != 'TOTAL')\n",
    "state_senate_df = state_senate_df[county_vals]\n",
    "elections = state_senate_df['OFFICE/BALLOT ISSUE NUMBER'].unique()\n",
    "print(state_senate_df)"
   ]
  },
  {
   "cell_type": "markdown",
   "metadata": {},
   "source": [
    "### Voter Registration Data\n",
    "\n",
    "Reading in and digesting the October 2020 voter registration data by county and State Senate district"
   ]
  },
  {
   "cell_type": "code",
   "execution_count": 8,
   "metadata": {},
   "outputs": [],
   "source": [
    "columns = ['DISTRICT', 'COUNTY', \n",
    "           'ACN-ACTIVE', 'APV-ACTIVE', 'DEM-ACTIVE', 'GRN-ACTIVE', 'LBR-ACTIVE', 'REP-ACTIVE',\n",
    "       'UAF-ACTIVE', 'UNI-ACTIVE', 'TOTAL-ACTIVE', \n",
    "           'ACN-INACTIVE', 'APV-INACTIVE', 'DEM-INACTIVE', 'GRN-INACTIVE',\n",
    "       'LBR-INACTIVE', 'REP-INACTIVE', 'UAF-INACTIVE', 'UNI-INACTIVE', 'TOTAL-INACTIVE', \n",
    "           'ACN-PREREG', 'APV-PREREG',\n",
    "       'DEM-PREREG', 'GRN-PREREG', 'LBR-PREREG', 'REP-PREREG', 'UAF-PREREG', 'UNI-PREREG', 'TOTAL-PREREG',\n",
    "           'TOTAL']\n",
    "\n",
    "voter_affiliation_df = pd.read_excel('../data/registration/Oct_2018_voter_registration.xlsx', 'State Senate Districts', \n",
    "                                    header=2, names=columns)\n",
    "\n",
    "# empty squares have no voters\n",
    "voter_affiliation_df = voter_affiliation_df.fillna(0)\n",
    "\n",
    "# Remove each \"Total\" County instance\n",
    "county_vals = (voter_affiliation_df.COUNTY != 'Total')\n",
    "voter_affiliation_df = voter_affiliation_df[county_vals]"
   ]
  },
  {
   "cell_type": "markdown",
   "metadata": {},
   "source": [
    "For the sake of simplicity, assume everyone who isn't a Republican or Democrat is \"Other\", and look at that as a massed group."
   ]
  },
  {
   "cell_type": "code",
   "execution_count": 9,
   "metadata": {},
   "outputs": [
    {
     "name": "stdout",
     "output_type": "stream",
     "text": [
      "         COUNTY  DEM-ACTIVE  DEM-INACTIVE  DEM-PREPREG     DISTRICT  \\\n",
      "0      CHEYENNE         129            23          0.0         SD 1   \n",
      "1        ELBERT        2185           239         16.0         SD 1   \n",
      "2    KIT CARSON         519            85          4.0         SD 1   \n",
      "3       LINCOLN         377            73          0.0         SD 1   \n",
      "4         LOGAN        1665           279          1.0         SD 1   \n",
      "..          ...         ...           ...          ...          ...   \n",
      "119     PROWERS        1279           192         16.0        SD 35   \n",
      "120      PUEBLO        3877           242         28.0        SD 35   \n",
      "121  RIO GRANDE        2068           314          3.0        SD 35   \n",
      "122    SAGUACHE        1570           242          0.0        SD 35   \n",
      "124         NaN     1038975        144932       8420.0  State Total   \n",
      "\n",
      "     OTHER-ACTIVE  OTHER-INACTIVE  OTHER-PREREG  REP-ACTIVE  REP-INACTIVE  \\\n",
      "0           301.0            62.0           6.0         804            82   \n",
      "1          6413.0           824.0         172.0       10150           966   \n",
      "2          1327.0           338.0          22.0        2507           269   \n",
      "3           702.0           203.0          15.0        1669           206   \n",
      "4          3649.0           998.0          45.0        5858           608   \n",
      "..            ...             ...           ...         ...           ...   \n",
      "119        2064.0           595.0          63.0        2868           431   \n",
      "120        4138.0           530.0          73.0        4472           388   \n",
      "121        2147.0           537.0           3.0        2716           410   \n",
      "122        1357.0           329.0           6.0         811           129   \n",
      "124     1344525.0        267964.0       28009.0      996492        139423   \n",
      "\n",
      "     REP-PREREG    TOTAL  TOTAL-ACTIVE  TOTAL-INACTIVE  TOTAL-PREREG  \n",
      "0          10.0     1417          1234             167          16.0  \n",
      "1         152.0    21117         18748            2029         340.0  \n",
      "2          25.0     5096          4353             692          51.0  \n",
      "3          23.0     3268          2748             482          38.0  \n",
      "4          17.0    13120         11172            1885          63.0  \n",
      "..          ...      ...           ...             ...           ...  \n",
      "119        33.0     7541          6211            1218         112.0  \n",
      "120        49.0    13797         12487            1160         150.0  \n",
      "121         2.0     8200          6931            1261           8.0  \n",
      "122         1.0     4445          3738             700           7.0  \n",
      "124      8751.0  3977491       3379992          552319       45180.0  \n",
      "\n",
      "[93 rows x 15 columns]\n"
     ]
    }
   ],
   "source": [
    "collapsed_columns = {'ACN-ACTIVE' : 'OTHER-ACTIVE', \n",
    "                     'APV-ACTIVE' : 'OTHER-ACTIVE', \n",
    "                     'GRN-ACTIVE' : 'OTHER-ACTIVE', \n",
    "                     'LBR-ACTIVE' : 'OTHER-ACTIVE', \n",
    "                     'UAF-ACTIVE' : 'OTHER-ACTIVE', \n",
    "                     'UNI-ACTIVE' : 'OTHER-ACTIVE', \n",
    "                     'ACN-INACTIVE' : 'OTHER-INACTIVE', \n",
    "                     'APV-INACTIVE' : 'OTHER-INACTIVE', \n",
    "                     'DEM-INACTIVE' : 'OTHER-INACTIVE', \n",
    "                     'GRN-INACTIVE' : 'OTHER-INACTIVE',\n",
    "                     'LBR-INACTIVE' : 'OTHER-INACTIVE', \n",
    "                     'REP-INACTIVE' : 'OTHER-INACTIVE', \n",
    "                     'UAF-INACTIVE' : 'OTHER-INACTIVE', \n",
    "                     'UNI-INACTIVE' : 'OTHER-INACTIVE',\n",
    "                     'ACN-PREREG' : 'OTHER-PREREG', \n",
    "                     'APV-PREREG' : 'OTHER-PREREG',\n",
    "                     'DEM-PREREG' : 'OTHER-PREREG', \n",
    "                     'GRN-PREREG' : 'OTHER-PREREG', \n",
    "                     'LBR-PREREG' : 'OTHER-PREREG', \n",
    "                     'REP-PREREG' : 'OTHER-PREREG', \n",
    "                     'UAF-PREREG' : 'OTHER-PREREG', \n",
    "                     'UNI-PREREG' : 'OTHER-PREREG',\n",
    "                     'DISTRICT' : 'DISTRICT', \n",
    "                     'COUNTY' : 'COUNTY', \n",
    "                     'DEM-ACTIVE' : 'DEM-ACTIVE', \n",
    "                     'REP-ACTIVE' : 'REP-ACTIVE', \n",
    "                     'TOTAL-ACTIVE' : 'TOTAL-ACTIVE', \n",
    "                     'DEM-INACTIVE' : 'DEM-INACTIVE', \n",
    "                     'REP-INACTIVE' : 'REP-INACTIVE', \n",
    "                     'TOTAL-INACTIVE' : 'TOTAL-INACTIVE', \n",
    "                     'DEM-PREREG' : 'DEM-PREPREG', \n",
    "                     'REP-PREREG' : 'REP-PREREG', \n",
    "                     'TOTAL-PREREG' : 'TOTAL-PREREG',\n",
    "                     'TOTAL' : 'TOTAL'\n",
    "                    }\n",
    "\n",
    "voter_affiliation_df = voter_affiliation_df.groupby(collapsed_columns, axis=1).sum()\n",
    "\n",
    "voter_affiliation_df['COUNTY'] = voter_affiliation_df['COUNTY'].str.upper()\n",
    "print(voter_affiliation_df)"
   ]
  },
  {
   "cell_type": "markdown",
   "metadata": {},
   "source": [
    "## Election Analysis\n",
    "\n",
    "Goal here is to look at active voters in each party versus how the vote broke in each county and Senate District election. This leads to a 3x3 plot that shows the fraction of total active voters in each party for each county and Senate District, and then the fraction of the votes from that county that went to each party, D/R/Other."
   ]
  },
  {
   "cell_type": "code",
   "execution_count": 66,
   "metadata": {},
   "outputs": [
    {
     "name": "stdout",
     "output_type": "stream",
     "text": [
      "Election SD 1 in CHEYENNE county \n",
      "\n",
      "dem vote fraction = 0.13735691987513007\n",
      "rep vote fraction = 0.8626430801248699\n",
      "other vote fraction = 0.0\n",
      "-----\n",
      "Election SD 1 in ELBERT county \n",
      "\n",
      "dem vote fraction = 0.22549224239894247\n",
      "rep vote fraction = 0.7745077576010575\n",
      "other vote fraction = 0.0\n",
      "-----\n",
      "Election SD 1 in KIT CARSON county \n",
      "\n",
      "dem vote fraction = 0.16210873146622734\n",
      "rep vote fraction = 0.8378912685337726\n",
      "other vote fraction = 0.0\n",
      "-----\n",
      "Election SD 1 in LINCOLN county \n",
      "\n",
      "dem vote fraction = 0.1679649464459591\n",
      "rep vote fraction = 0.832035053554041\n",
      "other vote fraction = 0.0\n",
      "-----\n",
      "Election SD 1 in LOGAN county \n",
      "\n",
      "dem vote fraction = 0.17457527826596367\n",
      "rep vote fraction = 0.8254247217340364\n",
      "other vote fraction = 0.0\n",
      "-----\n",
      "Election SD 1 in MORGAN county \n",
      "\n",
      "dem vote fraction = 0.259831996945399\n",
      "rep vote fraction = 0.740168003054601\n",
      "other vote fraction = 0.0\n",
      "-----\n",
      "Election SD 1 in PHILLIPS county \n",
      "\n",
      "dem vote fraction = 0.15753424657534246\n",
      "rep vote fraction = 0.8424657534246576\n",
      "other vote fraction = 0.0\n",
      "-----\n",
      "Election SD 1 in SEDGWICK county \n",
      "\n",
      "dem vote fraction = 0.19131161236424393\n",
      "rep vote fraction = 0.808688387635756\n",
      "other vote fraction = 0.0\n",
      "-----\n",
      "Election SD 1 in WASHINGTON county \n",
      "\n",
      "dem vote fraction = 0.10366361365528726\n",
      "rep vote fraction = 0.8963363863447127\n",
      "other vote fraction = 0.0\n",
      "-----\n",
      "Election SD 1 in WELD county \n",
      "\n",
      "dem vote fraction = 0.23911768156752317\n",
      "rep vote fraction = 0.7608823184324768\n",
      "other vote fraction = 0.0\n",
      "-----\n",
      "Election SD 1 in YUMA county \n",
      "\n",
      "dem vote fraction = 0.14600685938265556\n",
      "rep vote fraction = 0.8539931406173444\n",
      "other vote fraction = 0.0\n",
      "-----\n",
      "Election SD 2 in CLEAR CREEK county \n",
      "\n",
      "dem vote fraction = 0.5598779557589626\n",
      "rep vote fraction = 0.4401220442410374\n",
      "other vote fraction = 0.0\n",
      "-----\n",
      "Election SD 2 in EL PASO county \n",
      "\n",
      "dem vote fraction = 0.32749254367277375\n",
      "rep vote fraction = 0.6725074563272262\n",
      "other vote fraction = 0.0\n",
      "-----\n",
      "Election SD 2 in FREMONT county \n",
      "\n",
      "dem vote fraction = 0.31068264721208966\n",
      "rep vote fraction = 0.6893173527879104\n",
      "other vote fraction = 0.0\n",
      "-----\n",
      "Election SD 2 in PARK county \n",
      "\n",
      "dem vote fraction = 0.3943631669535284\n",
      "rep vote fraction = 0.6056368330464716\n",
      "other vote fraction = 0.0\n",
      "-----\n",
      "Election SD 2 in TELLER county \n",
      "\n",
      "dem vote fraction = 0.3069479695431472\n",
      "rep vote fraction = 0.6930520304568528\n",
      "other vote fraction = 0.0\n",
      "-----\n",
      "Election SD 3 in PUEBLO county \n",
      "\n",
      "dem vote fraction = 0.6336621042400293\n",
      "rep vote fraction = 0.13923102662566325\n",
      "other vote fraction = 0.22710686913430744\n",
      "-----\n",
      "Election SD 5 in CHAFFEE county \n",
      "\n",
      "dem vote fraction = 0.5628219278881531\n",
      "rep vote fraction = 0.43717807211184695\n",
      "other vote fraction = 0.0\n",
      "-----\n",
      "Election SD 5 in DELTA county \n",
      "\n",
      "dem vote fraction = 0.3578441194149469\n",
      "rep vote fraction = 0.6421558805850531\n",
      "other vote fraction = 0.0\n",
      "-----\n",
      "Election SD 5 in EAGLE county \n",
      "\n",
      "dem vote fraction = 0.6871340985571383\n",
      "rep vote fraction = 0.31286590144286175\n",
      "other vote fraction = 0.0\n",
      "-----\n",
      "Election SD 5 in GUNNISON county \n",
      "\n",
      "dem vote fraction = 0.677120703622266\n",
      "rep vote fraction = 0.32287929637773405\n",
      "other vote fraction = 0.0\n",
      "-----\n",
      "Election SD 5 in HINSDALE county \n",
      "\n",
      "dem vote fraction = 0.4288354898336414\n",
      "rep vote fraction = 0.5711645101663586\n",
      "other vote fraction = 0.0\n",
      "-----\n",
      "Election SD 5 in LAKE county \n",
      "\n",
      "dem vote fraction = 0.6815761448349308\n",
      "rep vote fraction = 0.3184238551650692\n",
      "other vote fraction = 0.0\n",
      "-----\n",
      "Election SD 5 in PITKIN county \n",
      "\n",
      "dem vote fraction = 0.7701529557668458\n",
      "rep vote fraction = 0.2298470442331542\n",
      "other vote fraction = 0.0\n",
      "-----\n",
      "Election SD 6 in ARCHULETA county \n",
      "\n",
      "dem vote fraction = 0.41948640483383687\n",
      "rep vote fraction = 0.5805135951661632\n",
      "other vote fraction = 0.0\n",
      "-----\n",
      "Election SD 6 in DOLORES county \n",
      "\n",
      "dem vote fraction = 0.2332155477031802\n",
      "rep vote fraction = 0.7667844522968198\n",
      "other vote fraction = 0.0\n",
      "-----\n",
      "Election SD 6 in LA PLATA county \n",
      "\n",
      "dem vote fraction = 0.5555396404784072\n",
      "rep vote fraction = 0.4444603595215928\n",
      "other vote fraction = 0.0\n",
      "-----\n",
      "Election SD 6 in MONTEZUMA county \n",
      "\n",
      "dem vote fraction = 0.3740637519595889\n",
      "rep vote fraction = 0.625936248040411\n",
      "other vote fraction = 0.0\n",
      "-----\n",
      "Election SD 6 in MONTROSE county \n",
      "\n",
      "dem vote fraction = 0.2846978925241201\n",
      "rep vote fraction = 0.71530210747588\n",
      "other vote fraction = 0.0\n",
      "-----\n",
      "Election SD 6 in OURAY county \n",
      "\n",
      "dem vote fraction = 0.5752944921999363\n",
      "rep vote fraction = 0.42470550780006366\n",
      "other vote fraction = 0.0\n",
      "-----\n",
      "Election SD 6 in SAN JUAN county \n",
      "\n",
      "dem vote fraction = 0.6195899772209568\n",
      "rep vote fraction = 0.3804100227790433\n",
      "other vote fraction = 0.0\n",
      "-----\n",
      "Election SD 6 in SAN MIGUEL county \n",
      "\n",
      "dem vote fraction = 0.748688483637272\n",
      "rep vote fraction = 0.25131151636272797\n",
      "other vote fraction = 0.0\n",
      "-----\n",
      "Election SD 7 in MESA county \n",
      "\n",
      "dem vote fraction = 0.3638098959898996\n",
      "rep vote fraction = 0.6361901040101005\n",
      "other vote fraction = 0.0\n",
      "-----\n",
      "Election SD 9 in EL PASO county \n",
      "\n",
      "dem vote fraction = 0.29681427899991975\n",
      "rep vote fraction = 0.7031857210000803\n",
      "other vote fraction = 0.0\n",
      "-----\n",
      "Election SD 11 in EL PASO county \n",
      "\n",
      "dem vote fraction = 0.6195952670573924\n",
      "rep vote fraction = 0.3804047329426075\n",
      "other vote fraction = 0.0\n",
      "-----\n",
      "Election SD 13 in WELD county \n",
      "\n",
      "dem vote fraction = 0.38135276864278733\n",
      "rep vote fraction = 0.5870767042929518\n",
      "other vote fraction = 0.03157052706426095\n",
      "-----\n",
      "Election SD 15 in LARIMER county \n",
      "\n",
      "dem vote fraction = 0.4690644043493846\n",
      "rep vote fraction = 0.5309355956506153\n",
      "other vote fraction = 0.0\n",
      "-----\n",
      "Election SD 16 in BOULDER county \n",
      "\n",
      "dem vote fraction = 0.7080103359173127\n",
      "rep vote fraction = 0.26395348837209304\n",
      "other vote fraction = 0.028036175710594316\n",
      "-----\n",
      "Election SD 16 in DENVER county \n",
      "\n",
      "dem vote fraction = 0.5805647840531561\n",
      "rep vote fraction = 0.3892328601630927\n",
      "other vote fraction = 0.030202355783751134\n",
      "-----\n",
      "Election SD 16 in GILPIN county \n",
      "\n",
      "dem vote fraction = 0.5355861244019139\n",
      "rep vote fraction = 0.41895933014354064\n",
      "other vote fraction = 0.045454545454545456\n",
      "-----\n",
      "Election SD 16 in JEFFERSON county \n",
      "\n",
      "dem vote fraction = 0.5333738861670996\n",
      "rep vote fraction = 0.4365731759444974\n",
      "other vote fraction = 0.030052937888402985\n",
      "-----\n",
      "Election SD 20 in JEFFERSON county \n",
      "\n",
      "dem vote fraction = 0.5413421437469533\n",
      "rep vote fraction = 0.423571467258842\n",
      "other vote fraction = 0.035086388994204624\n",
      "-----\n",
      "Election SD 22 in JEFFERSON county \n",
      "\n",
      "dem vote fraction = 0.5815839240282445\n",
      "rep vote fraction = 0.4184160759717555\n",
      "other vote fraction = 0.0\n",
      "-----\n",
      "Election SD 24 in ADAMS county \n",
      "\n",
      "dem vote fraction = 0.5231520284676577\n",
      "rep vote fraction = 0.39801785110356286\n",
      "other vote fraction = 0.07883012042877939\n",
      "-----\n",
      "Election SD 30 in DOUGLAS county \n",
      "\n",
      "dem vote fraction = 0.41560375681583434\n",
      "rep vote fraction = 0.527827820614446\n",
      "other vote fraction = 0.05656842256971968\n",
      "-----\n",
      "Election SD 32 in DENVER county \n",
      "\n",
      "dem vote fraction = 0.7199076262373898\n",
      "rep vote fraction = 0.2335543641200859\n",
      "other vote fraction = 0.046538009642524344\n",
      "-----\n",
      "Election SD 34 in DENVER county \n",
      "\n",
      "dem vote fraction = 0.831348538190724\n",
      "rep vote fraction = 0.16865146180927598\n",
      "other vote fraction = 0.0\n",
      "-----\n"
     ]
    }
   ],
   "source": [
    "regs_dict={'D' : [],\n",
    "          'R' : [],\n",
    "          'O' : []}\n",
    "\n",
    "votes_dict={'D' : [],\n",
    "           'R' : [],\n",
    "           'O' : []}\n",
    "\n",
    "tot_votes = []\n",
    "\n",
    "for election in elections:\n",
    "    district_election = state_senate_df[state_senate_df['OFFICE/BALLOT ISSUE NUMBER'] == election]\n",
    "    district_voters   = voter_affiliation_df[voter_affiliation_df['DISTRICT'] == election]\n",
    "    for county in district_election.COUNTY.unique():\n",
    "        # Get total active voters from a district\n",
    "        tot_votes.append(district_voters[district_voters.COUNTY == county]['TOTAL-ACTIVE'].values[0])\n",
    "        \n",
    "        # Party affiliation of active voters as fraction of total active voters\n",
    "        county_voters = (district_voters.COUNTY == county)\n",
    "        Ds = district_voters[county_voters]['DEM-ACTIVE'].values[0]\n",
    "        Rs = district_voters[county_voters]['REP-ACTIVE'].values[0]\n",
    "        Os = district_voters[county_voters]['OTHER-ACTIVE'].values[0]\n",
    "        regs_dict['D'].append(1.*Ds/(Ds+Rs+Os))\n",
    "        regs_dict['R'].append(1.*Rs/(Ds+Rs+Os))\n",
    "        regs_dict['O'].append(1.*Os/(Ds+Rs+Os))\n",
    "        \n",
    "        # Total votes cast\n",
    "        county_election = (district_election['COUNTY']==county)\n",
    "\n",
    "        if len(district_election[county_election][district_election[county_election].PARTY == 'Democratic Party']):\n",
    "            dem_votes = district_election[county_election][district_election[county_election].PARTY == 'Democratic Party']['YES VOTES'].values[0]\n",
    "        if len(district_election[county_election][district_election[county_election].PARTY == 'Republican Party']):\n",
    "            rep_votes = district_election[county_election][district_election[county_election].PARTY == 'Republican Party']['YES VOTES'].values[0]\n",
    "        \n",
    "        other_candidates = (district_election[county_election].PARTY != 'Republican Party') & (district_election[county_election].PARTY != 'Democratic Party')\n",
    "        other_votes = district_election[county_election][other_candidates]['YES VOTES'].sum()\n",
    "        \n",
    "        votes_cast = dem_votes + rep_votes + other_votes\n",
    "        \n",
    "        print('Election {} in {} county \\n'.format(election, county))\n",
    "        print('dem vote fraction = {}'.format(dem_votes/votes_cast))\n",
    "        print('rep vote fraction = {}'.format(rep_votes/votes_cast))\n",
    "        print('other vote fraction = {}'.format(other_votes/votes_cast))\n",
    "        print('-----')\n",
    "        \n",
    "        votes_dict['D'].append(dem_votes/votes_cast)\n",
    "        votes_dict['R'].append(rep_votes/votes_cast)\n",
    "        votes_dict['O'].append(other_votes/votes_cast)"
   ]
  },
  {
   "cell_type": "code",
   "execution_count": 67,
   "metadata": {},
   "outputs": [
    {
     "name": "stdout",
     "output_type": "stream",
     "text": [
      "3\n"
     ]
    },
    {
     "data": {
      "text/plain": [
       "<matplotlib.collections.PathCollection at 0x7fb811878690>"
      ]
     },
     "execution_count": 67,
     "metadata": {},
     "output_type": "execute_result"
    },
    {
     "data": {
      "text/plain": [
       "Text(0.5, 0, 'D registered')"
      ]
     },
     "execution_count": 67,
     "metadata": {},
     "output_type": "execute_result"
    },
    {
     "data": {
      "text/plain": [
       "Text(0, 0.5, 'D votes')"
      ]
     },
     "execution_count": 67,
     "metadata": {},
     "output_type": "execute_result"
    },
    {
     "data": {
      "text/plain": [
       "<matplotlib.collections.PathCollection at 0x7fb811878a50>"
      ]
     },
     "execution_count": 67,
     "metadata": {},
     "output_type": "execute_result"
    },
    {
     "data": {
      "text/plain": [
       "Text(0.5, 0, 'R registered')"
      ]
     },
     "execution_count": 67,
     "metadata": {},
     "output_type": "execute_result"
    },
    {
     "data": {
      "text/plain": [
       "Text(0, 0.5, 'D votes')"
      ]
     },
     "execution_count": 67,
     "metadata": {},
     "output_type": "execute_result"
    },
    {
     "data": {
      "text/plain": [
       "<matplotlib.collections.PathCollection at 0x7fb81186f850>"
      ]
     },
     "execution_count": 67,
     "metadata": {},
     "output_type": "execute_result"
    },
    {
     "data": {
      "text/plain": [
       "Text(0.5, 0, 'O registered')"
      ]
     },
     "execution_count": 67,
     "metadata": {},
     "output_type": "execute_result"
    },
    {
     "data": {
      "text/plain": [
       "Text(0, 0.5, 'D votes')"
      ]
     },
     "execution_count": 67,
     "metadata": {},
     "output_type": "execute_result"
    },
    {
     "data": {
      "text/plain": [
       "<matplotlib.collections.PathCollection at 0x7fb8118894d0>"
      ]
     },
     "execution_count": 67,
     "metadata": {},
     "output_type": "execute_result"
    },
    {
     "data": {
      "text/plain": [
       "Text(0.5, 0, 'D registered')"
      ]
     },
     "execution_count": 67,
     "metadata": {},
     "output_type": "execute_result"
    },
    {
     "data": {
      "text/plain": [
       "Text(0, 0.5, 'R votes')"
      ]
     },
     "execution_count": 67,
     "metadata": {},
     "output_type": "execute_result"
    },
    {
     "data": {
      "text/plain": [
       "<matplotlib.collections.PathCollection at 0x7fb811889a90>"
      ]
     },
     "execution_count": 67,
     "metadata": {},
     "output_type": "execute_result"
    },
    {
     "data": {
      "text/plain": [
       "Text(0.5, 0, 'R registered')"
      ]
     },
     "execution_count": 67,
     "metadata": {},
     "output_type": "execute_result"
    },
    {
     "data": {
      "text/plain": [
       "Text(0, 0.5, 'R votes')"
      ]
     },
     "execution_count": 67,
     "metadata": {},
     "output_type": "execute_result"
    },
    {
     "data": {
      "text/plain": [
       "<matplotlib.collections.PathCollection at 0x7fb8118820d0>"
      ]
     },
     "execution_count": 67,
     "metadata": {},
     "output_type": "execute_result"
    },
    {
     "data": {
      "text/plain": [
       "Text(0.5, 0, 'O registered')"
      ]
     },
     "execution_count": 67,
     "metadata": {},
     "output_type": "execute_result"
    },
    {
     "data": {
      "text/plain": [
       "Text(0, 0.5, 'R votes')"
      ]
     },
     "execution_count": 67,
     "metadata": {},
     "output_type": "execute_result"
    },
    {
     "data": {
      "text/plain": [
       "<matplotlib.collections.PathCollection at 0x7fb811882510>"
      ]
     },
     "execution_count": 67,
     "metadata": {},
     "output_type": "execute_result"
    },
    {
     "data": {
      "text/plain": [
       "Text(0.5, 0, 'D registered')"
      ]
     },
     "execution_count": 67,
     "metadata": {},
     "output_type": "execute_result"
    },
    {
     "data": {
      "text/plain": [
       "Text(0, 0.5, 'O votes')"
      ]
     },
     "execution_count": 67,
     "metadata": {},
     "output_type": "execute_result"
    },
    {
     "data": {
      "text/plain": [
       "<matplotlib.collections.PathCollection at 0x7fb811882c50>"
      ]
     },
     "execution_count": 67,
     "metadata": {},
     "output_type": "execute_result"
    },
    {
     "data": {
      "text/plain": [
       "Text(0.5, 0, 'R registered')"
      ]
     },
     "execution_count": 67,
     "metadata": {},
     "output_type": "execute_result"
    },
    {
     "data": {
      "text/plain": [
       "Text(0, 0.5, 'O votes')"
      ]
     },
     "execution_count": 67,
     "metadata": {},
     "output_type": "execute_result"
    },
    {
     "data": {
      "text/plain": [
       "<matplotlib.collections.PathCollection at 0x7fb811889790>"
      ]
     },
     "execution_count": 67,
     "metadata": {},
     "output_type": "execute_result"
    },
    {
     "data": {
      "text/plain": [
       "Text(0.5, 0, 'O registered')"
      ]
     },
     "execution_count": 67,
     "metadata": {},
     "output_type": "execute_result"
    },
    {
     "data": {
      "text/plain": [
       "Text(0, 0.5, 'O votes')"
      ]
     },
     "execution_count": 67,
     "metadata": {},
     "output_type": "execute_result"
    },
    {
     "data": {
      "image/png": "[encoded data removed]",
      "text/plain": [
       "<Figure size 864x864 with 9 Axes>"
      ]
     },
     "metadata": {
      "needs_background": "light"
     },
     "output_type": "display_data"
    }
   ],
   "source": [
    "fig, ax = plt.subplots(3,3, figsize = (12,12))\n",
    "print(len(ax))\n",
    "ax_idx1 = 0\n",
    "ax_idx2 = 0\n",
    "vote_keys = ['D', 'R', 'O']\n",
    "regs_keys = ['D', 'R', 'O']\n",
    "\n",
    "color_key = {'D' :'tab:blue',\n",
    "            'R' : 'tab:red',\n",
    "            'O' : 'tab:gray'}\n",
    "                       #[ax11, ax12, ax13, ax21, ax22, ax23, ax31, ax32, ax33]\n",
    "#fig.title('Registration as Fraction of Voting Body')\n",
    "\n",
    "for vote_key in vote_keys:\n",
    "    for regs_key in regs_keys:\n",
    "        this_ax = ax[ax_idx1][ax_idx2]\n",
    "        this_ax.scatter(regs_dict[regs_key], votes_dict[vote_key], \n",
    "                           s = tot_votes/min(tot_votes), \n",
    "                           label='{} vs {}'.format(regs_key, vote_key),\n",
    "                            c = color_key[vote_key],\n",
    "                           alpha=0.5)\n",
    "        this_ax.set_xlabel('{} registered'.format(regs_key))\n",
    "        this_ax.set_ylabel('{} votes'.format(vote_key))\n",
    "        ax_idx1 += 1\n",
    "    ax_idx1 = 0\n",
    "    ax_idx2 += 1\n",
    "fig.tight_layout()\n",
    "fig.savefig('votes_vs_regs.png')"
   ]
  },
  {
   "cell_type": "code",
   "execution_count": null,
   "metadata": {},
   "outputs": [],
   "source": []
  }
 ],
 "metadata": {
  "kernelspec": {
   "display_name": "Python 3",
   "language": "python",
   "name": "python3"
  },
  "language_info": {
   "codemirror_mode": {
    "name": "ipython",
    "version": 3
   },
   "file_extension": ".py",
   "mimetype": "text/x-python",
   "name": "python",
   "nbconvert_exporter": "python",
   "pygments_lexer": "ipython3",
   "version": "3.7.7"
  }
 },
 "nbformat": 4,
 "nbformat_minor": 4
}
