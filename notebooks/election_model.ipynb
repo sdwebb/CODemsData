{
 "cells": [
  {
   "cell_type": "markdown",
   "metadata": {},
   "source": [
    "# Predictive Election NN Model\n",
    "\n",
    "Using the cleaned registration and election result data, built a neural network model for predicting outcomes of elections. Input features are:\n",
    "\n",
    "* Partisan registration in upcoming election\n",
    "* Partisan registration in prior election\n",
    "* Outcome of prior election\n",
    "\n",
    "One of the challenges with predicting election outcomes in Colorado is the variability due to about a third of the state being unaffiliated with the two major parties. The behavior of those unaffiliateds with vary by district, so we need a model that can account for that.\n",
    "\n",
    "We have a pretty limited dataset, using the following combinations\n",
    "\n",
    "| Inputs | Output |\n",
    "|---------|----------|\n",
    "|2012 reg., results, 2016 reg. | 2016 results |\n",
    "|2014 reg., results, 2018 reg. | 2018 results |\n",
    "|2016 reg., results, 2020 reg. | 2020 results |\n",
    "\n",
    "with the final goal of using the 2016 reg. and results + the most current 2020 reg. to predict the 2020 results."
   ]
  },
  {
   "cell_type": "code",
   "execution_count": 1,
   "metadata": {},
   "outputs": [],
   "source": [
    "# Useful imports\n",
    "import pandas as pd\n",
    "\n",
    "import tensorflow\n",
    "from tensorflow.keras.models import Sequential\n",
    "from tensorflow.keras.layers import Dense, GaussianNoise\n",
    "from tensorflow import keras\n",
    "\n",
    "from matplotlib import pyplot as plt\n",
    "\n",
    "import numpy as np\n",
    "\n",
    "from tqdm.notebook import tqdm\n",
    "\n",
    "# needed for our loss plots\n",
    "from IPython.display import clear_output\n",
    "\n",
    "%matplotlib inline\n",
    "\n",
    "res_dir = '../data/results/cleaned'\n",
    "reg_dir = '../data/registration/cleaned'\n",
    "\n",
    "build_models = True"
   ]
  },
  {
   "cell_type": "code",
   "execution_count": 2,
   "metadata": {},
   "outputs": [],
   "source": [
    "class PlotLosses(keras.callbacks.Callback):\n",
    "    def on_train_begin(self, logs={}):\n",
    "        \n",
    "        self.i = 0\n",
    "        self.x = []\n",
    "        self.losses = []\n",
    "        self.val_losses = []\n",
    "        \n",
    "        self.fig = plt.figure()      \n",
    "        self.logs = []\n",
    "\n",
    "    def on_epoch_end(self, epoch, logs={}):\n",
    "        \n",
    "        self.logs.append(logs)\n",
    "        self.x.append(self.i)\n",
    "        self.losses.append(logs.get('loss'))\n",
    "        self.val_losses.append(logs.get('val_loss'))\n",
    "        self.i += 1\n",
    "        \n",
    "        clear_output(wait=True)\n",
    "        plt.loglog(self.x, self.losses, label=\"loss\")\n",
    "        plt.loglog(self.x, self.val_losses, label=\"val_loss\")\n",
    "        plt.legend()\n",
    "        plt.ylabel('error')\n",
    "        plt.xlabel('epoch')\n",
    "        plt.show();\n",
    "        \n",
    "plot_losses = PlotLosses()"
   ]
  },
  {
   "cell_type": "markdown",
   "metadata": {},
   "source": [
    "## Data Preparation\n",
    "\n",
    "Need to arrange the cleaned CSV files into the inputs and outputs with appropriate groupings.\n",
    "\n",
    "Senate elections are every four years, so prior results from 2012 will be paired with registration in 2016 to predict the 2016 outcome. Similarly with 2014 and 2018."
   ]
  },
  {
   "cell_type": "markdown",
   "metadata": {},
   "source": [
    "First, define some helper functions that will pre-process the data from the cleaned registration and results files"
   ]
  },
  {
   "cell_type": "code",
   "execution_count": 3,
   "metadata": {},
   "outputs": [],
   "source": [
    "def get_registration(year):\n",
    "    \"\"\"Given an input year, snag the registration data for that year and collapse the affiliation of active\n",
    "    voters into REP, DEM, OTHER\n",
    "    \n",
    "    Returns a dataframe with columns DISTRICT-COUNTY, REP, DEM, OTHERS\"\"\"\n",
    "    \n",
    "    # read in the data\n",
    "    reg_df = pd.read_csv(reg_dir+'/{}.csv'.format(year))\n",
    "    \n",
    "    # filter out where the county value is empty, which is a \"total\" row\n",
    "    reg_df = reg_df[reg_df['COUNTY'].notnull()]\n",
    "    \n",
    "    # isolate only active voters\n",
    "    active_cols = [col for col in reg_df.columns if '-ACTIVE' in col]\n",
    "    \n",
    "    # find third-party/unaffiliated voter data\n",
    "    other_cols = [col for col in active_cols if 'DEM' not in col and 'REP' not in col]\n",
    "    \n",
    "    # combine all unaffiliateds into one column\n",
    "    reg_df['OTHER-ACTIVE'] = reg_df[other_cols].sum(axis=1)\n",
    "    \n",
    "    # combine the district and county labels into one\n",
    "    reg_df['DIST_COUNTY'] = reg_df['DISTRICT'].astype(str) +'-'+ reg_df['COUNTY'].astype(str)\n",
    "\n",
    "    # pick off only the interesting data\n",
    "    relabel_dict = {\n",
    "        'REP-ACTIVE' : 'REP',\n",
    "        'DEM-ACTIVE' : 'DEM',\n",
    "        'OTHER-ACTIVE' : 'OTHER'\n",
    "    }\n",
    "    new_df = reg_df[['DIST_COUNTY', 'REP-ACTIVE', 'DEM-ACTIVE', 'OTHER-ACTIVE']].rename(columns=relabel_dict)\n",
    "    \n",
    "    return new_df\n",
    "    \n",
    "def get_results(year):\n",
    "    \"\"\"Given an input year, snag the results data for that year and collapse the affiliation of active\n",
    "    candidates into REP, DEM, OTHER\n",
    "    \n",
    "    Returns a dataframe with columns DISTRICT-COUNTY, REP, DEM, OTHERS\"\"\"\n",
    "\n",
    "    # read in the results file\n",
    "    df = pd.read_csv(res_dir+'/{}.csv'.format(year))\n",
    "    \n",
    "    # create a DIST-COUNTY label\n",
    "    df['DIST_COUNTY'] = df['DISTRICT'].astype(str) + '-' + df['COUNTY'].astype(str)\n",
    "    \n",
    "    # isolate third party candidates\n",
    "    parties = ['DEMOCRATIC PARTY', 'REPUBLICAN PARTY']\n",
    "    df['PARTY'][~df['PARTY'].isin(parties)] = 'OTHER'\n",
    "    df['PARTY'][df['PARTY'] == 'REPUBLICAN PARTY'] = 'REP'\n",
    "    df['PARTY'][df['PARTY'] == 'DEMOCRATIC PARTY'] = 'DEM'\n",
    "\n",
    "    # sum over precincts, if precincts exist\n",
    "    agg_cols = {'YES VOTES' : 'sum'}\n",
    "    df = df.groupby([df['DIST_COUNTY'], df['PARTY']], as_index=False).aggregate(agg_cols)\n",
    "    \n",
    "    # Make party votes into columns for each DIST_COUNTY\n",
    "    df = df.pivot(index='DIST_COUNTY', columns='PARTY', values='YES VOTES').fillna(0)\n",
    "    df.reset_index(level=0, inplace=True)\n",
    "\n",
    "    return df"
   ]
  },
  {
   "cell_type": "markdown",
   "metadata": {},
   "source": [
    "At this point, it is helpful to combine the all the relevant input and output data for each dist-county into a single input and output dataframe."
   ]
  },
  {
   "cell_type": "code",
   "execution_count": 4,
   "metadata": {},
   "outputs": [
    {
     "name": "stderr",
     "output_type": "stream",
     "text": [
      "/opt/anaconda3/lib/python3.7/site-packages/ipykernel_launcher.py:49: SettingWithCopyWarning: \n",
      "A value is trying to be set on a copy of a slice from a DataFrame\n",
      "\n",
      "See the caveats in the documentation: https://pandas.pydata.org/pandas-docs/stable/user_guide/indexing.html#returning-a-view-versus-a-copy\n",
      "/opt/anaconda3/lib/python3.7/site-packages/ipykernel_launcher.py:50: SettingWithCopyWarning: \n",
      "A value is trying to be set on a copy of a slice from a DataFrame\n",
      "\n",
      "See the caveats in the documentation: https://pandas.pydata.org/pandas-docs/stable/user_guide/indexing.html#returning-a-view-versus-a-copy\n",
      "/opt/anaconda3/lib/python3.7/site-packages/ipykernel_launcher.py:51: SettingWithCopyWarning: \n",
      "A value is trying to be set on a copy of a slice from a DataFrame\n",
      "\n",
      "See the caveats in the documentation: https://pandas.pydata.org/pandas-docs/stable/user_guide/indexing.html#returning-a-view-versus-a-copy\n"
     ]
    }
   ],
   "source": [
    "# Will store the district-county data using the standard key format \n",
    "# 'SD [NUMBER]-[COUNTY]' for the Year of the Predicted Results\n",
    "year_pairs = [['2012', '2016'], ['2014', '2018']]\n",
    "\n",
    "X_set = np.array([], dtype=np.float64).reshape(0,9)\n",
    "Y_set = np.array([], dtype=np.float64).reshape(0,3)\n",
    "\n",
    "dfs = []\n",
    "\n",
    "for pair in year_pairs:\n",
    "    \n",
    "    # The output variables\n",
    "    current_result = get_results(pair[1])\n",
    "    elections = current_result.DIST_COUNTY.unique()\n",
    "    current_result = current_result.rename(\n",
    "        columns={'DEM' : 'DEM_curr_votes',\n",
    "                 'REP' : 'REP_curr_votes',\n",
    "                 'OTHER' : 'OTHER_curr_votes'}\n",
    "    )\n",
    "        \n",
    "    # The input variables\n",
    "    \n",
    "    # current registration\n",
    "    current_reg = get_registration(pair[1])\n",
    "    current_reg = current_reg[current_reg['DIST_COUNTY'].isin(elections)]\n",
    "    \n",
    "    current_reg = current_reg.rename(\n",
    "        columns={'DEM' : 'DEM_curr_reg',\n",
    "                 'REP' : 'REP_curr_reg',\n",
    "                 'OTHER' : 'OTHER_curr_reg'}\n",
    "    )\n",
    "    \n",
    "    # prior election registration\n",
    "    past_reg = get_registration(pair[0])\n",
    "    past_reg = past_reg[past_reg['DIST_COUNTY'].isin(elections)]\n",
    "    \n",
    "    past_reg = past_reg.rename(\n",
    "        columns={'DEM' : 'DEM_past_reg',\n",
    "                 'REP' : 'REP_past_reg',\n",
    "                 'OTHER' : 'OTHER_past_reg'}\n",
    "    )\n",
    "    \n",
    "    # prior election result registration\n",
    "    past_result = get_results(pair[0])\n",
    "    past_result = past_result[past_result['DIST_COUNTY'].isin(elections)]\n",
    "    \n",
    "    past_result = past_result.rename(\n",
    "        columns={'DEM' : 'DEM_past_votes',\n",
    "                 'REP' : 'REP_past_votes',\n",
    "                 'OTHER' : 'OTHER_past_votes'}\n",
    "    )\n",
    "    \n",
    "    # compute fractional current registration\n",
    "    tot_regs = current_reg.sum(axis=1).values\n",
    "    current_reg.DEM_curr_reg  = current_reg.DEM_curr_reg.values/tot_regs\n",
    "    current_reg.REP_curr_reg  = current_reg.REP_curr_reg.values/tot_regs\n",
    "    current_reg.OTHER_curr_reg = current_reg.OTHER_curr_reg.values/tot_regs\n",
    "    \n",
    "    # compute fractional past registration\n",
    "    tot_regs = past_reg.sum(axis=1).values\n",
    "    past_reg.DEM_past_reg  = past_reg.DEM_past_reg.values/tot_regs\n",
    "    past_reg.REP_past_reg  = past_reg.REP_past_reg.values/tot_regs\n",
    "    past_reg.OTHER_past_reg = past_reg.OTHER_past_reg.values/tot_regs\n",
    "    \n",
    "    # compute fractional past votes\n",
    "    tot_votes = past_result.sum(axis=1).values\n",
    "    past_result.DEM_past_votes = past_result.DEM_past_votes.values/tot_votes\n",
    "    past_result.REP_past_votes = past_result.REP_past_votes.values/tot_votes\n",
    "    past_result.OTHER_past_votes = past_result.OTHER_past_votes.values/tot_votes\n",
    "\n",
    "    \n",
    "    X_df = current_reg\n",
    "    X_df = pd.merge(X_df, past_reg, on='DIST_COUNTY')\n",
    "    X_df = pd.merge(X_df, past_result, on='DIST_COUNTY')\n",
    "    \n",
    "    # Now for the outputs\n",
    "    # compute current fractional votes\n",
    "    tot_votes = current_result.sum(axis=1).values\n",
    "    current_result.DEM_curr_votes = current_result.DEM_curr_votes.values/tot_votes\n",
    "    current_result.REP_curr_votes = current_result.REP_curr_votes.values/tot_votes\n",
    "    current_result.OTHER_curr_votes = current_result.OTHER_curr_votes.values/tot_votes\n",
    "\n",
    "    X_df = pd.merge(X_df, current_result, on='DIST_COUNTY')\n",
    "    \n",
    "    dfs.append(X_df)"
   ]
  },
  {
   "cell_type": "code",
   "execution_count": 5,
   "metadata": {},
   "outputs": [
    {
     "name": "stdout",
     "output_type": "stream",
     "text": [
      "    DEM_curr_votes  OTHER_curr_votes  REP_curr_votes\n",
      "0         0.306071          0.000000        0.693929\n",
      "1         0.452293          0.000000        0.547707\n",
      "2         0.426006          0.000000        0.573994\n",
      "3         0.242875          0.000000        0.757125\n",
      "4         0.171046          0.000000        0.828954\n",
      "..             ...               ...             ...\n",
      "42        0.581584          0.000000        0.418416\n",
      "43        0.523152          0.078830        0.398018\n",
      "44        0.415604          0.056568        0.527828\n",
      "45        0.719908          0.046538        0.233554\n",
      "46        0.831349          0.000000        0.168651\n",
      "\n",
      "[89 rows x 3 columns]\n"
     ]
    }
   ],
   "source": [
    "result = pd.concat(dfs)\n",
    "X_cols = ['REP_curr_reg', 'DEM_curr_reg', 'OTHER_curr_reg',\n",
    "          'REP_past_reg', 'DEM_past_reg', 'OTHER_past_reg',\n",
    "          'REP_past_votes', 'DEM_past_votes', 'OTHER_past_votes']\n",
    "Y_cols = ['DEM_curr_votes', 'OTHER_curr_votes', 'REP_curr_votes']\n",
    "\n",
    "print(result[Y_cols])\n",
    "\n",
    "X_set = result[X_cols].values\n",
    "Y_set = result[Y_cols].values"
   ]
  },
  {
   "cell_type": "markdown",
   "metadata": {},
   "source": [
    "## Model Training"
   ]
  },
  {
   "cell_type": "markdown",
   "metadata": {},
   "source": [
    "### Split the Data\n",
    "\n",
    "Split into a train-test split to validate the data"
   ]
  },
  {
   "cell_type": "code",
   "execution_count": 6,
   "metadata": {},
   "outputs": [],
   "source": [
    "from sklearn.model_selection import train_test_split"
   ]
  },
  {
   "cell_type": "code",
   "execution_count": 7,
   "metadata": {},
   "outputs": [
    {
     "name": "stdout",
     "output_type": "stream",
     "text": [
      "(89, 9)\n",
      "(17, 9)\n"
     ]
    }
   ],
   "source": [
    "print(np.shape(X_set))\n",
    "X_test, X_train, Y_test, Y_train = train_test_split(X_set, Y_set, train_size=.2)\n",
    "print(np.shape(X_test))"
   ]
  },
  {
   "cell_type": "markdown",
   "metadata": {},
   "source": [
    "### Train a Model\n",
    "\n",
    "This is a small dataset, so we need to use a very shallow neural network"
   ]
  },
  {
   "cell_type": "code",
   "execution_count": 8,
   "metadata": {},
   "outputs": [],
   "source": [
    "model = Sequential()\n",
    "\n",
    "model.add(Dense(2, input_dim=9, activation='tanh'))\n",
    "model.add(GaussianNoise(stddev=.1))\n",
    "#model.add(Dense(2, activation='tanh'))\n",
    "model.add(Dense(3, activation='sigmoid'))\n",
    "\n",
    "model.compile(loss='mean_squared_error', optimizer='adam')"
   ]
  },
  {
   "cell_type": "code",
   "execution_count": 9,
   "metadata": {},
   "outputs": [
    {
     "data": {
      "image/png": "[encoded data removed]",
      "text/plain": [
       "<Figure size 432x288 with 1 Axes>"
      ]
     },
     "metadata": {
      "needs_background": "light"
     },
     "output_type": "display_data"
    }
   ],
   "source": [
    "hist = model.fit(x=X_train, y=Y_train, \n",
    "                    validation_data= (X_test, Y_test),\n",
    "                    batch_size = 10,\n",
    "                    shuffle = True,\n",
    "                    epochs = 500,\n",
    "                    verbose = False,\n",
    "                    callbacks = [plot_losses])"
   ]
  },
  {
   "cell_type": "code",
   "execution_count": 10,
   "metadata": {},
   "outputs": [
    {
     "data": {
      "text/plain": [
       "<Figure size 432x288 with 0 Axes>"
      ]
     },
     "execution_count": 10,
     "metadata": {},
     "output_type": "execute_result"
    },
    {
     "data": {
      "text/plain": [
       "[<matplotlib.lines.Line2D at 0x7f9a9975f790>]"
      ]
     },
     "execution_count": 10,
     "metadata": {},
     "output_type": "execute_result"
    },
    {
     "data": {
      "text/plain": [
       "[<matplotlib.lines.Line2D at 0x7f9a9c0d25d0>]"
      ]
     },
     "execution_count": 10,
     "metadata": {},
     "output_type": "execute_result"
    },
    {
     "data": {
      "text/plain": [
       "Text(0.5, 0, 'epoch')"
      ]
     },
     "execution_count": 10,
     "metadata": {},
     "output_type": "execute_result"
    },
    {
     "data": {
      "text/plain": [
       "Text(0, 0.5, 'validation loss')"
      ]
     },
     "execution_count": 10,
     "metadata": {},
     "output_type": "execute_result"
    },
    {
     "data": {
      "text/plain": [
       "<matplotlib.legend.Legend at 0x7f9a936d1710>"
      ]
     },
     "execution_count": 10,
     "metadata": {},
     "output_type": "execute_result"
    },
    {
     "data": {
      "image/png": "[encoded data removed]",
      "text/plain": [
       "<Figure size 432x288 with 1 Axes>"
      ]
     },
     "metadata": {
      "needs_background": "light"
     },
     "output_type": "display_data"
    }
   ],
   "source": [
    "plt.figure()\n",
    "plt.loglog(hist.epoch, hist.history['val_loss'], label = 'val. loss')\n",
    "plt.loglog(hist.epoch, hist.history['loss'], label = 'loss')\n",
    "plt.xlabel('epoch')\n",
    "plt.ylabel('validation loss')\n",
    "plt.legend()\n",
    "plt.tight_layout()\n",
    "plt.savefig('election_model.png')"
   ]
  },
  {
   "cell_type": "markdown",
   "metadata": {},
   "source": [
    "### Train an ensemble of models\n",
    "\n",
    "Because of the small number of data points, uncertainty quantification is important. So, build an ensemble of models from different training data, and then make the predictions using the average/spread of each model.\n",
    "\n",
    "For a 20% train-test split, there are $\\binom{89}{71} \\approx 3 \\times 10^{18}$ possible combinations. So, we aren't too worried about repeats."
   ]
  },
  {
   "cell_type": "code",
   "execution_count": null,
   "metadata": {},
   "outputs": [
    {
     "data": {
      "application/vnd.jupyter.widget-view+json": {
       "model_id": "00de6bb6b8ea41e6a2cc4df8760bbc0b",
       "version_major": 2,
       "version_minor": 0
      },
      "text/plain": [
       "HBox(children=(FloatProgress(value=0.0, max=1000.0), HTML(value='')))"
      ]
     },
     "metadata": {},
     "output_type": "display_data"
    }
   ],
   "source": [
    "if build_models:\n",
    "    n_models = 1000\n",
    "    train_size = .3\n",
    "    models_dict = {}\n",
    "\n",
    "    losses = []\n",
    "    vals = []\n",
    "\n",
    "    for model_num in tqdm(range(n_models)):\n",
    "\n",
    "        X_test, X_train, Y_test, Y_train = train_test_split(X_set, Y_set, train_size=train_size)\n",
    "        model = Sequential()\n",
    "\n",
    "        model.add(Dense(2, input_dim=9, activation='tanh'))\n",
    "        model.add(GaussianNoise(stddev=.1))\n",
    "        model.add(Dense(3, activation='sigmoid'))\n",
    "\n",
    "        model.compile(loss='mean_squared_error', optimizer='adam')\n",
    "\n",
    "        hist = model.fit(x=X_train, y=Y_train, \n",
    "                        validation_data= (X_test, Y_test),\n",
    "                        batch_size = 20,\n",
    "                        shuffle = True,\n",
    "                        epochs = 500,\n",
    "                        verbose = False)\n",
    "\n",
    "        models_dict['model {}'.format(model_num)] = model\n",
    "        losses.append(hist.history['loss'][-1])\n",
    "        vals.append(hist.history['val_loss'][-1])\n",
    "\n",
    "    #    print('final loss = {}'.format(hist.history['loss'][-1]))\n",
    "    #    print('final val. loss = {}\\n'.format(hist.history['val_loss'][-1]))\n",
    "    for model in models_dict:\n",
    "    \n",
    "        models_dict[model].save('./model/{}'.format(model))"
   ]
  },
  {
   "cell_type": "code",
   "execution_count": null,
   "metadata": {},
   "outputs": [],
   "source": [
    "plt.scatter(losses, vals)"
   ]
  },
  {
   "cell_type": "markdown",
   "metadata": {},
   "source": [
    "## 2020 Predictions"
   ]
  },
  {
   "cell_type": "code",
   "execution_count": null,
   "metadata": {},
   "outputs": [],
   "source": [
    "pair = ['2016', '2020']\n",
    "\n",
    "# The input variables\n",
    "\n",
    "# prior election result registration\n",
    "past_result = get_results(pair[0])\n",
    "elections = past_result['DIST_COUNTY'].unique()\n",
    "past_result = past_result[past_result['DIST_COUNTY'].isin(elections)]\n",
    "\n",
    "past_result = past_result.rename(\n",
    "    columns={'DEM' : 'DEM_past_votes',\n",
    "             'REP' : 'REP_past_votes',\n",
    "             'OTHER' : 'OTHER_past_votes'}\n",
    ")\n",
    "\n",
    "# current registration\n",
    "current_reg = get_registration(pair[1])\n",
    "current_reg = current_reg[current_reg['DIST_COUNTY'].isin(elections)]\n",
    "\n",
    "current_reg = current_reg.rename(\n",
    "    columns={'DEM' : 'DEM_curr_reg',\n",
    "             'REP' : 'REP_curr_reg',\n",
    "             'OTHER' : 'OTHER_curr_reg'}\n",
    ")\n",
    "\n",
    "# prior election registration\n",
    "past_reg = get_registration(pair[0])\n",
    "past_reg = past_reg[past_reg['DIST_COUNTY'].isin(elections)]\n",
    "\n",
    "past_reg = past_reg.rename(\n",
    "    columns={'DEM' : 'DEM_past_reg',\n",
    "             'REP' : 'REP_past_reg',\n",
    "             'OTHER' : 'OTHER_past_reg'}\n",
    ")\n",
    "\n",
    "# compute fractional current registration\n",
    "tot_regs = current_reg.sum(axis=1).values\n",
    "current_reg.DEM_curr_reg  = current_reg.DEM_curr_reg.values/tot_regs\n",
    "current_reg.REP_curr_reg  = current_reg.REP_curr_reg.values/tot_regs\n",
    "current_reg.OTHER_curr_reg = current_reg.OTHER_curr_reg.values/tot_regs\n",
    "\n",
    "# compute fractional past registration\n",
    "tot_regs = past_reg.sum(axis=1).values\n",
    "past_reg.DEM_past_reg  = past_reg.DEM_past_reg.values/tot_regs\n",
    "past_reg.REP_past_reg  = past_reg.REP_past_reg.values/tot_regs\n",
    "past_reg.OTHER_past_reg = past_reg.OTHER_past_reg.values/tot_regs\n",
    "\n",
    "# compute fractional past votes\n",
    "tot_votes = past_result.sum(axis=1).values\n",
    "past_result.DEM_past_votes = past_result.DEM_past_votes.values/tot_votes\n",
    "past_result.REP_past_votes = past_result.REP_past_votes.values/tot_votes\n",
    "past_result.OTHER_past_votes = past_result.OTHER_past_votes.values/tot_votes\n",
    "\n",
    "\n",
    "X_df = current_reg\n",
    "X_df = pd.merge(X_df, past_reg, on='DIST_COUNTY')\n",
    "X_df = pd.merge(X_df, past_result, on='DIST_COUNTY')\n",
    "\n",
    "X_pred = X_df[X_cols].values\n",
    "print(X_pred)"
   ]
  },
  {
   "cell_type": "markdown",
   "metadata": {},
   "source": [
    "Iterate over all models, get the predicted vote totals by district-county for each model, and store. We will eventually compute total and spread of votes in each district"
   ]
  },
  {
   "cell_type": "code",
   "execution_count": null,
   "metadata": {},
   "outputs": [],
   "source": [
    "import glob\n",
    "\n",
    "models = glob.glob('./model/*')\n",
    "\n",
    "current_reg = get_registration(pair[1])\n",
    "current_reg = current_reg[current_reg['DIST_COUNTY'].isin(elections)]\n",
    "tot_regs = current_reg.sum(axis=1).values\n",
    "tot_regs = np.reshape(tot_regs, (len(tot_regs),1))\n",
    "\n",
    "preds_array = []\n",
    "\n",
    "for model in tqdm(models):\n",
    "    this_model = keras.models.load_model(model)\n",
    "    preds = this_model.predict(X_pred)\n",
    "    preds_array.append(preds*tot_regs)"
   ]
  },
  {
   "cell_type": "code",
   "execution_count": null,
   "metadata": {},
   "outputs": [],
   "source": [
    "mean_df = pd.DataFrame(data = {'DIST_COUNTY' : current_reg.DIST_COUNTY.values,\n",
    "                              'DEM' : np.mean(preds_array, axis=0)[:,0],\n",
    "                              'REP' : np.mean(preds_array, axis=0)[:,2],\n",
    "                              'OTHER' : np.mean(preds_array, axis=0)[:,1]})\n",
    "\n",
    "print(mean_df)\n",
    "\n",
    "std_df = pd.DataFrame(data = {'DIST_COUNTY' : current_reg.DIST_COUNTY.values,\n",
    "                              'DEM' : np.std(preds_array, axis=0)[:,0],\n",
    "                              'REP' : np.std(preds_array, axis=0)[:,2],\n",
    "                              'OTHER' : np.std(preds_array, axis=0)[:,1]})\n",
    "\n",
    "print(std_df)"
   ]
  },
  {
   "cell_type": "code",
   "execution_count": null,
   "metadata": {},
   "outputs": [],
   "source": [
    "mean_df.plot.bar(x='DIST_COUNTY')\n",
    "std_df.plot.bar(x='DIST_COUNTY')"
   ]
  },
  {
   "cell_type": "code",
   "execution_count": null,
   "metadata": {},
   "outputs": [],
   "source": [
    "mean_df['DISTRICT'] = mean_df['DIST_COUNTY'].str.split('-').str[0]\n",
    "std_df['DISTRICT'] = std_df['DIST_COUNTY'].str.split('-').str[0]\n",
    "\n",
    "mean_df['COUNTY'] = mean_df['DIST_COUNTY'].str.split('-').str[1]\n",
    "std_df['COUNTY'] = std_df['DIST_COUNTY'].str.split('-').str[1]\n",
    "\n",
    "print(mean_df)\n",
    "print(std_df)"
   ]
  },
  {
   "cell_type": "markdown",
   "metadata": {},
   "source": [
    "### Election Predictions\n",
    "\n",
    "Here are the total vote predictions for each district"
   ]
  },
  {
   "cell_type": "code",
   "execution_count": null,
   "metadata": {},
   "outputs": [],
   "source": [
    "import matplotlib as mpl\n",
    "\n",
    "# Use the Gill Sans font\n",
    "import matplotlib.pylab as pylab\n",
    "\n",
    "import matplotlib.font_manager as fm\n",
    "font = fm.FontProperties(\n",
    "       family = 'Gill Sans',\n",
    "       fname = '/usr/share/fonts/truetype/adf/GilliusADF-Regular.otf')\n",
    "params = {\n",
    "         'font.size': 14,\n",
    "         'font.style': 'italic',\n",
    "         'legend.fontsize': 14,\n",
    "         'figure.figsize': (9.5, 6),\n",
    "         'axes.labelsize': 14,\n",
    "         'axes.titlesize': 16,\n",
    "         'xtick.labelsize': 14,\n",
    "         'ytick.labelsize': 14,\n",
    "         'axes.spines.right' : False,\n",
    "         'axes.spines.left' : False,\n",
    "         'axes.spines.top' : False,\n",
    "         'axes.spines.bottom' : False,\n",
    "         'font.family' : 'Gill Sans'}\n",
    "pylab.rcParams.update(params)\n",
    "\n",
    "\n",
    "width = .25\n",
    "\n",
    "for district in mean_df.DISTRICT.unique():\n",
    "    fig, ax = plt.subplots()\n",
    "    \n",
    "    ax.set_title('District {} Predictions'.format(district));\n",
    "    \n",
    "    counties = mean_df[mean_df.DISTRICT == district].COUNTY.values\n",
    "    \n",
    "    dem_votes   = mean_df[mean_df.DISTRICT == district].DEM.values\n",
    "    rep_votes   = mean_df[mean_df.DISTRICT == district].REP.values\n",
    "    other_votes = mean_df[mean_df.DISTRICT == district].OTHER.values\n",
    "    \n",
    "    dem_std   = std_df[mean_df.DISTRICT == district].DEM.values\n",
    "    rep_std   = std_df[mean_df.DISTRICT == district].REP.values\n",
    "    other_std = std_df[mean_df.DISTRICT == district].OTHER.values\n",
    "    \n",
    "    counties = np.append(counties, 'TOTAL')\n",
    "    \n",
    "    dem_votes = np.append(dem_votes, np.sum(dem_votes))\n",
    "    dem_std = np.append(dem_std, np.sum(dem_std))\n",
    "    \n",
    "    rep_votes = np.append(rep_votes, np.sum(rep_votes))\n",
    "    rep_std = np.append(rep_std, np.sum(rep_std))\n",
    "    \n",
    "    other_votes = np.append(other_votes, np.sum(other_votes))\n",
    "    other_std = np.append(other_std, np.sum(other_std))\n",
    "    \n",
    "    \n",
    "    x = np.arange(len(counties))\n",
    "    \n",
    "    ax.bar(x - width, dem_votes, width, label=counties, yerr=2.*dem_std, color='tab:blue', alpha=0.5);\n",
    "    ax.bar(x, rep_votes, width, label=counties, yerr = 2.*rep_std, color='tab:red', alpha=0.5);\n",
    "    ax.bar(x+width, other_votes, width, label=counties, yerr = 2.*other_std, color='tab:green', alpha=0.5);\n",
    "    \n",
    "    ax.set_xticks(x)\n",
    "    for tick in ax.get_xticklabels():\n",
    "        tick.set_rotation(85)\n",
    "    ax.set_xticklabels(counties)\n",
    "    ax.get_yaxis().set_major_formatter(\n",
    "        mpl.ticker.FuncFormatter(lambda x, p: format(int(x), ',')))\n",
    "    \n",
    "    ax.annotate(format(int(dem_votes[-1]), ','),\n",
    "            xy=(x[-1]-width, dem_votes[-1]),\n",
    "            xytext=(0, 3),  # 3 points vertical offset\n",
    "            textcoords=\"offset points\",\n",
    "            ha='center', va='bottom');\n",
    "    \n",
    "    ax.annotate(format(int(rep_votes[-1]), ','),\n",
    "            xy=(x[-1], rep_votes[-1]),\n",
    "            xytext=(0, 3),  # 3 points vertical offset\n",
    "            textcoords=\"offset points\",\n",
    "            ha='center', va='bottom');\n",
    "    \n",
    "    ax.annotate(format(int(other_votes[-1]), ','),\n",
    "            xy=(x[-1]+width, other_votes[-1]),\n",
    "            xytext=(0, 3),  # 3 points vertical offset\n",
    "            textcoords=\"offset points\",\n",
    "            ha='center', va='bottom');\n",
    "    \n",
    "    \n",
    "    fig.tight_layout()\n",
    "    \n",
    "    fig.savefig('figs/forecasts/{}_projection.png'.format(district))"
   ]
  },
  {
   "cell_type": "code",
   "execution_count": null,
   "metadata": {},
   "outputs": [],
   "source": []
  }
 ],
 "metadata": {
  "kernelspec": {
   "display_name": "Python 3",
   "language": "python",
   "name": "python3"
  },
  "language_info": {
   "codemirror_mode": {
    "name": "ipython",
    "version": 3
   },
   "file_extension": ".py",
   "mimetype": "text/x-python",
   "name": "python",
   "nbconvert_exporter": "python",
   "pygments_lexer": "ipython3",
   "version": "3.7.7"
  }
 },
 "nbformat": 4,
 "nbformat_minor": 4
}
