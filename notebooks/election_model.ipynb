{
 "cells": [
  {
   "cell_type": "markdown",
   "metadata": {},
   "source": [
    "# Predictive Election NN Model\n",
    "\n",
    "Using the cleaned registration and election result data, built a neural network model for predicting outcomes of elections. Input features are:\n",
    "\n",
    "* Partisan registration in upcoming election\n",
    "* Partisan registration in prior election\n",
    "* Outcome of prior election\n",
    "\n",
    "One of the challenges with predicting election outcomes in Colorado is the variability due to about a third of the state being unaffiliated with the two major parties. The behavior of those unaffiliateds with vary by district, so we need a model that can account for that.\n",
    "\n",
    "We have a pretty limited dataset, using the following combinations\n",
    "\n",
    "| Inputs | Output |\n",
    "|---------|----------|\n",
    "|2012 reg., results, 2016 reg. | 2016 results |\n",
    "|2014 reg., results, 2018 reg. | 2018 results |\n",
    "|2016 reg., results, 2020 reg. | 2020 results |\n",
    "\n",
    "with the final goal of using the 2016 reg. and results + the most current 2020 reg. to predict the 2020 results."
   ]
  },
  {
   "cell_type": "code",
   "execution_count": 3,
   "metadata": {},
   "outputs": [],
   "source": [
    "# Useful imports\n",
    "import pandas as pd\n",
    "\n",
    "from tensorflow import keras\n",
    "\n",
    "res_dir = '../data/results/cleaned'\n",
    "reg_dir = '../data/registration/cleaned'"
   ]
  },
  {
   "cell_type": "markdown",
   "metadata": {},
   "source": [
    "## Data Preparation\n",
    "\n",
    "Need to arrange the cleaned CSV files into the inputs and outputs with appropriate groupings.\n",
    "\n",
    "Senate elections are every four years, so prior results from 2012 will be paired with registration in 2016 to predict the 2016 outcome. Similarly with 2014 and 2018."
   ]
  },
  {
   "cell_type": "markdown",
   "metadata": {},
   "source": [
    "First, define some helper functions that will pre-process the data from the cleaned registration and results files"
   ]
  },
  {
   "cell_type": "code",
   "execution_count": 139,
   "metadata": {},
   "outputs": [],
   "source": [
    "def get_registration(year):\n",
    "    \"\"\"Given an input year, snag the registration data for that year and collapse the affiliation of active\n",
    "    voters into REP, DEM, OTHER\n",
    "    \n",
    "    Returns a dataframe with columns DISTRICT-COUNTY, REP, DEM, OTHERS\"\"\"\n",
    "    \n",
    "    # read in the data\n",
    "    reg_df = pd.read_csv(reg_dir+'/{}.csv'.format(2014))\n",
    "    \n",
    "    # isolate only active voters\n",
    "    active_cols = [col for col in reg_df.columns if '-ACTIVE' in col]\n",
    "    \n",
    "    # find third-party/unaffiliated voter data\n",
    "    other_cols = [col for col in active_cols if 'DEM' not in col and 'REP' not in col]\n",
    "    \n",
    "    # combine all unaffiliateds into one column\n",
    "    reg_df['OTHER-ACTIVE'] = reg_df[other_cols].sum(axis=1)\n",
    "    \n",
    "    # combine the district and county labels into one\n",
    "    reg_df['DIST-COUNTY'] = reg_df['DISTRICT'].astype(str) +'-'+ reg_df['COUNTY'].astype(str)\n",
    "\n",
    "    # pick off only the interesting data\n",
    "    relabel_dict = {\n",
    "        'REP-ACTIVE' : 'REP',\n",
    "        'DEM-ACTIVE' : 'DEM',\n",
    "        'OTHER-ACTIVE' : 'OTHER'\n",
    "    }\n",
    "    new_df = reg_df[['COUNTY-DIST', 'REP-ACTIVE', 'DEM-ACTIVE', 'OTHER-ACTIVE']].rename(columns=relabel_dict)\n",
    "    \n",
    "    return new_df\n",
    "    \n",
    "def get_results(year):\n",
    "    \"\"\"Given an input year, snag the results data for that year and collapse the affiliation of active\n",
    "    candidates into REP, DEM, OTHER\n",
    "    \n",
    "    Returns a dataframe with columns DISTRICT-COUNTY, REP, DEM, OTHERS\"\"\"\n",
    "\n",
    "    # read in the results file\n",
    "    df = pd.read_csv(res_dir+'/{}.csv'.format(year))\n",
    "    \n",
    "    # create a DIST-COUNTY label\n",
    "    df['COUNTY-DIST'] = df['DISTRICT'].astype(str) + '-' + df['COUNTY'].astype(str)\n",
    "    \n",
    "    # isolate third party candidates\n",
    "    parties = ['DEMOCRATIC PARTY', 'REPUBLICAN PARTY']\n",
    "    df['PARTY'][~df['PARTY'].isin(parties)] = 'OTHER'\n",
    "    df['PARTY'][df['PARTY'] == 'REPUBLICAN PARTY'] = 'REP'\n",
    "    df['PARTY'][df['PARTY'] == 'DEMOCRATIC PARTY'] = 'DEM'\n",
    "\n",
    "    # sum over precincts, if precincts exist\n",
    "    agg_cols = {'YES VOTES' : 'sum'}\n",
    "    df = df.groupby([df['COUNTY-DIST'], df['PARTY']], as_index=False).aggregate(agg_cols)\n",
    "    \n",
    "    return df"
   ]
  },
  {
   "cell_type": "code",
   "execution_count": null,
   "metadata": {},
   "outputs": [],
   "source": [
    "# Will store the district-county data using the standard key format \n",
    "# 'SD [NUMBER]-[COUNTY]-[YEAR]' for the Year of the Predicted Results\n",
    "year_pairs = [['2012', '2016'], ['2014', '2018']]\n",
    "input_dict = {}\n",
    "results_dict = {}\n",
    "for pair in year_pairs:\n",
    "    input_array = [0,0,0,0,0,0,0,0,0]  # prior reg., prior results, current reg.\n",
    "    output_array = [0,0,0]             # current results\n",
    "    "
   ]
  },
  {
   "cell_type": "markdown",
   "metadata": {},
   "source": [
    "## Model Training"
   ]
  },
  {
   "cell_type": "markdown",
   "metadata": {},
   "source": [
    "## 2020 Predictions"
   ]
  },
  {
   "cell_type": "code",
   "execution_count": null,
   "metadata": {},
   "outputs": [],
   "source": []
  }
 ],
 "metadata": {
  "kernelspec": {
   "display_name": "Python 3",
   "language": "python",
   "name": "python3"
  },
  "language_info": {
   "codemirror_mode": {
    "name": "ipython",
    "version": 3
   },
   "file_extension": ".py",
   "mimetype": "text/x-python",
   "name": "python",
   "nbconvert_exporter": "python",
   "pygments_lexer": "ipython3",
   "version": "3.7.7"
  }
 },
 "nbformat": 4,
 "nbformat_minor": 4
}
