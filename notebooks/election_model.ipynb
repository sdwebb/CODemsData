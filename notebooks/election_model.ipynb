{
 "cells": [
  {
   "cell_type": "markdown",
   "metadata": {},
   "source": [
    "# Predictive Election NN Model\n",
    "\n",
    "Using the cleaned registration and election result data, built a neural network model for predicting outcomes of elections. Input features are:\n",
    "\n",
    "* Partisan registration in upcoming election\n",
    "* Partisan registration in prior election\n",
    "* Outcome of prior election\n",
    "\n",
    "One of the challenges with predicting election outcomes in Colorado is the variability due to about a third of the state being unaffiliated with the two major parties. The behavior of those unaffiliateds with vary by district, so we need a model that can account for that.\n",
    "\n",
    "We have a pretty limited dataset, using the following combinations\n",
    "\n",
    "| Inputs | Output |\n",
    "|---------|----------|\n",
    "|2012 reg., results, 2016 reg. | 2016 results |\n",
    "|2014 reg., results, 2018 reg. | 2018 results |\n",
    "|2016 reg., results, 2020 reg. | 2020 results |\n",
    "\n",
    "with the final goal of using the 2016 reg. and results + the most current 2020 reg. to predict the 2020 results."
   ]
  },
  {
   "cell_type": "code",
   "execution_count": 1,
   "metadata": {},
   "outputs": [],
   "source": [
    "# Useful imports\n",
    "import pandas as pd\n",
    "\n",
    "import tensorflow\n",
    "from tensorflow.keras.models import Sequential\n",
    "from tensorflow.keras.layers import Dense\n",
    "from tensorflow import keras\n",
    "\n",
    "from matplotlib import pyplot as plt\n",
    "\n",
    "import numpy as np\n",
    "\n",
    "from tqdm.notebook import tqdm\n",
    "\n",
    "%matplotlib inline\n",
    "\n",
    "res_dir = '../data/results/cleaned'\n",
    "reg_dir = '../data/registration/cleaned'\n",
    "\n",
    "build_models = False"
   ]
  },
  {
   "cell_type": "markdown",
   "metadata": {},
   "source": [
    "## Data Preparation\n",
    "\n",
    "Need to arrange the cleaned CSV files into the inputs and outputs with appropriate groupings.\n",
    "\n",
    "Senate elections are every four years, so prior results from 2012 will be paired with registration in 2016 to predict the 2016 outcome. Similarly with 2014 and 2018."
   ]
  },
  {
   "cell_type": "markdown",
   "metadata": {},
   "source": [
    "First, define some helper functions that will pre-process the data from the cleaned registration and results files"
   ]
  },
  {
   "cell_type": "code",
   "execution_count": 2,
   "metadata": {},
   "outputs": [],
   "source": [
    "def get_registration(year):\n",
    "    \"\"\"Given an input year, snag the registration data for that year and collapse the affiliation of active\n",
    "    voters into REP, DEM, OTHER\n",
    "    \n",
    "    Returns a dataframe with columns DISTRICT-COUNTY, REP, DEM, OTHERS\"\"\"\n",
    "    \n",
    "    # read in the data\n",
    "    reg_df = pd.read_csv(reg_dir+'/{}.csv'.format(year))\n",
    "    \n",
    "    # filter out where the county value is empty, which is a \"total\" row\n",
    "    reg_df = reg_df[reg_df['COUNTY'].notnull()]\n",
    "    \n",
    "    # isolate only active voters\n",
    "    active_cols = [col for col in reg_df.columns if '-ACTIVE' in col]\n",
    "    \n",
    "    # find third-party/unaffiliated voter data\n",
    "    other_cols = [col for col in active_cols if 'DEM' not in col and 'REP' not in col]\n",
    "    \n",
    "    # combine all unaffiliateds into one column\n",
    "    reg_df['OTHER-ACTIVE'] = reg_df[other_cols].sum(axis=1)\n",
    "    \n",
    "    # combine the district and county labels into one\n",
    "    reg_df['DIST_COUNTY'] = reg_df['DISTRICT'].astype(str) +'-'+ reg_df['COUNTY'].astype(str)\n",
    "\n",
    "    # pick off only the interesting data\n",
    "    relabel_dict = {\n",
    "        'REP-ACTIVE' : 'REP',\n",
    "        'DEM-ACTIVE' : 'DEM',\n",
    "        'OTHER-ACTIVE' : 'OTHER'\n",
    "    }\n",
    "    new_df = reg_df[['DIST_COUNTY', 'REP-ACTIVE', 'DEM-ACTIVE', 'OTHER-ACTIVE']].rename(columns=relabel_dict)\n",
    "    \n",
    "    return new_df\n",
    "    \n",
    "def get_results(year):\n",
    "    \"\"\"Given an input year, snag the results data for that year and collapse the affiliation of active\n",
    "    candidates into REP, DEM, OTHER\n",
    "    \n",
    "    Returns a dataframe with columns DISTRICT-COUNTY, REP, DEM, OTHERS\"\"\"\n",
    "\n",
    "    # read in the results file\n",
    "    df = pd.read_csv(res_dir+'/{}.csv'.format(year))\n",
    "    \n",
    "    # create a DIST-COUNTY label\n",
    "    df['DIST_COUNTY'] = df['DISTRICT'].astype(str) + '-' + df['COUNTY'].astype(str)\n",
    "    \n",
    "    # isolate third party candidates\n",
    "    parties = ['DEMOCRATIC PARTY', 'REPUBLICAN PARTY']\n",
    "    df['PARTY'][~df['PARTY'].isin(parties)] = 'OTHER'\n",
    "    df['PARTY'][df['PARTY'] == 'REPUBLICAN PARTY'] = 'REP'\n",
    "    df['PARTY'][df['PARTY'] == 'DEMOCRATIC PARTY'] = 'DEM'\n",
    "\n",
    "    # sum over precincts, if precincts exist\n",
    "    agg_cols = {'YES VOTES' : 'sum'}\n",
    "    df = df.groupby([df['DIST_COUNTY'], df['PARTY']], as_index=False).aggregate(agg_cols)\n",
    "    \n",
    "    # Make party votes into columns for each DIST_COUNTY\n",
    "    df = df.pivot(index='DIST_COUNTY', columns='PARTY', values='YES VOTES').fillna(0)\n",
    "    df.reset_index(level=0, inplace=True)\n",
    "\n",
    "    return df"
   ]
  },
  {
   "cell_type": "markdown",
   "metadata": {},
   "source": [
    "At this point, it is helpful to combine the all the relevant input and output data for each dist-county into a single input and output dataframe."
   ]
  },
  {
   "cell_type": "code",
   "execution_count": 3,
   "metadata": {},
   "outputs": [
    {
     "name": "stderr",
     "output_type": "stream",
     "text": [
      "/opt/anaconda3/lib/python3.7/site-packages/ipykernel_launcher.py:49: SettingWithCopyWarning: \n",
      "A value is trying to be set on a copy of a slice from a DataFrame\n",
      "\n",
      "See the caveats in the documentation: https://pandas.pydata.org/pandas-docs/stable/user_guide/indexing.html#returning-a-view-versus-a-copy\n",
      "/opt/anaconda3/lib/python3.7/site-packages/ipykernel_launcher.py:50: SettingWithCopyWarning: \n",
      "A value is trying to be set on a copy of a slice from a DataFrame\n",
      "\n",
      "See the caveats in the documentation: https://pandas.pydata.org/pandas-docs/stable/user_guide/indexing.html#returning-a-view-versus-a-copy\n",
      "/opt/anaconda3/lib/python3.7/site-packages/ipykernel_launcher.py:51: SettingWithCopyWarning: \n",
      "A value is trying to be set on a copy of a slice from a DataFrame\n",
      "\n",
      "See the caveats in the documentation: https://pandas.pydata.org/pandas-docs/stable/user_guide/indexing.html#returning-a-view-versus-a-copy\n"
     ]
    }
   ],
   "source": [
    "# Will store the district-county data using the standard key format \n",
    "# 'SD [NUMBER]-[COUNTY]' for the Year of the Predicted Results\n",
    "year_pairs = [['2012', '2016'], ['2014', '2018']]\n",
    "\n",
    "X_set = np.array([], dtype=np.float64).reshape(0,9)\n",
    "Y_set = np.array([], dtype=np.float64).reshape(0,3)\n",
    "\n",
    "for pair in year_pairs:\n",
    "    \n",
    "    # The output variables\n",
    "    current_result = get_results(pair[1])\n",
    "    elections = current_result.DIST_COUNTY.unique()\n",
    "    \n",
    "    # The input variables\n",
    "    \n",
    "    # current registration\n",
    "    current_reg = get_registration(pair[1])\n",
    "    current_reg = current_reg[current_reg['DIST_COUNTY'].isin(elections)]\n",
    "    \n",
    "    # prior election registration\n",
    "    past_reg = get_registration(pair[0])\n",
    "    past_reg = past_reg[past_reg['DIST_COUNTY'].isin(elections)]\n",
    "    \n",
    "    # prior election result registration\n",
    "    past_result = get_results(pair[0])\n",
    "    past_result = past_result[past_result['DIST_COUNTY'].isin(elections)]\n",
    "    \n",
    "    # compute fractional current registration\n",
    "    tot_regs = current_reg.sum(axis=1).values\n",
    "    dem_regs = current_reg.DEM.values\n",
    "    rep_regs = current_reg.REP.values\n",
    "    other_regs = current_reg.OTHER.values\n",
    "\n",
    "    reg_frac_curr_d = dem_regs/tot_regs\n",
    "    reg_frac_curr_r = rep_regs/tot_regs\n",
    "    reg_frac_curr_o = other_regs/tot_regs\n",
    "\n",
    "    # compute fractional past registration\n",
    "    tot_regs = past_reg.sum(axis=1).values\n",
    "    dem_regs = past_reg.DEM.values\n",
    "    rep_regs = past_reg.REP.values\n",
    "    other_regs = past_reg.OTHER.values\n",
    "\n",
    "    reg_frac_past_d = dem_regs/tot_regs\n",
    "    reg_frac_past_r = rep_regs/tot_regs\n",
    "    reg_frac_past_o = other_regs/tot_regs\n",
    "    \n",
    "    # compute fractional past votes\n",
    "    dem_votes = past_result.DEM.values\n",
    "    rep_votes = past_result.REP.values\n",
    "    other_votes = past_result.OTHER.values\n",
    "    tot_votes = dem_votes + rep_votes + other_votes\n",
    "\n",
    "    votes_frac_past_d = dem_votes/tot_votes\n",
    "    votes_frac_past_r = rep_votes/tot_votes\n",
    "    votes_frac_past_o = other_votes/tot_votes\n",
    "    \n",
    "    X = np.array([reg_frac_curr_d, reg_frac_curr_r, reg_frac_curr_o,\n",
    "               reg_frac_past_d, reg_frac_past_r, reg_frac_past_o,\n",
    "               votes_frac_past_d, votes_frac_past_r, votes_frac_past_o]).T\n",
    "    \n",
    "    # Now for the outputs\n",
    "    # compute current fractional votes\n",
    "    dem_votes = current_result.DEM.values\n",
    "    rep_votes = current_result.REP.values\n",
    "    other_votes = current_result.OTHER.values\n",
    "    tot_votes = dem_votes + rep_votes + other_votes\n",
    "    \n",
    "    votes_frac_curr_d = dem_votes/tot_votes\n",
    "    votes_frac_curr_r = rep_votes/tot_votes\n",
    "    votes_frac_curr_o = other_votes/tot_votes\n",
    "    \n",
    "    Y = np.array([votes_frac_curr_d, votes_frac_curr_r, votes_frac_curr_o]).T\n",
    "    \n",
    "    X_set = np.vstack([X_set, X])\n",
    "    Y_set = np.vstack([Y_set, Y])"
   ]
  },
  {
   "cell_type": "markdown",
   "metadata": {},
   "source": [
    "## Model Training"
   ]
  },
  {
   "cell_type": "markdown",
   "metadata": {},
   "source": [
    "### Split the Data\n",
    "\n",
    "Split into a train-test split to validate the data"
   ]
  },
  {
   "cell_type": "code",
   "execution_count": 4,
   "metadata": {},
   "outputs": [],
   "source": [
    "from sklearn.model_selection import train_test_split"
   ]
  },
  {
   "cell_type": "code",
   "execution_count": 5,
   "metadata": {},
   "outputs": [
    {
     "name": "stdout",
     "output_type": "stream",
     "text": [
      "(89, 9)\n",
      "(17, 9)\n"
     ]
    }
   ],
   "source": [
    "print(np.shape(X_set))\n",
    "X_test, X_train, Y_test, Y_train = train_test_split(X_set, Y_set, train_size=.2)\n",
    "print(np.shape(X_test))"
   ]
  },
  {
   "cell_type": "markdown",
   "metadata": {},
   "source": [
    "### Train a Model\n",
    "\n",
    "This is a small dataset, so we need to use a very shallow neural network"
   ]
  },
  {
   "cell_type": "code",
   "execution_count": 6,
   "metadata": {},
   "outputs": [],
   "source": [
    "model = Sequential()\n",
    "\n",
    "model.add(Dense(2,input_dim=9, activation='tanh'))\n",
    "model.add(Dense(3,activation='sigmoid'))\n",
    "\n",
    "model.compile(loss='mean_squared_error', optimizer='adam')"
   ]
  },
  {
   "cell_type": "code",
   "execution_count": 7,
   "metadata": {},
   "outputs": [],
   "source": [
    "hist = model.fit(x=X_train, y=Y_train, \n",
    "                    validation_data= (X_test, Y_test),\n",
    "                     batch_size = 10,\n",
    "                     shuffle = True,\n",
    "                     epochs = 1000,\n",
    "                     verbose = False)"
   ]
  },
  {
   "cell_type": "code",
   "execution_count": 8,
   "metadata": {},
   "outputs": [
    {
     "data": {
      "text/plain": [
       "<Figure size 432x288 with 0 Axes>"
      ]
     },
     "execution_count": 8,
     "metadata": {},
     "output_type": "execute_result"
    },
    {
     "data": {
      "text/plain": [
       "[<matplotlib.lines.Line2D at 0x7f89d3ee6050>]"
      ]
     },
     "execution_count": 8,
     "metadata": {},
     "output_type": "execute_result"
    },
    {
     "data": {
      "text/plain": [
       "[<matplotlib.lines.Line2D at 0x7f89d390ca50>]"
      ]
     },
     "execution_count": 8,
     "metadata": {},
     "output_type": "execute_result"
    },
    {
     "data": {
      "text/plain": [
       "Text(0.5, 0, 'epoch')"
      ]
     },
     "execution_count": 8,
     "metadata": {},
     "output_type": "execute_result"
    },
    {
     "data": {
      "text/plain": [
       "Text(0, 0.5, 'validation loss')"
      ]
     },
     "execution_count": 8,
     "metadata": {},
     "output_type": "execute_result"
    },
    {
     "data": {
      "text/plain": [
       "<matplotlib.legend.Legend at 0x7f89d4321dd0>"
      ]
     },
     "execution_count": 8,
     "metadata": {},
     "output_type": "execute_result"
    },
    {
     "data": {
      "image/png": "[encoded data removed]",
      "text/plain": [
       "<Figure size 432x288 with 1 Axes>"
      ]
     },
     "metadata": {
      "needs_background": "light"
     },
     "output_type": "display_data"
    }
   ],
   "source": [
    "plt.figure()\n",
    "plt.loglog(hist.epoch, hist.history['val_loss'], label = 'val. loss')\n",
    "plt.loglog(hist.epoch, hist.history['loss'], label = 'loss')\n",
    "plt.xlabel('epoch')\n",
    "plt.ylabel('validation loss')\n",
    "plt.legend()\n",
    "plt.tight_layout()\n",
    "plt.savefig('election_model.png')"
   ]
  },
  {
   "cell_type": "markdown",
   "metadata": {},
   "source": [
    "### Train an ensemble of models\n",
    "\n",
    "Because of the small number of data points, uncertainty quantification is important. So, build an ensemble of models from different training data, and then make the predictions using the average/spread of each model.\n",
    "\n",
    "For a 20% train-test split, there are $\\binom{89}{71} \\approx 3 \\times 10^{18}$ possible combinations. So, we aren't too worried about repeats."
   ]
  },
  {
   "cell_type": "code",
   "execution_count": 9,
   "metadata": {},
   "outputs": [],
   "source": [
    "if build_models:\n",
    "    n_models = 1000\n",
    "    train_size = .2\n",
    "    models_dict = {}\n",
    "\n",
    "    losses = []\n",
    "    vals = []\n",
    "\n",
    "    for model_num in tqdm(range(n_models)):\n",
    "\n",
    "        X_test, X_train, Y_test, Y_train = train_test_split(X_set, Y_set, train_size=train_size)\n",
    "        model = Sequential()\n",
    "\n",
    "        model.add(Dense(2,input_dim=9, activation='tanh'))\n",
    "        model.add(Dense(3,activation='sigmoid'))\n",
    "\n",
    "        model.compile(loss='mean_squared_error', optimizer='adam')\n",
    "\n",
    "        hist = model.fit(x=X_train, y=Y_train, \n",
    "                        validation_data= (X_test, Y_test),\n",
    "                         batch_size = 20,\n",
    "                         shuffle = True,\n",
    "                         epochs = 1000,\n",
    "                         verbose = False)\n",
    "\n",
    "        models_dict['model {}'.format(model_num)] = model\n",
    "        losses.append(hist.history['loss'][-1])\n",
    "        vals.append(hist.history['val_loss'][-1])\n",
    "\n",
    "    #    print('final loss = {}'.format(hist.history['loss'][-1]))\n",
    "    #    print('final val. loss = {}\\n'.format(hist.history['val_loss'][-1]))\n",
    "    for model in models_dict:\n",
    "    \n",
    "        models_dict[model].save('./model/{}'.format(model))"
   ]
  },
  {
   "cell_type": "markdown",
   "metadata": {},
   "source": [
    "## 2020 Predictions"
   ]
  },
  {
   "cell_type": "code",
   "execution_count": 10,
   "metadata": {},
   "outputs": [
    {
     "name": "stderr",
     "output_type": "stream",
     "text": [
      "/opt/anaconda3/lib/python3.7/site-packages/ipykernel_launcher.py:49: SettingWithCopyWarning: \n",
      "A value is trying to be set on a copy of a slice from a DataFrame\n",
      "\n",
      "See the caveats in the documentation: https://pandas.pydata.org/pandas-docs/stable/user_guide/indexing.html#returning-a-view-versus-a-copy\n",
      "/opt/anaconda3/lib/python3.7/site-packages/ipykernel_launcher.py:50: SettingWithCopyWarning: \n",
      "A value is trying to be set on a copy of a slice from a DataFrame\n",
      "\n",
      "See the caveats in the documentation: https://pandas.pydata.org/pandas-docs/stable/user_guide/indexing.html#returning-a-view-versus-a-copy\n",
      "/opt/anaconda3/lib/python3.7/site-packages/ipykernel_launcher.py:51: SettingWithCopyWarning: \n",
      "A value is trying to be set on a copy of a slice from a DataFrame\n",
      "\n",
      "See the caveats in the documentation: https://pandas.pydata.org/pandas-docs/stable/user_guide/indexing.html#returning-a-view-versus-a-copy\n"
     ]
    }
   ],
   "source": [
    "pair = ['2016', '2020']\n",
    "\n",
    "# The input variables\n",
    "\n",
    "# prior election result registration\n",
    "past_result = get_results(pair[0])\n",
    "elections = past_result.DIST_COUNTY.unique()\n",
    "past_result = past_result[past_result['DIST_COUNTY'].isin(elections)]\n",
    "\n",
    "# current registration\n",
    "current_reg = get_registration(pair[1])\n",
    "current_reg = current_reg[current_reg['DIST_COUNTY'].isin(elections)]\n",
    "\n",
    "# prior election registration\n",
    "past_reg = get_registration(pair[0])\n",
    "past_reg = past_reg[past_reg['DIST_COUNTY'].isin(elections)]\n",
    "\n",
    "# compute fractional current registration\n",
    "tot_regs = current_reg.sum(axis=1).values\n",
    "dem_regs = current_reg.DEM.values\n",
    "rep_regs = current_reg.REP.values\n",
    "other_regs = current_reg.OTHER.values\n",
    "\n",
    "reg_frac_curr_d = dem_regs/tot_regs\n",
    "reg_frac_curr_r = rep_regs/tot_regs\n",
    "reg_frac_curr_o = other_regs/tot_regs\n",
    "\n",
    "# compute fractional past registration\n",
    "tot_regs = past_reg.sum(axis=1).values\n",
    "dem_regs = past_reg.DEM.values\n",
    "rep_regs = past_reg.REP.values\n",
    "other_regs = past_reg.OTHER.values\n",
    "\n",
    "reg_frac_past_d = dem_regs/tot_regs\n",
    "reg_frac_past_r = rep_regs/tot_regs\n",
    "reg_frac_past_o = other_regs/tot_regs\n",
    "\n",
    "# compute fractional past votes\n",
    "dem_votes = past_result.DEM.values\n",
    "rep_votes = past_result.REP.values\n",
    "other_votes = past_result.OTHER.values\n",
    "tot_votes = dem_votes + rep_votes + other_votes\n",
    "\n",
    "votes_frac_past_d = dem_votes/tot_votes\n",
    "votes_frac_past_r = rep_votes/tot_votes\n",
    "votes_frac_past_o = other_votes/tot_votes\n",
    "\n",
    "X_pred = np.array([reg_frac_curr_d, reg_frac_curr_r, reg_frac_curr_o,\n",
    "           reg_frac_past_d, reg_frac_past_r, reg_frac_past_o,\n",
    "           votes_frac_past_d, votes_frac_past_r, votes_frac_past_o]).T"
   ]
  },
  {
   "cell_type": "code",
   "execution_count": 17,
   "metadata": {},
   "outputs": [
    {
     "name": "stdout",
     "output_type": "stream",
     "text": [
      "[[4.27897817e+04 6.43810069e+04 1.44743396e+03]\n",
      " [8.64043916e+03 2.20236006e+04 3.18967742e+02]\n",
      " [7.52072366e+03 2.61860903e+03 2.72034394e+02]\n",
      " [8.68211096e+02 1.01582698e+02 4.28532168e+01]\n",
      " [6.33263820e+03 9.36741197e+02 2.86147057e+02]\n",
      " [2.14701280e+03 1.57772619e+03 7.02254937e+01]\n",
      " [1.47027466e+04 1.78069867e+03 7.29597198e+02]\n",
      " [1.17514423e+04 7.64472076e+03 3.92477703e+02]\n",
      " [3.61895570e+04 5.46396455e+04 1.22559284e+03]\n",
      " [3.32762294e+04 4.77501306e+04 1.12129101e+03]\n",
      " [5.21111509e+04 5.12039249e+04 1.72597885e+03]\n",
      " [5.23726978e+04 4.25479683e+04 1.74419261e+03]\n",
      " [4.26301400e+04 6.06142012e+04 1.46942774e+03]\n",
      " [5.95525432e+04 3.55982379e+04 2.00383417e+03]\n",
      " [3.76895337e+04 3.15848041e+04 1.25498764e+03]\n",
      " [3.07063067e+04 1.09911180e+04 1.11193253e+03]\n",
      " [1.09824145e+04 2.43115355e+03 4.41063491e+02]\n",
      " [5.06234157e+04 7.61730787e+03 2.29310846e+03]\n",
      " [3.07927319e+04 4.28484186e+04 1.04170238e+03]\n",
      " [2.74888239e+04 6.63545730e+04 1.01065154e+03]\n",
      " [3.35260356e+04 6.30691933e+04 1.17614263e+03]\n",
      " [3.80870316e+04 4.86459258e+04 1.28077186e+03]\n",
      " [4.60499391e+04 2.70898423e+04 1.55999297e+03]\n",
      " [1.32271240e+03 2.96379724e+03 4.81807124e+01]\n",
      " [3.01701653e+04 6.89056826e+04 1.10731615e+03]\n",
      " [3.63670028e+04 5.68529270e+04 1.27238193e+03]\n",
      " [2.37644302e+03 5.88265038e+03 8.80252454e+01]\n",
      " [1.46771317e+03 9.99547520e+02 4.86351226e+01]\n",
      " [8.64099664e+02 1.51025699e+03 3.00388147e+01]\n",
      " [1.52978923e+03 3.23352760e+03 5.55674738e+01]\n",
      " [6.93534323e+02 1.70377357e+03 2.61674390e+01]\n",
      " [6.41443596e+02 1.19610613e+03 2.24065846e+01]\n",
      " [1.31391915e+03 2.08819906e+03 4.46583998e+01]\n",
      " [2.10782313e+03 2.21672267e+03 7.07406451e+01]\n",
      " [3.50567182e+02 5.68060498e+02 1.19538436e+01]\n",
      " [3.45562191e+03 4.74991617e+03 1.18304687e+02]\n",
      " [2.99810316e+02 4.20476359e+02 1.01915544e+01]\n",
      " [3.30179027e+03 7.02043658e+03 1.18618711e+02]\n",
      " [1.86845389e+03 4.18780173e+03 6.74321285e+01]\n",
      " [3.62311187e+03 8.59186591e+03 1.32876415e+02]\n",
      " [3.63748190e+03 2.89191958e+03 1.20620779e+02]\n",
      " [2.14747322e+03 1.37653482e+03 7.30025581e+01]]\n"
     ]
    }
   ],
   "source": [
    "Y_pred = model.predict(X_pred)\n",
    "votes = np.reshape(tot_regs,(len(tot_regs),1)) * Y_pred\n",
    "print(votes)"
   ]
  },
  {
   "cell_type": "markdown",
   "metadata": {},
   "source": [
    "Iterate over all models, get the predicted vote totals by district-county for each model, and store. We will eventually compute total and spread of votes in each district"
   ]
  },
  {
   "cell_type": "code",
   "execution_count": 62,
   "metadata": {},
   "outputs": [
    {
     "name": "stdout",
     "output_type": "stream",
     "text": [
      "17    127697.0\n",
      "34     33797.0\n",
      "35     10776.0\n",
      "36       965.0\n",
      "37      7879.0\n",
      "38      4008.0\n",
      "39     17656.0\n",
      "40     19806.0\n",
      "42     96079.0\n",
      "44     89192.0\n",
      "46    105276.0\n",
      "52    105983.0\n",
      "53    100688.0\n",
      "54    103041.0\n",
      "56     81057.0\n",
      "58     47952.0\n",
      "59     17418.0\n",
      "60     73981.0\n",
      "62     86092.0\n",
      "63     98456.0\n",
      "64    101577.0\n",
      "65     94460.0\n",
      "66     83083.0\n",
      "68      4498.0\n",
      "69    103274.0\n",
      "71    103783.0\n",
      "73      8816.0\n",
      "74      2561.0\n",
      "75      2564.0\n",
      "76      4927.0\n",
      "77      2472.0\n",
      "78      2007.0\n",
      "79      3756.0\n",
      "80      4763.0\n",
      "81       966.0\n",
      "82      9077.0\n",
      "83       766.0\n",
      "84     11183.0\n",
      "85      6371.0\n",
      "86     12813.0\n",
      "87      6905.0\n",
      "88      3879.0\n",
      "dtype: float64\n"
     ]
    },
    {
     "data": {
      "application/vnd.jupyter.widget-view+json": {
       "model_id": "10537b85b37b49d09754651368b77339",
       "version_major": 2,
       "version_minor": 0
      },
      "text/plain": [
       "HBox(children=(FloatProgress(value=0.0, max=1000.0), HTML(value='')))"
      ]
     },
     "metadata": {},
     "output_type": "display_data"
    },
    {
     "ename": "SystemError",
     "evalue": "<built-in function CreateBufferedInputStream> returned a result with an error set",
     "output_type": "error",
     "traceback": [
      "\u001b[0;31m---------------------------------------------------------------------------\u001b[0m",
      "\u001b[0;31mKeyboardInterrupt\u001b[0m                         Traceback (most recent call last)",
      "\u001b[0;32m/opt/anaconda3/lib/python3.7/site-packages/tensorflow_core/python/pywrap_tensorflow_internal.py\u001b[0m in \u001b[0;36m<lambda>\u001b[0;34m(self, name, value)\u001b[0m\n\u001b[1;32m   2171\u001b[0m     \u001b[0m__swig_setmethods__\u001b[0m \u001b[0;34m=\u001b[0m \u001b[0;34m{\u001b[0m\u001b[0;34m}\u001b[0m\u001b[0;34m\u001b[0m\u001b[0;34m\u001b[0m\u001b[0m\n\u001b[0;32m-> 2172\u001b[0;31m     \u001b[0m__setattr__\u001b[0m \u001b[0;34m=\u001b[0m \u001b[0;32mlambda\u001b[0m \u001b[0mself\u001b[0m\u001b[0;34m,\u001b[0m \u001b[0mname\u001b[0m\u001b[0;34m,\u001b[0m \u001b[0mvalue\u001b[0m\u001b[0;34m:\u001b[0m \u001b[0m_swig_setattr\u001b[0m\u001b[0;34m(\u001b[0m\u001b[0mself\u001b[0m\u001b[0;34m,\u001b[0m \u001b[0mBufferedInputStream\u001b[0m\u001b[0;34m,\u001b[0m \u001b[0mname\u001b[0m\u001b[0;34m,\u001b[0m \u001b[0mvalue\u001b[0m\u001b[0;34m)\u001b[0m\u001b[0;34m\u001b[0m\u001b[0;34m\u001b[0m\u001b[0m\n\u001b[0m\u001b[1;32m   2173\u001b[0m     \u001b[0m__swig_getmethods__\u001b[0m \u001b[0;34m=\u001b[0m \u001b[0;34m{\u001b[0m\u001b[0;34m}\u001b[0m\u001b[0;34m\u001b[0m\u001b[0;34m\u001b[0m\u001b[0m\n",
      "\u001b[0;31mKeyboardInterrupt\u001b[0m: ",
      "\nThe above exception was the direct cause of the following exception:\n",
      "\u001b[0;31mSystemError\u001b[0m                               Traceback (most recent call last)",
      "\u001b[0;32m<ipython-input-62-42305da31bc5>\u001b[0m in \u001b[0;36m<module>\u001b[0;34m\u001b[0m\n\u001b[1;32m     10\u001b[0m \u001b[0;34m\u001b[0m\u001b[0m\n\u001b[1;32m     11\u001b[0m \u001b[0;32mfor\u001b[0m \u001b[0mmodel\u001b[0m \u001b[0;32min\u001b[0m \u001b[0mtqdm\u001b[0m\u001b[0;34m(\u001b[0m\u001b[0mmodels\u001b[0m\u001b[0;34m)\u001b[0m\u001b[0;34m:\u001b[0m\u001b[0;34m\u001b[0m\u001b[0;34m\u001b[0m\u001b[0m\n\u001b[0;32m---> 12\u001b[0;31m     \u001b[0mthis_model\u001b[0m \u001b[0;34m=\u001b[0m \u001b[0mkeras\u001b[0m\u001b[0;34m.\u001b[0m\u001b[0mmodels\u001b[0m\u001b[0;34m.\u001b[0m\u001b[0mload_model\u001b[0m\u001b[0;34m(\u001b[0m\u001b[0mmodel\u001b[0m\u001b[0;34m)\u001b[0m\u001b[0;34m\u001b[0m\u001b[0;34m\u001b[0m\u001b[0m\n\u001b[0m\u001b[1;32m     13\u001b[0m     \u001b[0mpreds\u001b[0m \u001b[0;34m=\u001b[0m \u001b[0mthis_model\u001b[0m\u001b[0;34m.\u001b[0m\u001b[0mpredict\u001b[0m\u001b[0;34m(\u001b[0m\u001b[0mX_pred\u001b[0m\u001b[0;34m)\u001b[0m\u001b[0;34m\u001b[0m\u001b[0;34m\u001b[0m\u001b[0m\n\u001b[1;32m     14\u001b[0m     \u001b[0mpreds_array\u001b[0m\u001b[0;34m.\u001b[0m\u001b[0mappend\u001b[0m\u001b[0;34m(\u001b[0m\u001b[0mpreds\u001b[0m\u001b[0;34m*\u001b[0m\u001b[0mtot_regs\u001b[0m\u001b[0;34m)\u001b[0m\u001b[0;34m\u001b[0m\u001b[0;34m\u001b[0m\u001b[0m\n",
      "\u001b[0;32m/opt/anaconda3/lib/python3.7/site-packages/tensorflow_core/python/keras/saving/save.py\u001b[0m in \u001b[0;36mload_model\u001b[0;34m(filepath, custom_objects, compile)\u001b[0m\n\u001b[1;32m    147\u001b[0m \u001b[0;34m\u001b[0m\u001b[0m\n\u001b[1;32m    148\u001b[0m   \u001b[0;32mif\u001b[0m \u001b[0misinstance\u001b[0m\u001b[0;34m(\u001b[0m\u001b[0mfilepath\u001b[0m\u001b[0;34m,\u001b[0m \u001b[0msix\u001b[0m\u001b[0;34m.\u001b[0m\u001b[0mstring_types\u001b[0m\u001b[0;34m)\u001b[0m\u001b[0;34m:\u001b[0m\u001b[0;34m\u001b[0m\u001b[0;34m\u001b[0m\u001b[0m\n\u001b[0;32m--> 149\u001b[0;31m     \u001b[0mloader_impl\u001b[0m\u001b[0;34m.\u001b[0m\u001b[0mparse_saved_model\u001b[0m\u001b[0;34m(\u001b[0m\u001b[0mfilepath\u001b[0m\u001b[0;34m)\u001b[0m\u001b[0;34m\u001b[0m\u001b[0;34m\u001b[0m\u001b[0m\n\u001b[0m\u001b[1;32m    150\u001b[0m     \u001b[0;32mreturn\u001b[0m \u001b[0msaved_model_load\u001b[0m\u001b[0;34m.\u001b[0m\u001b[0mload\u001b[0m\u001b[0;34m(\u001b[0m\u001b[0mfilepath\u001b[0m\u001b[0;34m,\u001b[0m \u001b[0mcompile\u001b[0m\u001b[0;34m)\u001b[0m\u001b[0;34m\u001b[0m\u001b[0;34m\u001b[0m\u001b[0m\n\u001b[1;32m    151\u001b[0m \u001b[0;34m\u001b[0m\u001b[0m\n",
      "\u001b[0;32m/opt/anaconda3/lib/python3.7/site-packages/tensorflow_core/python/saved_model/loader_impl.py\u001b[0m in \u001b[0;36mparse_saved_model\u001b[0;34m(export_dir)\u001b[0m\n\u001b[1;32m     65\u001b[0m   \u001b[0;32mif\u001b[0m \u001b[0mfile_io\u001b[0m\u001b[0;34m.\u001b[0m\u001b[0mfile_exists\u001b[0m\u001b[0;34m(\u001b[0m\u001b[0mpath_to_pb\u001b[0m\u001b[0;34m)\u001b[0m\u001b[0;34m:\u001b[0m\u001b[0;34m\u001b[0m\u001b[0;34m\u001b[0m\u001b[0m\n\u001b[1;32m     66\u001b[0m     \u001b[0;32mtry\u001b[0m\u001b[0;34m:\u001b[0m\u001b[0;34m\u001b[0m\u001b[0;34m\u001b[0m\u001b[0m\n\u001b[0;32m---> 67\u001b[0;31m       \u001b[0mfile_content\u001b[0m \u001b[0;34m=\u001b[0m \u001b[0mfile_io\u001b[0m\u001b[0;34m.\u001b[0m\u001b[0mFileIO\u001b[0m\u001b[0;34m(\u001b[0m\u001b[0mpath_to_pb\u001b[0m\u001b[0;34m,\u001b[0m \u001b[0;34m\"rb\"\u001b[0m\u001b[0;34m)\u001b[0m\u001b[0;34m.\u001b[0m\u001b[0mread\u001b[0m\u001b[0;34m(\u001b[0m\u001b[0;34m)\u001b[0m\u001b[0;34m\u001b[0m\u001b[0;34m\u001b[0m\u001b[0m\n\u001b[0m\u001b[1;32m     68\u001b[0m       \u001b[0msaved_model\u001b[0m\u001b[0;34m.\u001b[0m\u001b[0mParseFromString\u001b[0m\u001b[0;34m(\u001b[0m\u001b[0mfile_content\u001b[0m\u001b[0;34m)\u001b[0m\u001b[0;34m\u001b[0m\u001b[0;34m\u001b[0m\u001b[0m\n\u001b[1;32m     69\u001b[0m       \u001b[0;32mreturn\u001b[0m \u001b[0msaved_model\u001b[0m\u001b[0;34m\u001b[0m\u001b[0;34m\u001b[0m\u001b[0m\n",
      "\u001b[0;32m/opt/anaconda3/lib/python3.7/site-packages/tensorflow_core/python/lib/io/file_io.py\u001b[0m in \u001b[0;36mread\u001b[0;34m(self, n)\u001b[0m\n\u001b[1;32m    120\u001b[0m       \u001b[0mstring\u001b[0m \u001b[0;32mif\u001b[0m \u001b[0;32min\u001b[0m \u001b[0mstring\u001b[0m \u001b[0;34m(\u001b[0m\u001b[0mregular\u001b[0m\u001b[0;34m)\u001b[0m \u001b[0mmode\u001b[0m\u001b[0;34m.\u001b[0m\u001b[0;34m\u001b[0m\u001b[0;34m\u001b[0m\u001b[0m\n\u001b[1;32m    121\u001b[0m     \"\"\"\n\u001b[0;32m--> 122\u001b[0;31m     \u001b[0mself\u001b[0m\u001b[0;34m.\u001b[0m\u001b[0m_preread_check\u001b[0m\u001b[0;34m(\u001b[0m\u001b[0;34m)\u001b[0m\u001b[0;34m\u001b[0m\u001b[0;34m\u001b[0m\u001b[0m\n\u001b[0m\u001b[1;32m    123\u001b[0m     \u001b[0;32mif\u001b[0m \u001b[0mn\u001b[0m \u001b[0;34m==\u001b[0m \u001b[0;34m-\u001b[0m\u001b[0;36m1\u001b[0m\u001b[0;34m:\u001b[0m\u001b[0;34m\u001b[0m\u001b[0;34m\u001b[0m\u001b[0m\n\u001b[1;32m    124\u001b[0m       \u001b[0mlength\u001b[0m \u001b[0;34m=\u001b[0m \u001b[0mself\u001b[0m\u001b[0;34m.\u001b[0m\u001b[0msize\u001b[0m\u001b[0;34m(\u001b[0m\u001b[0;34m)\u001b[0m \u001b[0;34m-\u001b[0m \u001b[0mself\u001b[0m\u001b[0;34m.\u001b[0m\u001b[0mtell\u001b[0m\u001b[0;34m(\u001b[0m\u001b[0;34m)\u001b[0m\u001b[0;34m\u001b[0m\u001b[0;34m\u001b[0m\u001b[0m\n",
      "\u001b[0;32m/opt/anaconda3/lib/python3.7/site-packages/tensorflow_core/python/lib/io/file_io.py\u001b[0m in \u001b[0;36m_preread_check\u001b[0;34m(self)\u001b[0m\n\u001b[1;32m     82\u001b[0m                                            \"File isn't open for reading\")\n\u001b[1;32m     83\u001b[0m       self._read_buf = pywrap_tensorflow.CreateBufferedInputStream(\n\u001b[0;32m---> 84\u001b[0;31m           compat.as_bytes(self.__name), 1024 * 512)\n\u001b[0m\u001b[1;32m     85\u001b[0m \u001b[0;34m\u001b[0m\u001b[0m\n\u001b[1;32m     86\u001b[0m   \u001b[0;32mdef\u001b[0m \u001b[0m_prewrite_check\u001b[0m\u001b[0;34m(\u001b[0m\u001b[0mself\u001b[0m\u001b[0;34m)\u001b[0m\u001b[0;34m:\u001b[0m\u001b[0;34m\u001b[0m\u001b[0;34m\u001b[0m\u001b[0m\n",
      "\u001b[0;31mSystemError\u001b[0m: <built-in function CreateBufferedInputStream> returned a result with an error set"
     ]
    }
   ],
   "source": [
    "import glob\n",
    "\n",
    "models = glob.glob('./model/*')\n",
    "\n",
    "tot_regs = current_reg.sum(axis=1).values\n",
    "print(current_reg.sum(axis=1))\n",
    "tot_regs = np.reshape(tot_regs, (len(tot_regs),1))\n",
    "\n",
    "preds_array = []\n",
    "\n",
    "for model in tqdm(models):\n",
    "    this_model = keras.models.load_model(model)\n",
    "    preds = this_model.predict(X_pred)\n",
    "    preds_array.append(preds*tot_regs)"
   ]
  },
  {
   "cell_type": "code",
   "execution_count": 35,
   "metadata": {},
   "outputs": [],
   "source": [
    "mean_df = pd.DataFrame(data = {'DIST_COUNTY' : elections,\n",
    "                              'DEM' : np.mean(preds_array, axis=0)[:,0],\n",
    "                              'REP' : np.mean(preds_array, axis=0)[:,1],\n",
    "                              'OTHER' : np.mean(preds_array, axis=0)[:,2]})\n",
    "\n",
    "std_df = pd.DataFrame(data = {'DIST_COUNTY' : elections,\n",
    "                              'DEM' : np.std(preds_array, axis=0)[:,0],\n",
    "                              'REP' : np.std(preds_array, axis=0)[:,1],\n",
    "                              'OTHER' : np.std(preds_array, axis=0)[:,2]})"
   ]
  },
  {
   "cell_type": "code",
   "execution_count": 36,
   "metadata": {},
   "outputs": [
    {
     "data": {
      "text/plain": [
       "<matplotlib.axes._subplots.AxesSubplot at 0x7f85be7b1550>"
      ]
     },
     "execution_count": 36,
     "metadata": {},
     "output_type": "execute_result"
    },
    {
     "data": {
      "text/plain": [
       "<matplotlib.axes._subplots.AxesSubplot at 0x7f85bee8cf90>"
      ]
     },
     "execution_count": 36,
     "metadata": {},
     "output_type": "execute_result"
    },
    {
     "data": {
      "image/png": "[encoded data removed]",
      "text/plain": [
       "<Figure size 432x288 with 1 Axes>"
      ]
     },
     "metadata": {
      "needs_background": "light"
     },
     "output_type": "display_data"
    },
    {
     "data": {
      "image/png": "[encoded data removed]",
      "text/plain": [
       "<Figure size 432x288 with 1 Axes>"
      ]
     },
     "metadata": {
      "needs_background": "light"
     },
     "output_type": "display_data"
    }
   ],
   "source": [
    "mean_df.plot.bar(x='DIST_COUNTY')\n",
    "std_df.plot.bar(x='DIST_COUNTY')"
   ]
  },
  {
   "cell_type": "code",
   "execution_count": 39,
   "metadata": {},
   "outputs": [
    {
     "name": "stdout",
     "output_type": "stream",
     "text": [
      "         DIST_COUNTY           DEM           REP        OTHER DISTRICT  \\\n",
      "0      SD 10-EL PASO  53948.811127  71056.599543  3848.602411    SD 10   \n",
      "1      SD 12-EL PASO   9836.861627  23422.638506   992.568532    SD 12   \n",
      "2      SD 14-LARIMER   7118.142703   3420.805023   546.747529    SD 14   \n",
      "3      SD 17-BOULDER    783.948084    166.784859   102.529167    SD 17   \n",
      "4      SD 18-BOULDER   6121.913801   1623.704817   644.333684    SD 18   \n",
      "5    SD 19-JEFFERSON   2135.935959   1780.869220   160.555060    SD 19   \n",
      "6        SD 21-ADAMS  14370.943306   3020.870442  1748.411738    SD 21   \n",
      "7   SD 23-BROOMFIELD  11582.626346   7761.540859   793.556056    SD 23   \n",
      "8      SD 23-LARIMER  40911.369497  53130.806835  2878.951770    SD 23   \n",
      "9         SD 23-WELD  38866.528654  48408.885837  2707.950727    SD 23   \n",
      "10       SD 25-ADAMS  53817.180234  49028.468848  3629.470892    SD 25   \n",
      "11    SD 26-ARAPAHOE  57070.404855  46436.356524  3918.801718    SD 26   \n",
      "12    SD 27-ARAPAHOE  43701.118365  54797.166684  3122.704854    SD 27   \n",
      "13    SD 28-ARAPAHOE  60390.312845  40251.055018  4234.830142    SD 28   \n",
      "14    SD 29-ARAPAHOE  44181.924553  34970.337981  3052.418988    SD 29   \n",
      "15    SD 31-ARAPAHOE  31782.831858  15110.230690  2430.893099    SD 31   \n",
      "16      SD 31-DENVER  12592.945711   4480.184514  1102.809714    SD 31   \n",
      "17      SD 33-DENVER  57566.766782  15153.114195  5959.127811    SD 33   \n",
      "18     SD 35-ALAMOSA  38675.842912  45519.254218  2668.209798    SD 35   \n",
      "19        SD 35-BACA  30383.750590  66412.505043  2772.868582    SD 35   \n",
      "20        SD 35-BENT  38794.870272  60755.251136  2903.651616    SD 35   \n",
      "21     SD 35-CONEJOS  43662.648903  48688.604322  3002.184464    SD 35   \n",
      "22    SD 35-COSTILLA  49337.281950  31807.560437  3531.062414    SD 35   \n",
      "23     SD 35-CROWLEY   1525.016104   2890.230085   124.678999    SD 35   \n",
      "24      SD 35-CUSTER  33825.315089  67597.514351  2898.561481    SD 35   \n",
      "25    SD 35-HUERFANO  43357.873503  58205.389736  3185.797189    SD 35   \n",
      "26       SD 35-KIOWA   2546.667728   6130.074271   259.233227    SD 35   \n",
      "27  SD 35-LAS ANIMAS   1387.473589   1114.448797   101.076640    SD 35   \n",
      "28     SD 35-MINERAL    986.682914   1525.844643    76.024603    SD 35   \n",
      "29       SD 35-OTERO   1579.202457   3261.999794   150.966622    SD 35   \n",
      "30     SD 35-PROWERS    698.637470   1734.708690    76.299129    SD 35   \n",
      "31      SD 35-PUEBLO    734.738094   1233.627429    59.852448    SD 35   \n",
      "32  SD 35-RIO GRANDE   1506.890897   2172.677361   116.006830    SD 35   \n",
      "33    SD 35-SAGUACHE   2290.962399   2363.732956   164.750442    SD 35   \n",
      "34      SD 4-DOUGLAS    371.807482    575.137870    29.502821     SD 4   \n",
      "35     SD 8-GARFIELD   3820.655111   5063.118348   283.834798     SD 8   \n",
      "36        SD 8-GRAND    314.429973    435.620935    24.194616     SD 8   \n",
      "37      SD 8-JACKSON   3767.360318   7213.029806   318.191566     SD 8   \n",
      "38       SD 8-MOFFAT   2056.948925   4203.500274   182.317897     SD 8   \n",
      "39   SD 8-RIO BLANCO   3892.414440   8708.781648   369.874922     SD 8   \n",
      "40        SD 8-ROUTT   3562.516272   3183.586778   255.097397     SD 8   \n",
      "41       SD 8-SUMMIT   2163.138836   1625.161645   154.704749     SD 8   \n",
      "\n",
      "        COUNTY  \n",
      "0      EL PASO  \n",
      "1      EL PASO  \n",
      "2      LARIMER  \n",
      "3      BOULDER  \n",
      "4      BOULDER  \n",
      "5    JEFFERSON  \n",
      "6        ADAMS  \n",
      "7   BROOMFIELD  \n",
      "8      LARIMER  \n",
      "9         WELD  \n",
      "10       ADAMS  \n",
      "11    ARAPAHOE  \n",
      "12    ARAPAHOE  \n",
      "13    ARAPAHOE  \n",
      "14    ARAPAHOE  \n",
      "15    ARAPAHOE  \n",
      "16      DENVER  \n",
      "17      DENVER  \n",
      "18     ALAMOSA  \n",
      "19        BACA  \n",
      "20        BENT  \n",
      "21     CONEJOS  \n",
      "22    COSTILLA  \n",
      "23     CROWLEY  \n",
      "24      CUSTER  \n",
      "25    HUERFANO  \n",
      "26       KIOWA  \n",
      "27  LAS ANIMAS  \n",
      "28     MINERAL  \n",
      "29       OTERO  \n",
      "30     PROWERS  \n",
      "31      PUEBLO  \n",
      "32  RIO GRANDE  \n",
      "33    SAGUACHE  \n",
      "34     DOUGLAS  \n",
      "35    GARFIELD  \n",
      "36       GRAND  \n",
      "37     JACKSON  \n",
      "38      MOFFAT  \n",
      "39  RIO BLANCO  \n",
      "40       ROUTT  \n",
      "41      SUMMIT  \n",
      "         DIST_COUNTY          DEM          REP        OTHER DISTRICT  \\\n",
      "0      SD 10-EL PASO  4812.089689  4924.447758   923.199995    SD 10   \n",
      "1      SD 12-EL PASO  1266.563210  1281.454191   586.844749    SD 12   \n",
      "2      SD 14-LARIMER   579.322085   594.191096   193.657189    SD 14   \n",
      "3      SD 17-BOULDER    94.428890    91.087891    66.612644    SD 17   \n",
      "4      SD 18-BOULDER   697.654342   688.977857   334.325723    SD 18   \n",
      "5    SD 19-JEFFERSON   140.366882   143.965881    38.978050    SD 19   \n",
      "6        SD 21-ADAMS  1687.707176  1629.222484  1047.831228    SD 21   \n",
      "7   SD 23-BROOMFIELD   814.799224   832.527540   238.713849    SD 23   \n",
      "8      SD 23-LARIMER  3836.758994  3928.552767   691.377445    SD 23   \n",
      "9         SD 23-WELD  3486.610332  3567.646399   628.597299    SD 23   \n",
      "10       SD 25-ADAMS  3508.654421  3582.971225   872.505859    SD 25   \n",
      "11    SD 26-ARAPAHOE  3084.159445  3168.384840  1011.091002    SD 26   \n",
      "12    SD 27-ARAPAHOE  2934.963562  3009.776974   787.887758    SD 27   \n",
      "13    SD 28-ARAPAHOE  3618.269605  3753.499340  1218.399543    SD 28   \n",
      "14    SD 29-ARAPAHOE  2282.102787  2346.312833   762.074468    SD 29   \n",
      "15    SD 31-ARAPAHOE  2581.441262  2632.477888   892.338117    SD 31   \n",
      "16      SD 31-DENVER  1267.384379  1274.180954   473.625239    SD 31   \n",
      "17      SD 33-DENVER  6489.445458  6393.338802  3064.315975    SD 33   \n",
      "18     SD 35-ALAMOSA  2834.494957  2897.372223   602.566219    SD 35   \n",
      "19        SD 35-BACA  3484.720062  3564.345846  1357.532108    SD 35   \n",
      "20        SD 35-BENT  3666.464150  3765.895232   861.930385    SD 35   \n",
      "21     SD 35-CONEJOS  2905.447299  2970.826112   673.218379    SD 35   \n",
      "22    SD 35-COSTILLA  2953.239859  3047.889351  1021.648824    SD 35   \n",
      "23     SD 35-CROWLEY   165.399854   170.491500    49.505000    SD 35   \n",
      "24      SD 35-CUSTER  3546.952627  3654.643790  1239.445300    SD 35   \n",
      "25    SD 35-HUERFANO  2688.310596  2762.787246   838.007899    SD 35   \n",
      "26       SD 35-KIOWA   317.679974   324.274438   145.722147    SD 35   \n",
      "27  SD 35-LAS ANIMAS    72.543964    75.752032    23.057269    SD 35   \n",
      "28     SD 35-MINERAL    67.043113    67.884832    21.539388    SD 35   \n",
      "29       SD 35-OTERO   179.965132   185.965428    68.624721    SD 35   \n",
      "30     SD 35-PROWERS   109.869311   114.458105    45.732991    SD 35   \n",
      "31      SD 35-PUEBLO    52.393524    52.689343    18.959149    SD 35   \n",
      "32  SD 35-RIO GRANDE   106.168074   107.334785    30.053678    SD 35   \n",
      "33    SD 35-SAGUACHE    81.866786    84.168038    34.903547    SD 35   \n",
      "34      SD 4-DOUGLAS    29.056782    29.387105     8.408823     SD 4   \n",
      "35     SD 8-GARFIELD   206.203839   210.748186    70.025321     SD 8   \n",
      "36        SD 8-GRAND    17.516907    17.737630     6.147763     SD 8   \n",
      "37      SD 8-JACKSON   369.399627   378.005557   124.851734     SD 8   \n",
      "38       SD 8-MOFFAT   218.088998   222.882892    79.096217     SD 8   \n",
      "39   SD 8-RIO BLANCO   439.997969   448.917116   184.499487     SD 8   \n",
      "40        SD 8-ROUTT   141.042966   148.449833    56.191361     SD 8   \n",
      "41       SD 8-SUMMIT   109.906435   113.765209    41.487532     SD 8   \n",
      "\n",
      "        COUNTY  \n",
      "0      EL PASO  \n",
      "1      EL PASO  \n",
      "2      LARIMER  \n",
      "3      BOULDER  \n",
      "4      BOULDER  \n",
      "5    JEFFERSON  \n",
      "6        ADAMS  \n",
      "7   BROOMFIELD  \n",
      "8      LARIMER  \n",
      "9         WELD  \n",
      "10       ADAMS  \n",
      "11    ARAPAHOE  \n",
      "12    ARAPAHOE  \n",
      "13    ARAPAHOE  \n",
      "14    ARAPAHOE  \n",
      "15    ARAPAHOE  \n",
      "16      DENVER  \n",
      "17      DENVER  \n",
      "18     ALAMOSA  \n",
      "19        BACA  \n",
      "20        BENT  \n",
      "21     CONEJOS  \n",
      "22    COSTILLA  \n",
      "23     CROWLEY  \n",
      "24      CUSTER  \n",
      "25    HUERFANO  \n",
      "26       KIOWA  \n",
      "27  LAS ANIMAS  \n",
      "28     MINERAL  \n",
      "29       OTERO  \n",
      "30     PROWERS  \n",
      "31      PUEBLO  \n",
      "32  RIO GRANDE  \n",
      "33    SAGUACHE  \n",
      "34     DOUGLAS  \n",
      "35    GARFIELD  \n",
      "36       GRAND  \n",
      "37     JACKSON  \n",
      "38      MOFFAT  \n",
      "39  RIO BLANCO  \n",
      "40       ROUTT  \n",
      "41      SUMMIT  \n"
     ]
    }
   ],
   "source": [
    "mean_df['DISTRICT'] = mean_df['DIST_COUNTY'].str.split('-').str[0]\n",
    "std_df['DISTRICT'] = std_df['DIST_COUNTY'].str.split('-').str[0]\n",
    "\n",
    "mean_df['COUNTY'] = mean_df['DIST_COUNTY'].str.split('-').str[1]\n",
    "std_df['COUNTY'] = std_df['DIST_COUNTY'].str.split('-').str[1]\n",
    "\n",
    "print(mean_df)\n",
    "print(std_df)"
   ]
  },
  {
   "cell_type": "markdown",
   "metadata": {},
   "source": [
    "### Election Predictions\n",
    "\n",
    "Here are the total vote predictions for each district"
   ]
  },
  {
   "cell_type": "code",
   "execution_count": 61,
   "metadata": {},
   "outputs": [
    {
     "data": {
      "text/plain": [
       "Text(0.5, 1.0, 'District SD 10 Predictions')"
      ]
     },
     "execution_count": 61,
     "metadata": {},
     "output_type": "execute_result"
    },
    {
     "data": {
      "text/plain": [
       "<BarContainer object of 2 artists>"
      ]
     },
     "execution_count": 61,
     "metadata": {},
     "output_type": "execute_result"
    },
    {
     "data": {
      "text/plain": [
       "<BarContainer object of 2 artists>"
      ]
     },
     "execution_count": 61,
     "metadata": {},
     "output_type": "execute_result"
    },
    {
     "data": {
      "text/plain": [
       "<BarContainer object of 2 artists>"
      ]
     },
     "execution_count": 61,
     "metadata": {},
     "output_type": "execute_result"
    },
    {
     "data": {
      "text/plain": [
       "[<matplotlib.axis.XTick at 0x7f85ada43b90>,\n",
       " <matplotlib.axis.XTick at 0x7f85ada43290>]"
      ]
     },
     "execution_count": 61,
     "metadata": {},
     "output_type": "execute_result"
    },
    {
     "data": {
      "text/plain": [
       "[Text(0, 0, 'EL PASO'), Text(0, 0, 'TOTAL')]"
      ]
     },
     "execution_count": 61,
     "metadata": {},
     "output_type": "execute_result"
    },
    {
     "data": {
      "text/plain": [
       "Text(0, 3, '53,948')"
      ]
     },
     "execution_count": 61,
     "metadata": {},
     "output_type": "execute_result"
    },
    {
     "data": {
      "text/plain": [
       "Text(0, 3, '71,056')"
      ]
     },
     "execution_count": 61,
     "metadata": {},
     "output_type": "execute_result"
    },
    {
     "data": {
      "text/plain": [
       "Text(0, 3, '3,848')"
      ]
     },
     "execution_count": 61,
     "metadata": {},
     "output_type": "execute_result"
    },
    {
     "data": {
      "text/plain": [
       "Text(0.5, 1.0, 'District SD 12 Predictions')"
      ]
     },
     "execution_count": 61,
     "metadata": {},
     "output_type": "execute_result"
    },
    {
     "data": {
      "text/plain": [
       "<BarContainer object of 2 artists>"
      ]
     },
     "execution_count": 61,
     "metadata": {},
     "output_type": "execute_result"
    },
    {
     "data": {
      "text/plain": [
       "<BarContainer object of 2 artists>"
      ]
     },
     "execution_count": 61,
     "metadata": {},
     "output_type": "execute_result"
    },
    {
     "data": {
      "text/plain": [
       "<BarContainer object of 2 artists>"
      ]
     },
     "execution_count": 61,
     "metadata": {},
     "output_type": "execute_result"
    },
    {
     "data": {
      "text/plain": [
       "[<matplotlib.axis.XTick at 0x7f85adacfd50>,\n",
       " <matplotlib.axis.XTick at 0x7f85adacf490>]"
      ]
     },
     "execution_count": 61,
     "metadata": {},
     "output_type": "execute_result"
    },
    {
     "data": {
      "text/plain": [
       "[Text(0, 0, 'EL PASO'), Text(0, 0, 'TOTAL')]"
      ]
     },
     "execution_count": 61,
     "metadata": {},
     "output_type": "execute_result"
    },
    {
     "data": {
      "text/plain": [
       "Text(0, 3, '9,836')"
      ]
     },
     "execution_count": 61,
     "metadata": {},
     "output_type": "execute_result"
    },
    {
     "data": {
      "text/plain": [
       "Text(0, 3, '23,422')"
      ]
     },
     "execution_count": 61,
     "metadata": {},
     "output_type": "execute_result"
    },
    {
     "data": {
      "text/plain": [
       "Text(0, 3, '992')"
      ]
     },
     "execution_count": 61,
     "metadata": {},
     "output_type": "execute_result"
    },
    {
     "data": {
      "text/plain": [
       "Text(0.5, 1.0, 'District SD 14 Predictions')"
      ]
     },
     "execution_count": 61,
     "metadata": {},
     "output_type": "execute_result"
    },
    {
     "data": {
      "text/plain": [
       "<BarContainer object of 2 artists>"
      ]
     },
     "execution_count": 61,
     "metadata": {},
     "output_type": "execute_result"
    },
    {
     "data": {
      "text/plain": [
       "<BarContainer object of 2 artists>"
      ]
     },
     "execution_count": 61,
     "metadata": {},
     "output_type": "execute_result"
    },
    {
     "data": {
      "text/plain": [
       "<BarContainer object of 2 artists>"
      ]
     },
     "execution_count": 61,
     "metadata": {},
     "output_type": "execute_result"
    },
    {
     "data": {
      "text/plain": [
       "[<matplotlib.axis.XTick at 0x7f85adb433d0>,\n",
       " <matplotlib.axis.XTick at 0x7f85adb2dad0>]"
      ]
     },
     "execution_count": 61,
     "metadata": {},
     "output_type": "execute_result"
    },
    {
     "data": {
      "text/plain": [
       "[Text(0, 0, 'LARIMER'), Text(0, 0, 'TOTAL')]"
      ]
     },
     "execution_count": 61,
     "metadata": {},
     "output_type": "execute_result"
    },
    {
     "data": {
      "text/plain": [
       "Text(0, 3, '7,118')"
      ]
     },
     "execution_count": 61,
     "metadata": {},
     "output_type": "execute_result"
    },
    {
     "data": {
      "text/plain": [
       "Text(0, 3, '3,420')"
      ]
     },
     "execution_count": 61,
     "metadata": {},
     "output_type": "execute_result"
    },
    {
     "data": {
      "text/plain": [
       "Text(0, 3, '546')"
      ]
     },
     "execution_count": 61,
     "metadata": {},
     "output_type": "execute_result"
    },
    {
     "data": {
      "text/plain": [
       "Text(0.5, 1.0, 'District SD 17 Predictions')"
      ]
     },
     "execution_count": 61,
     "metadata": {},
     "output_type": "execute_result"
    },
    {
     "data": {
      "text/plain": [
       "<BarContainer object of 2 artists>"
      ]
     },
     "execution_count": 61,
     "metadata": {},
     "output_type": "execute_result"
    },
    {
     "data": {
      "text/plain": [
       "<BarContainer object of 2 artists>"
      ]
     },
     "execution_count": 61,
     "metadata": {},
     "output_type": "execute_result"
    },
    {
     "data": {
      "text/plain": [
       "<BarContainer object of 2 artists>"
      ]
     },
     "execution_count": 61,
     "metadata": {},
     "output_type": "execute_result"
    },
    {
     "data": {
      "text/plain": [
       "[<matplotlib.axis.XTick at 0x7f85adccd510>,\n",
       " <matplotlib.axis.XTick at 0x7f85adcbbbd0>]"
      ]
     },
     "execution_count": 61,
     "metadata": {},
     "output_type": "execute_result"
    },
    {
     "data": {
      "text/plain": [
       "[Text(0, 0, 'BOULDER'), Text(0, 0, 'TOTAL')]"
      ]
     },
     "execution_count": 61,
     "metadata": {},
     "output_type": "execute_result"
    },
    {
     "data": {
      "text/plain": [
       "Text(0, 3, '783')"
      ]
     },
     "execution_count": 61,
     "metadata": {},
     "output_type": "execute_result"
    },
    {
     "data": {
      "text/plain": [
       "Text(0, 3, '166')"
      ]
     },
     "execution_count": 61,
     "metadata": {},
     "output_type": "execute_result"
    },
    {
     "data": {
      "text/plain": [
       "Text(0, 3, '102')"
      ]
     },
     "execution_count": 61,
     "metadata": {},
     "output_type": "execute_result"
    },
    {
     "data": {
      "text/plain": [
       "Text(0.5, 1.0, 'District SD 18 Predictions')"
      ]
     },
     "execution_count": 61,
     "metadata": {},
     "output_type": "execute_result"
    },
    {
     "data": {
      "text/plain": [
       "<BarContainer object of 2 artists>"
      ]
     },
     "execution_count": 61,
     "metadata": {},
     "output_type": "execute_result"
    },
    {
     "data": {
      "text/plain": [
       "<BarContainer object of 2 artists>"
      ]
     },
     "execution_count": 61,
     "metadata": {},
     "output_type": "execute_result"
    },
    {
     "data": {
      "text/plain": [
       "<BarContainer object of 2 artists>"
      ]
     },
     "execution_count": 61,
     "metadata": {},
     "output_type": "execute_result"
    },
    {
     "data": {
      "text/plain": [
       "[<matplotlib.axis.XTick at 0x7f85adf751d0>,\n",
       " <matplotlib.axis.XTick at 0x7f85ade43890>]"
      ]
     },
     "execution_count": 61,
     "metadata": {},
     "output_type": "execute_result"
    },
    {
     "data": {
      "text/plain": [
       "[Text(0, 0, 'BOULDER'), Text(0, 0, 'TOTAL')]"
      ]
     },
     "execution_count": 61,
     "metadata": {},
     "output_type": "execute_result"
    },
    {
     "data": {
      "text/plain": [
       "Text(0, 3, '6,121')"
      ]
     },
     "execution_count": 61,
     "metadata": {},
     "output_type": "execute_result"
    },
    {
     "data": {
      "text/plain": [
       "Text(0, 3, '1,623')"
      ]
     },
     "execution_count": 61,
     "metadata": {},
     "output_type": "execute_result"
    },
    {
     "data": {
      "text/plain": [
       "Text(0, 3, '644')"
      ]
     },
     "execution_count": 61,
     "metadata": {},
     "output_type": "execute_result"
    },
    {
     "data": {
      "text/plain": [
       "Text(0.5, 1.0, 'District SD 19 Predictions')"
      ]
     },
     "execution_count": 61,
     "metadata": {},
     "output_type": "execute_result"
    },
    {
     "data": {
      "text/plain": [
       "<BarContainer object of 2 artists>"
      ]
     },
     "execution_count": 61,
     "metadata": {},
     "output_type": "execute_result"
    },
    {
     "data": {
      "text/plain": [
       "<BarContainer object of 2 artists>"
      ]
     },
     "execution_count": 61,
     "metadata": {},
     "output_type": "execute_result"
    },
    {
     "data": {
      "text/plain": [
       "<BarContainer object of 2 artists>"
      ]
     },
     "execution_count": 61,
     "metadata": {},
     "output_type": "execute_result"
    },
    {
     "data": {
      "text/plain": [
       "[<matplotlib.axis.XTick at 0x7f85adfdd390>,\n",
       " <matplotlib.axis.XTick at 0x7f85adfc6a90>]"
      ]
     },
     "execution_count": 61,
     "metadata": {},
     "output_type": "execute_result"
    },
    {
     "data": {
      "text/plain": [
       "[Text(0, 0, 'JEFFERSON'), Text(0, 0, 'TOTAL')]"
      ]
     },
     "execution_count": 61,
     "metadata": {},
     "output_type": "execute_result"
    },
    {
     "data": {
      "text/plain": [
       "Text(0, 3, '2,135')"
      ]
     },
     "execution_count": 61,
     "metadata": {},
     "output_type": "execute_result"
    },
    {
     "data": {
      "text/plain": [
       "Text(0, 3, '1,780')"
      ]
     },
     "execution_count": 61,
     "metadata": {},
     "output_type": "execute_result"
    },
    {
     "data": {
      "text/plain": [
       "Text(0, 3, '160')"
      ]
     },
     "execution_count": 61,
     "metadata": {},
     "output_type": "execute_result"
    },
    {
     "data": {
      "text/plain": [
       "Text(0.5, 1.0, 'District SD 21 Predictions')"
      ]
     },
     "execution_count": 61,
     "metadata": {},
     "output_type": "execute_result"
    },
    {
     "data": {
      "text/plain": [
       "<BarContainer object of 2 artists>"
      ]
     },
     "execution_count": 61,
     "metadata": {},
     "output_type": "execute_result"
    },
    {
     "data": {
      "text/plain": [
       "<BarContainer object of 2 artists>"
      ]
     },
     "execution_count": 61,
     "metadata": {},
     "output_type": "execute_result"
    },
    {
     "data": {
      "text/plain": [
       "<BarContainer object of 2 artists>"
      ]
     },
     "execution_count": 61,
     "metadata": {},
     "output_type": "execute_result"
    },
    {
     "data": {
      "text/plain": [
       "[<matplotlib.axis.XTick at 0x7f85ae167950>,\n",
       " <matplotlib.axis.XTick at 0x7f85ae167090>]"
      ]
     },
     "execution_count": 61,
     "metadata": {},
     "output_type": "execute_result"
    },
    {
     "data": {
      "text/plain": [
       "[Text(0, 0, 'ADAMS'), Text(0, 0, 'TOTAL')]"
      ]
     },
     "execution_count": 61,
     "metadata": {},
     "output_type": "execute_result"
    },
    {
     "data": {
      "text/plain": [
       "Text(0, 3, '14,370')"
      ]
     },
     "execution_count": 61,
     "metadata": {},
     "output_type": "execute_result"
    },
    {
     "data": {
      "text/plain": [
       "Text(0, 3, '3,020')"
      ]
     },
     "execution_count": 61,
     "metadata": {},
     "output_type": "execute_result"
    },
    {
     "data": {
      "text/plain": [
       "Text(0, 3, '1,748')"
      ]
     },
     "execution_count": 61,
     "metadata": {},
     "output_type": "execute_result"
    },
    {
     "data": {
      "text/plain": [
       "Text(0.5, 1.0, 'District SD 23 Predictions')"
      ]
     },
     "execution_count": 61,
     "metadata": {},
     "output_type": "execute_result"
    },
    {
     "data": {
      "text/plain": [
       "<BarContainer object of 4 artists>"
      ]
     },
     "execution_count": 61,
     "metadata": {},
     "output_type": "execute_result"
    },
    {
     "data": {
      "text/plain": [
       "<BarContainer object of 4 artists>"
      ]
     },
     "execution_count": 61,
     "metadata": {},
     "output_type": "execute_result"
    },
    {
     "data": {
      "text/plain": [
       "<BarContainer object of 4 artists>"
      ]
     },
     "execution_count": 61,
     "metadata": {},
     "output_type": "execute_result"
    },
    {
     "data": {
      "text/plain": [
       "[<matplotlib.axis.XTick at 0x7f85ae5484d0>,\n",
       " <matplotlib.axis.XTick at 0x7f85ae1d4bd0>,\n",
       " <matplotlib.axis.XTick at 0x7f85ae1d48d0>,\n",
       " <matplotlib.axis.XTick at 0x7f85ae595bd0>]"
      ]
     },
     "execution_count": 61,
     "metadata": {},
     "output_type": "execute_result"
    },
    {
     "data": {
      "text/plain": [
       "[Text(0, 0, 'BROOMFIELD'),\n",
       " Text(0, 0, 'LARIMER'),\n",
       " Text(0, 0, 'WELD'),\n",
       " Text(0, 0, 'TOTAL')]"
      ]
     },
     "execution_count": 61,
     "metadata": {},
     "output_type": "execute_result"
    },
    {
     "data": {
      "text/plain": [
       "Text(0, 3, '91,360')"
      ]
     },
     "execution_count": 61,
     "metadata": {},
     "output_type": "execute_result"
    },
    {
     "data": {
      "text/plain": [
       "Text(0, 3, '109,301')"
      ]
     },
     "execution_count": 61,
     "metadata": {},
     "output_type": "execute_result"
    },
    {
     "data": {
      "text/plain": [
       "Text(0, 3, '6,380')"
      ]
     },
     "execution_count": 61,
     "metadata": {},
     "output_type": "execute_result"
    },
    {
     "data": {
      "text/plain": [
       "Text(0.5, 1.0, 'District SD 25 Predictions')"
      ]
     },
     "execution_count": 61,
     "metadata": {},
     "output_type": "execute_result"
    },
    {
     "data": {
      "text/plain": [
       "<BarContainer object of 2 artists>"
      ]
     },
     "execution_count": 61,
     "metadata": {},
     "output_type": "execute_result"
    },
    {
     "data": {
      "text/plain": [
       "<BarContainer object of 2 artists>"
      ]
     },
     "execution_count": 61,
     "metadata": {},
     "output_type": "execute_result"
    },
    {
     "data": {
      "text/plain": [
       "<BarContainer object of 2 artists>"
      ]
     },
     "execution_count": 61,
     "metadata": {},
     "output_type": "execute_result"
    },
    {
     "data": {
      "text/plain": [
       "[<matplotlib.axis.XTick at 0x7f85ae6e84d0>,\n",
       " <matplotlib.axis.XTick at 0x7f85ae5b1bd0>]"
      ]
     },
     "execution_count": 61,
     "metadata": {},
     "output_type": "execute_result"
    },
    {
     "data": {
      "text/plain": [
       "[Text(0, 0, 'ADAMS'), Text(0, 0, 'TOTAL')]"
      ]
     },
     "execution_count": 61,
     "metadata": {},
     "output_type": "execute_result"
    },
    {
     "data": {
      "text/plain": [
       "Text(0, 3, '53,817')"
      ]
     },
     "execution_count": 61,
     "metadata": {},
     "output_type": "execute_result"
    },
    {
     "data": {
      "text/plain": [
       "Text(0, 3, '49,028')"
      ]
     },
     "execution_count": 61,
     "metadata": {},
     "output_type": "execute_result"
    },
    {
     "data": {
      "text/plain": [
       "Text(0, 3, '3,629')"
      ]
     },
     "execution_count": 61,
     "metadata": {},
     "output_type": "execute_result"
    },
    {
     "data": {
      "text/plain": [
       "Text(0.5, 1.0, 'District SD 26 Predictions')"
      ]
     },
     "execution_count": 61,
     "metadata": {},
     "output_type": "execute_result"
    },
    {
     "data": {
      "text/plain": [
       "<BarContainer object of 2 artists>"
      ]
     },
     "execution_count": 61,
     "metadata": {},
     "output_type": "execute_result"
    },
    {
     "data": {
      "text/plain": [
       "<BarContainer object of 2 artists>"
      ]
     },
     "execution_count": 61,
     "metadata": {},
     "output_type": "execute_result"
    },
    {
     "data": {
      "text/plain": [
       "<BarContainer object of 2 artists>"
      ]
     },
     "execution_count": 61,
     "metadata": {},
     "output_type": "execute_result"
    },
    {
     "data": {
      "text/plain": [
       "[<matplotlib.axis.XTick at 0x7f85ae750650>,\n",
       " <matplotlib.axis.XTick at 0x7f85ae737d50>]"
      ]
     },
     "execution_count": 61,
     "metadata": {},
     "output_type": "execute_result"
    },
    {
     "data": {
      "text/plain": [
       "[Text(0, 0, 'ARAPAHOE'), Text(0, 0, 'TOTAL')]"
      ]
     },
     "execution_count": 61,
     "metadata": {},
     "output_type": "execute_result"
    },
    {
     "data": {
      "text/plain": [
       "Text(0, 3, '57,070')"
      ]
     },
     "execution_count": 61,
     "metadata": {},
     "output_type": "execute_result"
    },
    {
     "data": {
      "text/plain": [
       "Text(0, 3, '46,436')"
      ]
     },
     "execution_count": 61,
     "metadata": {},
     "output_type": "execute_result"
    },
    {
     "data": {
      "text/plain": [
       "Text(0, 3, '3,918')"
      ]
     },
     "execution_count": 61,
     "metadata": {},
     "output_type": "execute_result"
    },
    {
     "data": {
      "text/plain": [
       "Text(0.5, 1.0, 'District SD 27 Predictions')"
      ]
     },
     "execution_count": 61,
     "metadata": {},
     "output_type": "execute_result"
    },
    {
     "data": {
      "text/plain": [
       "<BarContainer object of 2 artists>"
      ]
     },
     "execution_count": 61,
     "metadata": {},
     "output_type": "execute_result"
    },
    {
     "data": {
      "text/plain": [
       "<BarContainer object of 2 artists>"
      ]
     },
     "execution_count": 61,
     "metadata": {},
     "output_type": "execute_result"
    },
    {
     "data": {
      "text/plain": [
       "<BarContainer object of 2 artists>"
      ]
     },
     "execution_count": 61,
     "metadata": {},
     "output_type": "execute_result"
    },
    {
     "data": {
      "text/plain": [
       "[<matplotlib.axis.XTick at 0x7f85ae8d1c50>,\n",
       " <matplotlib.axis.XTick at 0x7f85ae8d1390>]"
      ]
     },
     "execution_count": 61,
     "metadata": {},
     "output_type": "execute_result"
    },
    {
     "data": {
      "text/plain": [
       "[Text(0, 0, 'ARAPAHOE'), Text(0, 0, 'TOTAL')]"
      ]
     },
     "execution_count": 61,
     "metadata": {},
     "output_type": "execute_result"
    },
    {
     "data": {
      "text/plain": [
       "Text(0, 3, '43,701')"
      ]
     },
     "execution_count": 61,
     "metadata": {},
     "output_type": "execute_result"
    },
    {
     "data": {
      "text/plain": [
       "Text(0, 3, '54,797')"
      ]
     },
     "execution_count": 61,
     "metadata": {},
     "output_type": "execute_result"
    },
    {
     "data": {
      "text/plain": [
       "Text(0, 3, '3,122')"
      ]
     },
     "execution_count": 61,
     "metadata": {},
     "output_type": "execute_result"
    },
    {
     "data": {
      "text/plain": [
       "Text(0.5, 1.0, 'District SD 28 Predictions')"
      ]
     },
     "execution_count": 61,
     "metadata": {},
     "output_type": "execute_result"
    },
    {
     "data": {
      "text/plain": [
       "<BarContainer object of 2 artists>"
      ]
     },
     "execution_count": 61,
     "metadata": {},
     "output_type": "execute_result"
    },
    {
     "data": {
      "text/plain": [
       "<BarContainer object of 2 artists>"
      ]
     },
     "execution_count": 61,
     "metadata": {},
     "output_type": "execute_result"
    },
    {
     "data": {
      "text/plain": [
       "<BarContainer object of 2 artists>"
      ]
     },
     "execution_count": 61,
     "metadata": {},
     "output_type": "execute_result"
    },
    {
     "data": {
      "text/plain": [
       "[<matplotlib.axis.XTick at 0x7f85aea57d90>,\n",
       " <matplotlib.axis.XTick at 0x7f85aea574d0>]"
      ]
     },
     "execution_count": 61,
     "metadata": {},
     "output_type": "execute_result"
    },
    {
     "data": {
      "text/plain": [
       "[Text(0, 0, 'ARAPAHOE'), Text(0, 0, 'TOTAL')]"
      ]
     },
     "execution_count": 61,
     "metadata": {},
     "output_type": "execute_result"
    },
    {
     "data": {
      "text/plain": [
       "Text(0, 3, '60,390')"
      ]
     },
     "execution_count": 61,
     "metadata": {},
     "output_type": "execute_result"
    },
    {
     "data": {
      "text/plain": [
       "Text(0, 3, '40,251')"
      ]
     },
     "execution_count": 61,
     "metadata": {},
     "output_type": "execute_result"
    },
    {
     "data": {
      "text/plain": [
       "Text(0, 3, '4,234')"
      ]
     },
     "execution_count": 61,
     "metadata": {},
     "output_type": "execute_result"
    },
    {
     "data": {
      "text/plain": [
       "Text(0.5, 1.0, 'District SD 29 Predictions')"
      ]
     },
     "execution_count": 61,
     "metadata": {},
     "output_type": "execute_result"
    },
    {
     "data": {
      "text/plain": [
       "<BarContainer object of 2 artists>"
      ]
     },
     "execution_count": 61,
     "metadata": {},
     "output_type": "execute_result"
    },
    {
     "data": {
      "text/plain": [
       "<BarContainer object of 2 artists>"
      ]
     },
     "execution_count": 61,
     "metadata": {},
     "output_type": "execute_result"
    },
    {
     "data": {
      "text/plain": [
       "<BarContainer object of 2 artists>"
      ]
     },
     "execution_count": 61,
     "metadata": {},
     "output_type": "execute_result"
    },
    {
     "data": {
      "text/plain": [
       "[<matplotlib.axis.XTick at 0x7f85aebed410>,\n",
       " <matplotlib.axis.XTick at 0x7f85aebd7b10>]"
      ]
     },
     "execution_count": 61,
     "metadata": {},
     "output_type": "execute_result"
    },
    {
     "data": {
      "text/plain": [
       "[Text(0, 0, 'ARAPAHOE'), Text(0, 0, 'TOTAL')]"
      ]
     },
     "execution_count": 61,
     "metadata": {},
     "output_type": "execute_result"
    },
    {
     "data": {
      "text/plain": [
       "Text(0, 3, '44,181')"
      ]
     },
     "execution_count": 61,
     "metadata": {},
     "output_type": "execute_result"
    },
    {
     "data": {
      "text/plain": [
       "Text(0, 3, '34,970')"
      ]
     },
     "execution_count": 61,
     "metadata": {},
     "output_type": "execute_result"
    },
    {
     "data": {
      "text/plain": [
       "Text(0, 3, '3,052')"
      ]
     },
     "execution_count": 61,
     "metadata": {},
     "output_type": "execute_result"
    },
    {
     "data": {
      "text/plain": [
       "Text(0.5, 1.0, 'District SD 31 Predictions')"
      ]
     },
     "execution_count": 61,
     "metadata": {},
     "output_type": "execute_result"
    },
    {
     "data": {
      "text/plain": [
       "<BarContainer object of 3 artists>"
      ]
     },
     "execution_count": 61,
     "metadata": {},
     "output_type": "execute_result"
    },
    {
     "data": {
      "text/plain": [
       "<BarContainer object of 3 artists>"
      ]
     },
     "execution_count": 61,
     "metadata": {},
     "output_type": "execute_result"
    },
    {
     "data": {
      "text/plain": [
       "<BarContainer object of 3 artists>"
      ]
     },
     "execution_count": 61,
     "metadata": {},
     "output_type": "execute_result"
    },
    {
     "data": {
      "text/plain": [
       "[<matplotlib.axis.XTick at 0x7f85aed71f90>,\n",
       " <matplotlib.axis.XTick at 0x7f85aed71750>,\n",
       " <matplotlib.axis.XTick at 0x7f85aed5ac10>]"
      ]
     },
     "execution_count": 61,
     "metadata": {},
     "output_type": "execute_result"
    },
    {
     "data": {
      "text/plain": [
       "[Text(0, 0, 'ARAPAHOE'), Text(0, 0, 'DENVER'), Text(0, 0, 'TOTAL')]"
      ]
     },
     "execution_count": 61,
     "metadata": {},
     "output_type": "execute_result"
    },
    {
     "data": {
      "text/plain": [
       "Text(0, 3, '44,375')"
      ]
     },
     "execution_count": 61,
     "metadata": {},
     "output_type": "execute_result"
    },
    {
     "data": {
      "text/plain": [
       "Text(0, 3, '19,590')"
      ]
     },
     "execution_count": 61,
     "metadata": {},
     "output_type": "execute_result"
    },
    {
     "data": {
      "text/plain": [
       "Text(0, 3, '3,533')"
      ]
     },
     "execution_count": 61,
     "metadata": {},
     "output_type": "execute_result"
    },
    {
     "data": {
      "text/plain": [
       "Text(0.5, 1.0, 'District SD 33 Predictions')"
      ]
     },
     "execution_count": 61,
     "metadata": {},
     "output_type": "execute_result"
    },
    {
     "data": {
      "text/plain": [
       "<BarContainer object of 2 artists>"
      ]
     },
     "execution_count": 61,
     "metadata": {},
     "output_type": "execute_result"
    },
    {
     "data": {
      "text/plain": [
       "<BarContainer object of 2 artists>"
      ]
     },
     "execution_count": 61,
     "metadata": {},
     "output_type": "execute_result"
    },
    {
     "data": {
      "text/plain": [
       "<BarContainer object of 2 artists>"
      ]
     },
     "execution_count": 61,
     "metadata": {},
     "output_type": "execute_result"
    },
    {
     "data": {
      "text/plain": [
       "[<matplotlib.axis.XTick at 0x7f85af02c190>,\n",
       " <matplotlib.axis.XTick at 0x7f85aeef7890>]"
      ]
     },
     "execution_count": 61,
     "metadata": {},
     "output_type": "execute_result"
    },
    {
     "data": {
      "text/plain": [
       "[Text(0, 0, 'DENVER'), Text(0, 0, 'TOTAL')]"
      ]
     },
     "execution_count": 61,
     "metadata": {},
     "output_type": "execute_result"
    },
    {
     "data": {
      "text/plain": [
       "Text(0, 3, '57,566')"
      ]
     },
     "execution_count": 61,
     "metadata": {},
     "output_type": "execute_result"
    },
    {
     "data": {
      "text/plain": [
       "Text(0, 3, '15,153')"
      ]
     },
     "execution_count": 61,
     "metadata": {},
     "output_type": "execute_result"
    },
    {
     "data": {
      "text/plain": [
       "Text(0, 3, '5,959')"
      ]
     },
     "execution_count": 61,
     "metadata": {},
     "output_type": "execute_result"
    },
    {
     "data": {
      "text/plain": [
       "Text(0.5, 1.0, 'District SD 35 Predictions')"
      ]
     },
     "execution_count": 61,
     "metadata": {},
     "output_type": "execute_result"
    },
    {
     "data": {
      "text/plain": [
       "<BarContainer object of 17 artists>"
      ]
     },
     "execution_count": 61,
     "metadata": {},
     "output_type": "execute_result"
    },
    {
     "data": {
      "text/plain": [
       "<BarContainer object of 17 artists>"
      ]
     },
     "execution_count": 61,
     "metadata": {},
     "output_type": "execute_result"
    },
    {
     "data": {
      "text/plain": [
       "<BarContainer object of 17 artists>"
      ]
     },
     "execution_count": 61,
     "metadata": {},
     "output_type": "execute_result"
    },
    {
     "data": {
      "text/plain": [
       "[<matplotlib.axis.XTick at 0x7f85af0957d0>,\n",
       " <matplotlib.axis.XTick at 0x7f85af07fed0>,\n",
       " <matplotlib.axis.XTick at 0x7f85af07f650>,\n",
       " <matplotlib.axis.XTick at 0x7f85af283750>,\n",
       " <matplotlib.axis.XTick at 0x7f85af283c10>,\n",
       " <matplotlib.axis.XTick at 0x7f85af243550>,\n",
       " <matplotlib.axis.XTick at 0x7f85af29f550>,\n",
       " <matplotlib.axis.XTick at 0x7f85af29fb50>,\n",
       " <matplotlib.axis.XTick at 0x7f85af290250>,\n",
       " <matplotlib.axis.XTick at 0x7f85af290810>,\n",
       " <matplotlib.axis.XTick at 0x7f85af290e10>,\n",
       " <matplotlib.axis.XTick at 0x7f85af296490>,\n",
       " <matplotlib.axis.XTick at 0x7f85af290150>,\n",
       " <matplotlib.axis.XTick at 0x7f85af243dd0>,\n",
       " <matplotlib.axis.XTick at 0x7f85af296910>,\n",
       " <matplotlib.axis.XTick at 0x7f85af296e50>,\n",
       " <matplotlib.axis.XTick at 0x7f85af2a0690>]"
      ]
     },
     "execution_count": 61,
     "metadata": {},
     "output_type": "execute_result"
    },
    {
     "data": {
      "text/plain": [
       "[Text(0, 0, 'ALAMOSA'),\n",
       " Text(0, 0, 'BACA'),\n",
       " Text(0, 0, 'BENT'),\n",
       " Text(0, 0, 'CONEJOS'),\n",
       " Text(0, 0, 'COSTILLA'),\n",
       " Text(0, 0, 'CROWLEY'),\n",
       " Text(0, 0, 'CUSTER'),\n",
       " Text(0, 0, 'HUERFANO'),\n",
       " Text(0, 0, 'KIOWA'),\n",
       " Text(0, 0, 'LAS ANIMAS'),\n",
       " Text(0, 0, 'MINERAL'),\n",
       " Text(0, 0, 'OTERO'),\n",
       " Text(0, 0, 'PROWERS'),\n",
       " Text(0, 0, 'PUEBLO'),\n",
       " Text(0, 0, 'RIO GRANDE'),\n",
       " Text(0, 0, 'SAGUACHE'),\n",
       " Text(0, 0, 'TOTAL')]"
      ]
     },
     "execution_count": 61,
     "metadata": {},
     "output_type": "execute_result"
    },
    {
     "data": {
      "text/plain": [
       "Text(0, 3, '291,293')"
      ]
     },
     "execution_count": 61,
     "metadata": {},
     "output_type": "execute_result"
    },
    {
     "data": {
      "text/plain": [
       "Text(0, 3, '401,413')"
      ]
     },
     "execution_count": 61,
     "metadata": {},
     "output_type": "execute_result"
    },
    {
     "data": {
      "text/plain": [
       "Text(0, 3, '22,091')"
      ]
     },
     "execution_count": 61,
     "metadata": {},
     "output_type": "execute_result"
    },
    {
     "data": {
      "text/plain": [
       "Text(0.5, 1.0, 'District SD 4 Predictions')"
      ]
     },
     "execution_count": 61,
     "metadata": {},
     "output_type": "execute_result"
    },
    {
     "data": {
      "text/plain": [
       "<BarContainer object of 2 artists>"
      ]
     },
     "execution_count": 61,
     "metadata": {},
     "output_type": "execute_result"
    },
    {
     "data": {
      "text/plain": [
       "<BarContainer object of 2 artists>"
      ]
     },
     "execution_count": 61,
     "metadata": {},
     "output_type": "execute_result"
    },
    {
     "data": {
      "text/plain": [
       "<BarContainer object of 2 artists>"
      ]
     },
     "execution_count": 61,
     "metadata": {},
     "output_type": "execute_result"
    },
    {
     "data": {
      "text/plain": [
       "[<matplotlib.axis.XTick at 0x7f85af3f1850>,\n",
       " <matplotlib.axis.XTick at 0x7f85af2c9f50>]"
      ]
     },
     "execution_count": 61,
     "metadata": {},
     "output_type": "execute_result"
    },
    {
     "data": {
      "text/plain": [
       "[Text(0, 0, 'DOUGLAS'), Text(0, 0, 'TOTAL')]"
      ]
     },
     "execution_count": 61,
     "metadata": {},
     "output_type": "execute_result"
    },
    {
     "data": {
      "text/plain": [
       "Text(0, 3, '371')"
      ]
     },
     "execution_count": 61,
     "metadata": {},
     "output_type": "execute_result"
    },
    {
     "data": {
      "text/plain": [
       "Text(0, 3, '575')"
      ]
     },
     "execution_count": 61,
     "metadata": {},
     "output_type": "execute_result"
    },
    {
     "data": {
      "text/plain": [
       "Text(0, 3, '29')"
      ]
     },
     "execution_count": 61,
     "metadata": {},
     "output_type": "execute_result"
    },
    {
     "data": {
      "text/plain": [
       "Text(0.5, 1.0, 'District SD 8 Predictions')"
      ]
     },
     "execution_count": 61,
     "metadata": {},
     "output_type": "execute_result"
    },
    {
     "data": {
      "text/plain": [
       "<BarContainer object of 8 artists>"
      ]
     },
     "execution_count": 61,
     "metadata": {},
     "output_type": "execute_result"
    },
    {
     "data": {
      "text/plain": [
       "<BarContainer object of 8 artists>"
      ]
     },
     "execution_count": 61,
     "metadata": {},
     "output_type": "execute_result"
    },
    {
     "data": {
      "text/plain": [
       "<BarContainer object of 8 artists>"
      ]
     },
     "execution_count": 61,
     "metadata": {},
     "output_type": "execute_result"
    },
    {
     "data": {
      "text/plain": [
       "[<matplotlib.axis.XTick at 0x7f85af459210>,\n",
       " <matplotlib.axis.XTick at 0x7f85af443910>,\n",
       " <matplotlib.axis.XTick at 0x7f85af443590>,\n",
       " <matplotlib.axis.XTick at 0x7f85af5f08d0>,\n",
       " <matplotlib.axis.XTick at 0x7f85af5f0290>,\n",
       " <matplotlib.axis.XTick at 0x7f85af5fc510>,\n",
       " <matplotlib.axis.XTick at 0x7f85af5fcb10>,\n",
       " <matplotlib.axis.XTick at 0x7f85af5fce50>]"
      ]
     },
     "execution_count": 61,
     "metadata": {},
     "output_type": "execute_result"
    },
    {
     "data": {
      "text/plain": [
       "[Text(0, 0, 'GARFIELD'),\n",
       " Text(0, 0, 'GRAND'),\n",
       " Text(0, 0, 'JACKSON'),\n",
       " Text(0, 0, 'MOFFAT'),\n",
       " Text(0, 0, 'RIO BLANCO'),\n",
       " Text(0, 0, 'ROUTT'),\n",
       " Text(0, 0, 'SUMMIT'),\n",
       " Text(0, 0, 'TOTAL')]"
      ]
     },
     "execution_count": 61,
     "metadata": {},
     "output_type": "execute_result"
    },
    {
     "data": {
      "text/plain": [
       "Text(0, 3, '19,577')"
      ]
     },
     "execution_count": 61,
     "metadata": {},
     "output_type": "execute_result"
    },
    {
     "data": {
      "text/plain": [
       "Text(0, 3, '30,432')"
      ]
     },
     "execution_count": 61,
     "metadata": {},
     "output_type": "execute_result"
    },
    {
     "data": {
      "text/plain": [
       "Text(0, 3, '1,588')"
      ]
     },
     "execution_count": 61,
     "metadata": {},
     "output_type": "execute_result"
    },
    {
     "data": {
      "image/png": "[encoded data removed]",
      "text/plain": [
       "<Figure size 684x432 with 1 Axes>"
      ]
     },
     "metadata": {
      "needs_background": "light"
     },
     "output_type": "display_data"
    },
    {
     "data": {
      "image/png": "[encoded data removed]",
      "text/plain": [
       "<Figure size 684x432 with 1 Axes>"
      ]
     },
     "metadata": {
      "needs_background": "light"
     },
     "output_type": "display_data"
    },
    {
     "data": {
      "image/png": "[encoded data removed]",
      "text/plain": [
       "<Figure size 684x432 with 1 Axes>"
      ]
     },
     "metadata": {
      "needs_background": "light"
     },
     "output_type": "display_data"
    },
    {
     "data": {
      "image/png": "[encoded data removed]",
      "text/plain": [
       "<Figure size 684x432 with 1 Axes>"
      ]
     },
     "metadata": {
      "needs_background": "light"
     },
     "output_type": "display_data"
    },
    {
     "data": {
      "image/png": "[encoded data removed]",
      "text/plain": [
       "<Figure size 684x432 with 1 Axes>"
      ]
     },
     "metadata": {
      "needs_background": "light"
     },
     "output_type": "display_data"
    },
    {
     "data": {
      "image/png": "[encoded data removed]",
      "text/plain": [
       "<Figure size 684x432 with 1 Axes>"
      ]
     },
     "metadata": {
      "needs_background": "light"
     },
     "output_type": "display_data"
    },
    {
     "data": {
      "image/png": "[encoded data removed]",
      "text/plain": [
       "<Figure size 684x432 with 1 Axes>"
      ]
     },
     "metadata": {
      "needs_background": "light"
     },
     "output_type": "display_data"
    },
    {
     "data": {
      "image/png": "[encoded data removed]",
      "text/plain": [
       "<Figure size 684x432 with 1 Axes>"
      ]
     },
     "metadata": {
      "needs_background": "light"
     },
     "output_type": "display_data"
    },
    {
     "data": {
      "image/png": "[encoded data removed]",
      "text/plain": [
       "<Figure size 684x432 with 1 Axes>"
      ]
     },
     "metadata": {
      "needs_background": "light"
     },
     "output_type": "display_data"
    },
    {
     "data": {
      "image/png": "[encoded data removed]",
      "text/plain": [
       "<Figure size 684x432 with 1 Axes>"
      ]
     },
     "metadata": {
      "needs_background": "light"
     },
     "output_type": "display_data"
    },
    {
     "data": {
      "image/png": "[encoded data removed]",
      "text/plain": [
       "<Figure size 684x432 with 1 Axes>"
      ]
     },
     "metadata": {
      "needs_background": "light"
     },
     "output_type": "display_data"
    },
    {
     "data": {
      "image/png": "[encoded data removed]",
      "text/plain": [
       "<Figure size 684x432 with 1 Axes>"
      ]
     },
     "metadata": {
      "needs_background": "light"
     },
     "output_type": "display_data"
    },
    {
     "data": {
      "image/png": "[encoded data removed]",
      "text/plain": [
       "<Figure size 684x432 with 1 Axes>"
      ]
     },
     "metadata": {
      "needs_background": "light"
     },
     "output_type": "display_data"
    },
    {
     "data": {
      "image/png": "[encoded data removed]",
      "text/plain": [
       "<Figure size 684x432 with 1 Axes>"
      ]
     },
     "metadata": {
      "needs_background": "light"
     },
     "output_type": "display_data"
    },
    {
     "data": {
      "image/png": "[encoded data removed]",
      "text/plain": [
       "<Figure size 684x432 with 1 Axes>"
      ]
     },
     "metadata": {
      "needs_background": "light"
     },
     "output_type": "display_data"
    },
    {
     "data": {
      "image/png": "[encoded data removed]",
      "text/plain": [
       "<Figure size 684x432 with 1 Axes>"
      ]
     },
     "metadata": {
      "needs_background": "light"
     },
     "output_type": "display_data"
    },
    {
     "data": {
      "image/png": "[encoded data removed]",
      "text/plain": [
       "<Figure size 684x432 with 1 Axes>"
      ]
     },
     "metadata": {
      "needs_background": "light"
     },
     "output_type": "display_data"
    },
    {
     "data": {
      "image/png": "[encoded data removed]",
      "text/plain": [
       "<Figure size 684x432 with 1 Axes>"
      ]
     },
     "metadata": {
      "needs_background": "light"
     },
     "output_type": "display_data"
    }
   ],
   "source": [
    "import matplotlib as mpl\n",
    "\n",
    "# Use the Gill Sans font\n",
    "import matplotlib.pylab as pylab\n",
    "\n",
    "import matplotlib.font_manager as fm\n",
    "font = fm.FontProperties(\n",
    "       family = 'Gill Sans',\n",
    "       fname = '/usr/share/fonts/truetype/adf/GilliusADF-Regular.otf')\n",
    "params = {\n",
    "         'font.size': 14,\n",
    "         'font.style': 'italic',\n",
    "         'legend.fontsize': 14,\n",
    "         'figure.figsize': (9.5, 6),\n",
    "         'axes.labelsize': 14,\n",
    "         'axes.titlesize': 16,\n",
    "         'xtick.labelsize': 14,\n",
    "         'ytick.labelsize': 14,\n",
    "         'axes.spines.right' : False,\n",
    "         'axes.spines.left' : False,\n",
    "         'axes.spines.top' : False,\n",
    "         'axes.spines.bottom' : False,\n",
    "         'font.family' : 'Gill Sans'}\n",
    "pylab.rcParams.update(params)\n",
    "\n",
    "\n",
    "width = .25\n",
    "\n",
    "for district in mean_df.DISTRICT.unique():\n",
    "    fig, ax = plt.subplots()\n",
    "    \n",
    "    ax.set_title('District {} Predictions'.format(district));\n",
    "    \n",
    "    counties = mean_df[mean_df.DISTRICT == district].COUNTY.values\n",
    "    \n",
    "    dem_votes   = mean_df[mean_df.DISTRICT == district].DEM.values\n",
    "    rep_votes   = mean_df[mean_df.DISTRICT == district].REP.values\n",
    "    other_votes = mean_df[mean_df.DISTRICT == district].OTHER.values\n",
    "    \n",
    "    dem_std   = std_df[mean_df.DISTRICT == district].DEM.values\n",
    "    rep_std   = std_df[mean_df.DISTRICT == district].REP.values\n",
    "    other_std = std_df[mean_df.DISTRICT == district].OTHER.values\n",
    "    \n",
    "    counties = np.append(counties, 'TOTAL')\n",
    "    \n",
    "    dem_votes = np.append(dem_votes, np.sum(dem_votes))\n",
    "    dem_std = np.append(dem_std, np.sum(dem_std))\n",
    "    \n",
    "    rep_votes = np.append(rep_votes, np.sum(rep_votes))\n",
    "    rep_std = np.append(rep_std, np.sum(rep_std))\n",
    "    \n",
    "    other_votes = np.append(other_votes, np.sum(other_votes))\n",
    "    other_std = np.append(other_std, np.sum(other_std))\n",
    "    \n",
    "    \n",
    "    x = np.arange(len(counties))\n",
    "    \n",
    "    ax.bar(x - width, dem_votes, width, label=counties, yerr=2.*std_other, color='tab:blue', alpha=0.5);\n",
    "    ax.bar(x, rep_votes, width, label=counties, yerr = 2.*std_other, color='tab:red', alpha=0.5);\n",
    "    ax.bar(x+width, other_votes, width, label=counties, yerr = 2.*std_other, color='tab:green', alpha=0.5);\n",
    "    \n",
    "    ax.set_xticks(x)\n",
    "    for tick in ax.get_xticklabels():\n",
    "        tick.set_rotation(85)\n",
    "    ax.set_xticklabels(counties)\n",
    "    ax.get_yaxis().set_major_formatter(\n",
    "        mpl.ticker.FuncFormatter(lambda x, p: format(int(x), ',')))\n",
    "    \n",
    "    ax.annotate(format(int(dem_votes[-1]), ','),\n",
    "            xy=(x[-1]-width, dem_votes[-1]),\n",
    "            xytext=(0, 3),  # 3 points vertical offset\n",
    "            textcoords=\"offset points\",\n",
    "            ha='center', va='bottom');\n",
    "    \n",
    "    ax.annotate(format(int(rep_votes[-1]), ','),\n",
    "            xy=(x[-1], rep_votes[-1]),\n",
    "            xytext=(0, 3),  # 3 points vertical offset\n",
    "            textcoords=\"offset points\",\n",
    "            ha='center', va='bottom');\n",
    "    \n",
    "    ax.annotate(format(int(other_votes[-1]), ','),\n",
    "            xy=(x[-1]+width, other_votes[-1]),\n",
    "            xytext=(0, 3),  # 3 points vertical offset\n",
    "            textcoords=\"offset points\",\n",
    "            ha='center', va='bottom');\n",
    "    \n",
    "    \n",
    "    fig.tight_layout()"
   ]
  },
  {
   "cell_type": "code",
   "execution_count": null,
   "metadata": {},
   "outputs": [],
   "source": []
  }
 ],
 "metadata": {
  "kernelspec": {
   "display_name": "Python 3",
   "language": "python",
   "name": "python3"
  },
  "language_info": {
   "codemirror_mode": {
    "name": "ipython",
    "version": 3
   },
   "file_extension": ".py",
   "mimetype": "text/x-python",
   "name": "python",
   "nbconvert_exporter": "python",
   "pygments_lexer": "ipython3",
   "version": "3.7.7"
  }
 },
 "nbformat": 4,
 "nbformat_minor": 4
}
