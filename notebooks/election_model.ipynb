{
 "cells": [
  {
   "cell_type": "markdown",
   "metadata": {},
   "source": [
    "# Predictive Election NN Model\n",
    "\n",
    "Using the cleaned registration and election result data, built a neural network model for predicting outcomes of elections. Input features are:\n",
    "\n",
    "* Partisan registration in upcoming election\n",
    "* Partisan registration in prior election\n",
    "* Outcome of prior election\n",
    "\n",
    "One of the challenges with predicting election outcomes in Colorado is the variability due to about a third of the state being unaffiliated with the two major parties. The behavior of those unaffiliateds with vary by district, so we need a model that can account for that.\n",
    "\n",
    "We have a pretty limited dataset, using the following combinations\n",
    "\n",
    "| Inputs | Output |\n",
    "|---------|----------|\n",
    "|2012 reg., results, 2016 reg. | 2016 results |\n",
    "|2014 reg., results, 2018 reg. | 2018 results |\n",
    "|2016 reg., results, 2020 reg. | 2020 results |\n",
    "\n",
    "with the final goal of using the 2016 reg. and results + the most current 2020 reg. to predict the 2020 results."
   ]
  },
  {
   "cell_type": "code",
   "execution_count": 1,
   "metadata": {},
   "outputs": [],
   "source": [
    "# Useful imports\n",
    "import pandas as pd\n",
    "\n",
    "import tensorflow\n",
    "from tensorflow.keras.models import Sequential\n",
    "from tensorflow.keras.layers import Dense, GaussianNoise\n",
    "from tensorflow import keras\n",
    "\n",
    "from matplotlib import pyplot as plt\n",
    "\n",
    "import numpy as np\n",
    "\n",
    "from tqdm.notebook import tqdm\n",
    "\n",
    "# needed for our loss plots\n",
    "from IPython.display import clear_output\n",
    "\n",
    "%matplotlib inline\n",
    "\n",
    "res_dir = '../data/results/cleaned'\n",
    "reg_dir = '../data/registration/cleaned'\n",
    "\n",
    "build_models = False"
   ]
  },
  {
   "cell_type": "code",
   "execution_count": 2,
   "metadata": {},
   "outputs": [],
   "source": [
    "class PlotLosses(keras.callbacks.Callback):\n",
    "    def on_train_begin(self, logs={}):\n",
    "        \n",
    "        self.i = 0\n",
    "        self.x = []\n",
    "        self.losses = []\n",
    "        self.val_losses = []\n",
    "        \n",
    "        self.fig = plt.figure()      \n",
    "        self.logs = []\n",
    "\n",
    "    def on_epoch_end(self, epoch, logs={}):\n",
    "        \n",
    "        self.logs.append(logs)\n",
    "        self.x.append(self.i)\n",
    "        self.losses.append(logs.get('loss'))\n",
    "        self.val_losses.append(logs.get('val_loss'))\n",
    "        self.i += 1\n",
    "        \n",
    "        clear_output(wait=True)\n",
    "        plt.loglog(self.x, self.losses, label=\"loss\")\n",
    "        plt.loglog(self.x, self.val_losses, label=\"val_loss\")\n",
    "        plt.legend()\n",
    "        plt.ylabel('error')\n",
    "        plt.xlabel('epoch')\n",
    "        plt.show();\n",
    "        \n",
    "plot_losses = PlotLosses()"
   ]
  },
  {
   "cell_type": "markdown",
   "metadata": {},
   "source": [
    "## Data Preparation\n",
    "\n",
    "Need to arrange the cleaned CSV files into the inputs and outputs with appropriate groupings.\n",
    "\n",
    "Senate elections are every four years, so prior results from 2012 will be paired with registration in 2016 to predict the 2016 outcome. Similarly with 2014 and 2018."
   ]
  },
  {
   "cell_type": "markdown",
   "metadata": {},
   "source": [
    "First, define some helper functions that will pre-process the data from the cleaned registration and results files"
   ]
  },
  {
   "cell_type": "code",
   "execution_count": 3,
   "metadata": {},
   "outputs": [],
   "source": [
    "def get_registration(year):\n",
    "    \"\"\"Given an input year, snag the registration data for that year and collapse the affiliation of active\n",
    "    voters into REP, DEM, OTHER\n",
    "    \n",
    "    Returns a dataframe with columns DISTRICT-COUNTY, REP, DEM, OTHERS\"\"\"\n",
    "    \n",
    "    # read in the data\n",
    "    reg_df = pd.read_csv(reg_dir+'/{}.csv'.format(year))\n",
    "    \n",
    "    # filter out where the county value is empty, which is a \"total\" row\n",
    "    reg_df = reg_df[reg_df['COUNTY'].notnull()]\n",
    "    \n",
    "    # isolate only active voters\n",
    "    active_cols = [col for col in reg_df.columns if '-ACTIVE' in col]\n",
    "    \n",
    "    # find third-party/unaffiliated voter data\n",
    "    other_cols = [col for col in active_cols if 'DEM' not in col and 'REP' not in col]\n",
    "    \n",
    "    # combine all unaffiliateds into one column\n",
    "    reg_df['OTHER-ACTIVE'] = reg_df[other_cols].sum(axis=1)\n",
    "    \n",
    "    # combine the district and county labels into one\n",
    "    reg_df['DIST_COUNTY'] = reg_df['DISTRICT'].astype(str) +'-'+ reg_df['COUNTY'].astype(str)\n",
    "\n",
    "    # pick off only the interesting data\n",
    "    relabel_dict = {\n",
    "        'REP-ACTIVE' : 'REP',\n",
    "        'DEM-ACTIVE' : 'DEM',\n",
    "        'OTHER-ACTIVE' : 'OTHER'\n",
    "    }\n",
    "    new_df = reg_df[['DIST_COUNTY', 'REP-ACTIVE', 'DEM-ACTIVE', 'OTHER-ACTIVE']].rename(columns=relabel_dict)\n",
    "    \n",
    "    return new_df\n",
    "    \n",
    "def get_results(year):\n",
    "    \"\"\"Given an input year, snag the results data for that year and collapse the affiliation of active\n",
    "    candidates into REP, DEM, OTHER\n",
    "    \n",
    "    Returns a dataframe with columns DISTRICT-COUNTY, REP, DEM, OTHERS\"\"\"\n",
    "\n",
    "    # read in the results file\n",
    "    df = pd.read_csv(res_dir+'/{}.csv'.format(year))\n",
    "    \n",
    "    # create a DIST-COUNTY label\n",
    "    df['DIST_COUNTY'] = df['DISTRICT'].astype(str) + '-' + df['COUNTY'].astype(str)\n",
    "    \n",
    "    # isolate third party candidates\n",
    "    parties = ['DEMOCRATIC PARTY', 'REPUBLICAN PARTY']\n",
    "    df['PARTY'][~df['PARTY'].isin(parties)] = 'OTHER'\n",
    "    df['PARTY'][df['PARTY'] == 'REPUBLICAN PARTY'] = 'REP'\n",
    "    df['PARTY'][df['PARTY'] == 'DEMOCRATIC PARTY'] = 'DEM'\n",
    "\n",
    "    # sum over precincts, if precincts exist\n",
    "    agg_cols = {'YES VOTES' : 'sum'}\n",
    "    df = df.groupby([df['DIST_COUNTY'], df['PARTY']], as_index=False).aggregate(agg_cols)\n",
    "    \n",
    "    # Make party votes into columns for each DIST_COUNTY\n",
    "    df = df.pivot(index='DIST_COUNTY', columns='PARTY', values='YES VOTES').fillna(0)\n",
    "    df.reset_index(level=0, inplace=True)\n",
    "\n",
    "    return df"
   ]
  },
  {
   "cell_type": "markdown",
   "metadata": {},
   "source": [
    "At this point, it is helpful to combine the all the relevant input and output data for each dist-county into a single input and output dataframe."
   ]
  },
  {
   "cell_type": "code",
   "execution_count": 4,
   "metadata": {},
   "outputs": [
    {
     "name": "stderr",
     "output_type": "stream",
     "text": [
      "/opt/anaconda3/lib/python3.7/site-packages/ipykernel_launcher.py:49: SettingWithCopyWarning: \n",
      "A value is trying to be set on a copy of a slice from a DataFrame\n",
      "\n",
      "See the caveats in the documentation: https://pandas.pydata.org/pandas-docs/stable/user_guide/indexing.html#returning-a-view-versus-a-copy\n",
      "/opt/anaconda3/lib/python3.7/site-packages/ipykernel_launcher.py:50: SettingWithCopyWarning: \n",
      "A value is trying to be set on a copy of a slice from a DataFrame\n",
      "\n",
      "See the caveats in the documentation: https://pandas.pydata.org/pandas-docs/stable/user_guide/indexing.html#returning-a-view-versus-a-copy\n",
      "/opt/anaconda3/lib/python3.7/site-packages/ipykernel_launcher.py:51: SettingWithCopyWarning: \n",
      "A value is trying to be set on a copy of a slice from a DataFrame\n",
      "\n",
      "See the caveats in the documentation: https://pandas.pydata.org/pandas-docs/stable/user_guide/indexing.html#returning-a-view-versus-a-copy\n"
     ]
    }
   ],
   "source": [
    "# Will store the district-county data using the standard key format \n",
    "# 'SD [NUMBER]-[COUNTY]' for the Year of the Predicted Results\n",
    "year_pairs = [['2012', '2016'], ['2014', '2018']]\n",
    "\n",
    "X_set = np.array([], dtype=np.float64).reshape(0,9)\n",
    "Y_set = np.array([], dtype=np.float64).reshape(0,3)\n",
    "\n",
    "dfs = []\n",
    "\n",
    "for pair in year_pairs:\n",
    "    \n",
    "    # The output variables\n",
    "    current_result = get_results(pair[1])\n",
    "    elections = current_result.DIST_COUNTY.unique()\n",
    "    current_result = current_result.rename(\n",
    "        columns={'DEM' : 'DEM_curr_votes',\n",
    "                 'REP' : 'REP_curr_votes',\n",
    "                 'OTHER' : 'OTHER_curr_votes'}\n",
    "    )\n",
    "        \n",
    "    # The input variables\n",
    "    \n",
    "    # current registration\n",
    "    current_reg = get_registration(pair[1])\n",
    "    current_reg = current_reg[current_reg['DIST_COUNTY'].isin(elections)]\n",
    "    \n",
    "    current_reg = current_reg.rename(\n",
    "        columns={'DEM' : 'DEM_curr_reg',\n",
    "                 'REP' : 'REP_curr_reg',\n",
    "                 'OTHER' : 'OTHER_curr_reg'}\n",
    "    )\n",
    "    \n",
    "    # prior election registration\n",
    "    past_reg = get_registration(pair[0])\n",
    "    past_reg = past_reg[past_reg['DIST_COUNTY'].isin(elections)]\n",
    "    \n",
    "    past_reg = past_reg.rename(\n",
    "        columns={'DEM' : 'DEM_past_reg',\n",
    "                 'REP' : 'REP_past_reg',\n",
    "                 'OTHER' : 'OTHER_past_reg'}\n",
    "    )\n",
    "    \n",
    "    # prior election result registration\n",
    "    past_result = get_results(pair[0])\n",
    "    past_result = past_result[past_result['DIST_COUNTY'].isin(elections)]\n",
    "    \n",
    "    past_result = past_result.rename(\n",
    "        columns={'DEM' : 'DEM_past_votes',\n",
    "                 'REP' : 'REP_past_votes',\n",
    "                 'OTHER' : 'OTHER_past_votes'}\n",
    "    )\n",
    "    \n",
    "    # compute fractional current registration\n",
    "    tot_regs = current_reg.sum(axis=1).values\n",
    "    current_reg.DEM_curr_reg  = current_reg.DEM_curr_reg.values/tot_regs\n",
    "    current_reg.REP_curr_reg  = current_reg.REP_curr_reg.values/tot_regs\n",
    "    current_reg.OTHER_curr_reg = current_reg.OTHER_curr_reg.values/tot_regs\n",
    "    \n",
    "    # compute fractional past registration\n",
    "    tot_regs = past_reg.sum(axis=1).values\n",
    "    past_reg.DEM_past_reg  = past_reg.DEM_past_reg.values/tot_regs\n",
    "    past_reg.REP_past_reg  = past_reg.REP_past_reg.values/tot_regs\n",
    "    past_reg.OTHER_past_reg = past_reg.OTHER_past_reg.values/tot_regs\n",
    "    \n",
    "    # compute fractional past votes\n",
    "    tot_votes = past_result.sum(axis=1).values\n",
    "    past_result.DEM_past_votes = past_result.DEM_past_votes.values/tot_votes\n",
    "    past_result.REP_past_votes = past_result.REP_past_votes.values/tot_votes\n",
    "    past_result.OTHER_past_votes = past_result.OTHER_past_votes.values/tot_votes\n",
    "\n",
    "    \n",
    "    X_df = current_reg\n",
    "    X_df = pd.merge(X_df, past_reg, on='DIST_COUNTY')\n",
    "    X_df = pd.merge(X_df, past_result, on='DIST_COUNTY')\n",
    "    \n",
    "    # Now for the outputs\n",
    "    # compute current fractional votes\n",
    "    tot_votes = current_result.sum(axis=1).values\n",
    "    current_result.DEM_curr_votes = current_result.DEM_curr_votes.values/tot_votes\n",
    "    current_result.REP_curr_votes = current_result.REP_curr_votes.values/tot_votes\n",
    "    current_result.OTHER_curr_votes = current_result.OTHER_curr_votes.values/tot_votes\n",
    "\n",
    "    X_df = pd.merge(X_df, current_result, on='DIST_COUNTY')\n",
    "    \n",
    "    dfs.append(X_df)"
   ]
  },
  {
   "cell_type": "code",
   "execution_count": 5,
   "metadata": {},
   "outputs": [
    {
     "name": "stdout",
     "output_type": "stream",
     "text": [
      "    DEM_curr_votes  OTHER_curr_votes  REP_curr_votes\n",
      "0         0.306071          0.000000        0.693929\n",
      "1         0.452293          0.000000        0.547707\n",
      "2         0.426006          0.000000        0.573994\n",
      "3         0.242875          0.000000        0.757125\n",
      "4         0.171046          0.000000        0.828954\n",
      "..             ...               ...             ...\n",
      "42        0.581584          0.000000        0.418416\n",
      "43        0.523152          0.078830        0.398018\n",
      "44        0.415604          0.056568        0.527828\n",
      "45        0.719908          0.046538        0.233554\n",
      "46        0.831349          0.000000        0.168651\n",
      "\n",
      "[89 rows x 3 columns]\n"
     ]
    }
   ],
   "source": [
    "result = pd.concat(dfs)\n",
    "X_cols = ['REP_curr_reg', 'DEM_curr_reg', 'OTHER_curr_reg',\n",
    "          'REP_past_reg', 'DEM_past_reg', 'OTHER_past_reg',\n",
    "          'REP_past_votes', 'DEM_past_votes', 'OTHER_past_votes']\n",
    "Y_cols = ['DEM_curr_votes', 'OTHER_curr_votes', 'REP_curr_votes']\n",
    "\n",
    "print(result[Y_cols])\n",
    "\n",
    "X_set = result[X_cols].values\n",
    "Y_set = result[Y_cols].values"
   ]
  },
  {
   "cell_type": "markdown",
   "metadata": {},
   "source": [
    "## Model Training"
   ]
  },
  {
   "cell_type": "markdown",
   "metadata": {},
   "source": [
    "### Split the Data\n",
    "\n",
    "Split into a train-test split to validate the data"
   ]
  },
  {
   "cell_type": "code",
   "execution_count": 6,
   "metadata": {},
   "outputs": [],
   "source": [
    "from sklearn.model_selection import train_test_split"
   ]
  },
  {
   "cell_type": "code",
   "execution_count": 7,
   "metadata": {},
   "outputs": [
    {
     "name": "stdout",
     "output_type": "stream",
     "text": [
      "(89, 9)\n",
      "(17, 9)\n"
     ]
    }
   ],
   "source": [
    "print(np.shape(X_set))\n",
    "X_test, X_train, Y_test, Y_train = train_test_split(X_set, Y_set, train_size=.2)\n",
    "print(np.shape(X_test))"
   ]
  },
  {
   "cell_type": "markdown",
   "metadata": {},
   "source": [
    "### Train a Model\n",
    "\n",
    "This is a small dataset, so we need to use a very shallow neural network"
   ]
  },
  {
   "cell_type": "code",
   "execution_count": 8,
   "metadata": {},
   "outputs": [],
   "source": [
    "model = Sequential()\n",
    "\n",
    "model.add(Dense(2, input_dim=9, activation='tanh'))\n",
    "model.add(GaussianNoise(stddev=.1))\n",
    "#model.add(Dense(2, activation='tanh'))\n",
    "model.add(Dense(3, activation='sigmoid'))\n",
    "\n",
    "model.compile(loss='mean_squared_error', optimizer='adam')"
   ]
  },
  {
   "cell_type": "code",
   "execution_count": 9,
   "metadata": {},
   "outputs": [
    {
     "data": {
      "image/png": "[encoded data removed]",
      "text/plain": [
       "<Figure size 432x288 with 1 Axes>"
      ]
     },
     "metadata": {
      "needs_background": "light"
     },
     "output_type": "display_data"
    }
   ],
   "source": [
    "hist = model.fit(x=X_train, y=Y_train, \n",
    "                    validation_data= (X_test, Y_test),\n",
    "                    batch_size = 10,\n",
    "                    shuffle = True,\n",
    "                    epochs = 500,\n",
    "                    verbose = False,\n",
    "                    callbacks = [plot_losses])"
   ]
  },
  {
   "cell_type": "code",
   "execution_count": 10,
   "metadata": {},
   "outputs": [
    {
     "data": {
      "text/plain": [
       "<Figure size 432x288 with 0 Axes>"
      ]
     },
     "execution_count": 10,
     "metadata": {},
     "output_type": "execute_result"
    },
    {
     "data": {
      "text/plain": [
       "[<matplotlib.lines.Line2D at 0x7fd1ae598a10>]"
      ]
     },
     "execution_count": 10,
     "metadata": {},
     "output_type": "execute_result"
    },
    {
     "data": {
      "text/plain": [
       "[<matplotlib.lines.Line2D at 0x7fd1af0ed990>]"
      ]
     },
     "execution_count": 10,
     "metadata": {},
     "output_type": "execute_result"
    },
    {
     "data": {
      "text/plain": [
       "Text(0.5, 0, 'epoch')"
      ]
     },
     "execution_count": 10,
     "metadata": {},
     "output_type": "execute_result"
    },
    {
     "data": {
      "text/plain": [
       "Text(0, 0.5, 'validation loss')"
      ]
     },
     "execution_count": 10,
     "metadata": {},
     "output_type": "execute_result"
    },
    {
     "data": {
      "text/plain": [
       "<matplotlib.legend.Legend at 0x7fd1aff87d90>"
      ]
     },
     "execution_count": 10,
     "metadata": {},
     "output_type": "execute_result"
    },
    {
     "data": {
      "image/png": "[encoded data removed]",
      "text/plain": [
       "<Figure size 432x288 with 1 Axes>"
      ]
     },
     "metadata": {
      "needs_background": "light"
     },
     "output_type": "display_data"
    }
   ],
   "source": [
    "plt.figure()\n",
    "plt.loglog(hist.epoch, hist.history['val_loss'], label = 'val. loss')\n",
    "plt.loglog(hist.epoch, hist.history['loss'], label = 'loss')\n",
    "plt.xlabel('epoch')\n",
    "plt.ylabel('validation loss')\n",
    "plt.legend()\n",
    "plt.tight_layout()\n",
    "plt.savefig('election_model.png')"
   ]
  },
  {
   "cell_type": "markdown",
   "metadata": {},
   "source": [
    "### Train an ensemble of models\n",
    "\n",
    "Because of the small number of data points, uncertainty quantification is important. So, build an ensemble of models from different training data, and then make the predictions using the average/spread of each model.\n",
    "\n",
    "For a 20% train-test split, there are $\\binom{89}{71} \\approx 3 \\times 10^{18}$ possible combinations. So, we aren't too worried about repeats."
   ]
  },
  {
   "cell_type": "code",
   "execution_count": 11,
   "metadata": {},
   "outputs": [],
   "source": [
    "if build_models:\n",
    "    n_models = 1000\n",
    "    train_size = .3\n",
    "    models_dict = {}\n",
    "\n",
    "    losses = []\n",
    "    vals = []\n",
    "\n",
    "    for model_num in tqdm(range(n_models)):\n",
    "\n",
    "        X_test, X_train, Y_test, Y_train = train_test_split(X_set, Y_set, train_size=train_size)\n",
    "        model = Sequential()\n",
    "\n",
    "        model.add(Dense(2, input_dim=9, activation='tanh'))\n",
    "        model.add(GaussianNoise(stddev=.1))\n",
    "        model.add(Dense(3, activation='sigmoid'))\n",
    "\n",
    "        model.compile(loss='mean_squared_error', optimizer='adam')\n",
    "\n",
    "        hist = model.fit(x=X_train, y=Y_train, \n",
    "                        validation_data= (X_test, Y_test),\n",
    "                        batch_size = 20,\n",
    "                        shuffle = True,\n",
    "                        epochs = 500,\n",
    "                        verbose = False)\n",
    "\n",
    "        models_dict['model {}'.format(model_num)] = model\n",
    "        losses.append(hist.history['loss'][-1])\n",
    "        vals.append(hist.history['val_loss'][-1])\n",
    "\n",
    "    #    print('final loss = {}'.format(hist.history['loss'][-1]))\n",
    "    #    print('final val. loss = {}\\n'.format(hist.history['val_loss'][-1]))\n",
    "    for model in models_dict:\n",
    "    \n",
    "        models_dict[model].save('./model/{}'.format(model))\n",
    "    \n",
    "    plt.scatter(losses, vals)"
   ]
  },
  {
   "cell_type": "markdown",
   "metadata": {},
   "source": [
    "## 2020 Predictions"
   ]
  },
  {
   "cell_type": "code",
   "execution_count": 12,
   "metadata": {},
   "outputs": [
    {
     "name": "stderr",
     "output_type": "stream",
     "text": [
      "/opt/anaconda3/lib/python3.7/site-packages/ipykernel_launcher.py:49: SettingWithCopyWarning: \n",
      "A value is trying to be set on a copy of a slice from a DataFrame\n",
      "\n",
      "See the caveats in the documentation: https://pandas.pydata.org/pandas-docs/stable/user_guide/indexing.html#returning-a-view-versus-a-copy\n",
      "/opt/anaconda3/lib/python3.7/site-packages/ipykernel_launcher.py:50: SettingWithCopyWarning: \n",
      "A value is trying to be set on a copy of a slice from a DataFrame\n",
      "\n",
      "See the caveats in the documentation: https://pandas.pydata.org/pandas-docs/stable/user_guide/indexing.html#returning-a-view-versus-a-copy\n",
      "/opt/anaconda3/lib/python3.7/site-packages/ipykernel_launcher.py:51: SettingWithCopyWarning: \n",
      "A value is trying to be set on a copy of a slice from a DataFrame\n",
      "\n",
      "See the caveats in the documentation: https://pandas.pydata.org/pandas-docs/stable/user_guide/indexing.html#returning-a-view-versus-a-copy\n"
     ]
    }
   ],
   "source": [
    "pair = ['2016', '2020']\n",
    "\n",
    "# The input variables\n",
    "\n",
    "# prior election result registration\n",
    "past_result = get_results(pair[0])\n",
    "elections = past_result['DIST_COUNTY'].unique()\n",
    "past_result = past_result[past_result['DIST_COUNTY'].isin(elections)]\n",
    "\n",
    "past_result = past_result.rename(\n",
    "    columns={'DEM' : 'DEM_past_votes',\n",
    "             'REP' : 'REP_past_votes',\n",
    "             'OTHER' : 'OTHER_past_votes'}\n",
    ")\n",
    "\n",
    "# current registration\n",
    "current_reg = get_registration(pair[1])\n",
    "current_reg = current_reg[current_reg['DIST_COUNTY'].isin(elections)]\n",
    "\n",
    "current_reg = current_reg.rename(\n",
    "    columns={'DEM' : 'DEM_curr_reg',\n",
    "             'REP' : 'REP_curr_reg',\n",
    "             'OTHER' : 'OTHER_curr_reg'}\n",
    ")\n",
    "\n",
    "# prior election registration\n",
    "past_reg = get_registration(pair[0])\n",
    "past_reg = past_reg[past_reg['DIST_COUNTY'].isin(elections)]\n",
    "\n",
    "past_reg = past_reg.rename(\n",
    "    columns={'DEM' : 'DEM_past_reg',\n",
    "             'REP' : 'REP_past_reg',\n",
    "             'OTHER' : 'OTHER_past_reg'}\n",
    ")\n",
    "\n",
    "# compute fractional current registration\n",
    "tot_regs = current_reg.sum(axis=1).values\n",
    "current_reg.DEM_curr_reg  = current_reg.DEM_curr_reg.values/tot_regs\n",
    "current_reg.REP_curr_reg  = current_reg.REP_curr_reg.values/tot_regs\n",
    "current_reg.OTHER_curr_reg = current_reg.OTHER_curr_reg.values/tot_regs\n",
    "\n",
    "# compute fractional past registration\n",
    "tot_regs = past_reg.sum(axis=1).values\n",
    "past_reg.DEM_past_reg  = past_reg.DEM_past_reg.values/tot_regs\n",
    "past_reg.REP_past_reg  = past_reg.REP_past_reg.values/tot_regs\n",
    "past_reg.OTHER_past_reg = past_reg.OTHER_past_reg.values/tot_regs\n",
    "\n",
    "# compute fractional past votes\n",
    "tot_votes = past_result.sum(axis=1).values\n",
    "past_result.DEM_past_votes = past_result.DEM_past_votes.values/tot_votes\n",
    "past_result.REP_past_votes = past_result.REP_past_votes.values/tot_votes\n",
    "past_result.OTHER_past_votes = past_result.OTHER_past_votes.values/tot_votes\n",
    "\n",
    "\n",
    "X_df = current_reg\n",
    "X_df = pd.merge(X_df, past_reg, on='DIST_COUNTY')\n",
    "X_df = pd.merge(X_df, past_result, on='DIST_COUNTY')\n",
    "\n",
    "X_pred = X_df[X_cols].values"
   ]
  },
  {
   "cell_type": "markdown",
   "metadata": {},
   "source": [
    "Iterate over all models, get the predicted vote totals by district-county for each model, and store. We will eventually compute total and spread of votes in each district"
   ]
  },
  {
   "cell_type": "code",
   "execution_count": 13,
   "metadata": {},
   "outputs": [
    {
     "data": {
      "application/vnd.jupyter.widget-view+json": {
       "model_id": "cc996f2d26974479ac260dcc9de837bd",
       "version_major": 2,
       "version_minor": 0
      },
      "text/plain": [
       "HBox(children=(FloatProgress(value=0.0, max=1000.0), HTML(value='')))"
      ]
     },
     "metadata": {},
     "output_type": "display_data"
    },
    {
     "name": "stdout",
     "output_type": "stream",
     "text": [
      "\n"
     ]
    }
   ],
   "source": [
    "import glob\n",
    "\n",
    "models = glob.glob('./model/*')\n",
    "\n",
    "current_reg = get_registration(pair[1])\n",
    "current_reg = current_reg[current_reg['DIST_COUNTY'].isin(elections)]\n",
    "tot_regs = current_reg.sum(axis=1).values\n",
    "tot_regs = np.reshape(tot_regs, (len(tot_regs),1))\n",
    "\n",
    "preds_array = []\n",
    "\n",
    "for model in tqdm(models):\n",
    "    this_model = keras.models.load_model(model)\n",
    "    preds = this_model.predict(X_pred)\n",
    "    preds_array.append(preds*tot_regs)"
   ]
  },
  {
   "cell_type": "code",
   "execution_count": 14,
   "metadata": {},
   "outputs": [
    {
     "name": "stdout",
     "output_type": "stream",
     "text": [
      "         DIST_COUNTY           DEM           REP         OTHER\n",
      "0       SD 4-DOUGLAS  48710.717968  76798.292839   8043.432698\n",
      "1      SD 8-GARFIELD  16782.944391  16277.754908   2312.128415\n",
      "2         SD 8-GRAND   4745.945524   5814.789078    695.211434\n",
      "3       SD 8-JACKSON    281.085884    673.309980     69.986701\n",
      "4        SD 8-MOFFAT   2487.083492   5292.206581    531.866445\n",
      "5    SD 8-RIO BLANCO   1127.616151   2840.502349    301.399468\n",
      "6         SD 8-ROUTT   9585.656815   7666.246914   1318.051433\n",
      "7        SD 8-SUMMIT  11563.488256   7782.316583   1641.829771\n",
      "8      SD 10-EL PASO  39555.413651  54731.212285   6059.783385\n",
      "9      SD 12-EL PASO  31247.037599  56614.105324   5698.185239\n",
      "10     SD 14-LARIMER  61041.186750  41777.591734   8670.084639\n",
      "11     SD 17-BOULDER  68986.971314  34579.532241  11798.878254\n",
      "12     SD 18-BOULDER  65810.897100  32569.169470  10949.452387\n",
      "13   SD 19-JEFFERSON  53788.535559  46930.570661   7366.213443\n",
      "14       SD 21-ADAMS  52864.670724  26344.405304   9051.710920\n",
      "15  SD 23-BROOMFIELD  25968.750725  20884.457854   3576.515430\n",
      "16     SD 23-LARIMER   6889.400798  10217.484434   1097.880777\n",
      "17        SD 23-WELD  31253.080758  41313.245222   4689.226162\n",
      "18       SD 25-ADAMS  46118.528801  38004.072155   6297.884200\n",
      "19    SD 26-ARAPAHOE  53426.482847  42760.456096   7365.667139\n",
      "20    SD 27-ARAPAHOE  49595.177591  49767.529076   6891.828225\n",
      "21    SD 28-ARAPAHOE  53075.349051  39184.428670   7385.681172\n",
      "22    SD 29-ARAPAHOE  46610.456491  34539.683936   6484.666946\n",
      "23    SD 31-ARAPAHOE   2744.961549   1647.517281    405.811935\n",
      "24      SD 31-DENVER  64934.751131  35927.406625  10026.610784\n",
      "25      SD 33-DENVER  68737.345167  32686.505630  11805.148864\n",
      "26     SD 35-ALAMOSA   4406.020116   4213.617966    604.055180\n",
      "27        SD 35-BACA    825.395177   1701.372738    169.636709\n",
      "28        SD 35-BENT   1063.766521   1451.326343    161.184254\n",
      "29     SD 35-CONEJOS   2334.673221   2484.216367    333.675910\n",
      "30    SD 35-COSTILLA   1526.074479    887.526306    232.191554\n",
      "31     SD 35-CROWLEY    691.717968   1284.907703    129.123543\n",
      "32      SD 35-CUSTER   1180.953310   2526.628924    254.741659\n",
      "33    SD 35-HUERFANO   2505.348810   2148.219072    344.146719\n",
      "34       SD 35-KIOWA    282.514485    672.948781     69.330138\n",
      "35  SD 35-LAS ANIMAS   4928.683911   3936.946290    683.319327\n",
      "36     SD 35-MINERAL    313.385127    438.001526     48.516352\n",
      "37       SD 35-OTERO   4875.125927   6083.893663    711.519637\n",
      "38     SD 35-PROWERS   2291.773153   3977.814371    403.253495\n",
      "39      SD 35-PUEBLO   5552.245750   7005.781088    811.705458\n",
      "40  SD 35-RIO GRANDE   2868.524559   3903.773232    435.683481\n",
      "41    SD 35-SAGUACHE   2193.031552   1595.010778    305.660153\n",
      "         DIST_COUNTY           DEM           REP        OTHER\n",
      "0       SD 4-DOUGLAS   4931.111553   4862.611977  1986.652253\n",
      "1      SD 8-GARFIELD   1275.506904   1288.396268   524.316827\n",
      "2         SD 8-GRAND    253.114708    256.312901   135.363654\n",
      "3       SD 8-JACKSON     79.845339     80.303440    35.367767\n",
      "4        SD 8-MOFFAT    534.745425    531.577601   218.784104\n",
      "5    SD 8-RIO BLANCO    346.277066    348.154667   165.605038\n",
      "6         SD 8-ROUTT    996.543149    998.149512   382.219182\n",
      "7        SD 8-SUMMIT   1523.036610   1514.360083   600.622899\n",
      "8      SD 10-EL PASO   2726.680912   2708.346275  1270.522428\n",
      "9      SD 12-EL PASO   4500.365468   4448.792840  1814.013265\n",
      "10     SD 14-LARIMER   7676.980870   7651.602498  3097.070999\n",
      "11     SD 17-BOULDER  11385.757167  11174.421211  6325.061631\n",
      "12     SD 18-BOULDER  10902.476409  10740.399686  5674.991068\n",
      "13   SD 19-JEFFERSON   4783.009808   4812.788639  1865.861165\n",
      "14       SD 21-ADAMS   8748.591696   8583.166505  4859.208072\n",
      "15  SD 23-BROOMFIELD   2634.490333   2643.501461  1028.787518\n",
      "16     SD 23-LARIMER    583.221234    577.142982   249.013399\n",
      "17        SD 23-WELD   1937.356742   1936.124653   947.662514\n",
      "18       SD 25-ADAMS   4586.044148   4608.953985  1745.868302\n",
      "19    SD 26-ARAPAHOE   5349.312611   5380.052821  2126.476448\n",
      "20    SD 27-ARAPAHOE   3126.480637   3193.033550  1486.855618\n",
      "21    SD 28-ARAPAHOE   6035.605559   6047.083491  2376.275434\n",
      "22    SD 29-ARAPAHOE   5287.734840   5295.258721  2057.376133\n",
      "23    SD 31-ARAPAHOE    394.814700    392.536048   169.221465\n",
      "24      SD 31-DENVER   9942.569460   9856.343699  4600.842000\n",
      "25      SD 33-DENVER  11658.973128  11462.686538  6378.481242\n",
      "26     SD 35-ALAMOSA    330.345002    336.820342   137.138181\n",
      "27        SD 35-BACA    164.271006    163.329280    65.022908\n",
      "28        SD 35-BENT     71.295188     70.315641    32.798726\n",
      "29     SD 35-CONEJOS    189.954859    196.851362    75.204033\n",
      "30    SD 35-COSTILLA    226.595145    225.993844   103.940388\n",
      "31     SD 35-CROWLEY    110.259728    109.299505    41.186087\n",
      "32      SD 35-CUSTER    264.790731    264.418501   105.052330\n",
      "33    SD 35-HUERFANO    228.127103    231.939762    91.239528\n",
      "34       SD 35-KIOWA     76.821441     76.960429    34.331977\n",
      "35  SD 35-LAS ANIMAS    493.556521    499.372452   200.300183\n",
      "36     SD 35-MINERAL     25.346439     25.267830    10.155508\n",
      "37       SD 35-OTERO    264.355100    264.580055   136.871114\n",
      "38     SD 35-PROWERS    296.474239    291.757679   114.902786\n",
      "39      SD 35-PUEBLO    321.723529    322.005522   157.311182\n",
      "40  SD 35-RIO GRANDE    191.105415    188.900258    87.974841\n",
      "41    SD 35-SAGUACHE    255.912660    257.139480   100.044012\n"
     ]
    }
   ],
   "source": [
    "mean_df = pd.DataFrame(data = {'DIST_COUNTY' : current_reg.DIST_COUNTY.values,\n",
    "                              'DEM' : np.mean(preds_array, axis=0)[:,0],\n",
    "                              'REP' : np.mean(preds_array, axis=0)[:,2],\n",
    "                              'OTHER' : np.mean(preds_array, axis=0)[:,1]})\n",
    "\n",
    "print(mean_df)\n",
    "\n",
    "std_df = pd.DataFrame(data = {'DIST_COUNTY' : current_reg.DIST_COUNTY.values,\n",
    "                              'DEM' : np.std(preds_array, axis=0)[:,0],\n",
    "                              'REP' : np.std(preds_array, axis=0)[:,2],\n",
    "                              'OTHER' : np.std(preds_array, axis=0)[:,1]})\n",
    "\n",
    "print(std_df)"
   ]
  },
  {
   "cell_type": "code",
   "execution_count": 15,
   "metadata": {},
   "outputs": [
    {
     "data": {
      "text/plain": [
       "<matplotlib.axes._subplots.AxesSubplot at 0x7fcfe957ef10>"
      ]
     },
     "execution_count": 15,
     "metadata": {},
     "output_type": "execute_result"
    },
    {
     "data": {
      "text/plain": [
       "<matplotlib.axes._subplots.AxesSubplot at 0x7fcfea18c710>"
      ]
     },
     "execution_count": 15,
     "metadata": {},
     "output_type": "execute_result"
    },
    {
     "data": {
      "image/png": "[encoded data removed]",
      "text/plain": [
       "<Figure size 432x288 with 1 Axes>"
      ]
     },
     "metadata": {
      "needs_background": "light"
     },
     "output_type": "display_data"
    },
    {
     "data": {
      "image/png": "[encoded data removed]",
      "text/plain": [
       "<Figure size 432x288 with 1 Axes>"
      ]
     },
     "metadata": {
      "needs_background": "light"
     },
     "output_type": "display_data"
    }
   ],
   "source": [
    "mean_df.plot.bar(x='DIST_COUNTY')\n",
    "std_df.plot.bar(x='DIST_COUNTY')"
   ]
  },
  {
   "cell_type": "code",
   "execution_count": 16,
   "metadata": {},
   "outputs": [
    {
     "name": "stdout",
     "output_type": "stream",
     "text": [
      "         DIST_COUNTY           DEM           REP         OTHER DISTRICT  \\\n",
      "0       SD 4-DOUGLAS  48710.717968  76798.292839   8043.432698     SD 4   \n",
      "1      SD 8-GARFIELD  16782.944391  16277.754908   2312.128415     SD 8   \n",
      "2         SD 8-GRAND   4745.945524   5814.789078    695.211434     SD 8   \n",
      "3       SD 8-JACKSON    281.085884    673.309980     69.986701     SD 8   \n",
      "4        SD 8-MOFFAT   2487.083492   5292.206581    531.866445     SD 8   \n",
      "5    SD 8-RIO BLANCO   1127.616151   2840.502349    301.399468     SD 8   \n",
      "6         SD 8-ROUTT   9585.656815   7666.246914   1318.051433     SD 8   \n",
      "7        SD 8-SUMMIT  11563.488256   7782.316583   1641.829771     SD 8   \n",
      "8      SD 10-EL PASO  39555.413651  54731.212285   6059.783385    SD 10   \n",
      "9      SD 12-EL PASO  31247.037599  56614.105324   5698.185239    SD 12   \n",
      "10     SD 14-LARIMER  61041.186750  41777.591734   8670.084639    SD 14   \n",
      "11     SD 17-BOULDER  68986.971314  34579.532241  11798.878254    SD 17   \n",
      "12     SD 18-BOULDER  65810.897100  32569.169470  10949.452387    SD 18   \n",
      "13   SD 19-JEFFERSON  53788.535559  46930.570661   7366.213443    SD 19   \n",
      "14       SD 21-ADAMS  52864.670724  26344.405304   9051.710920    SD 21   \n",
      "15  SD 23-BROOMFIELD  25968.750725  20884.457854   3576.515430    SD 23   \n",
      "16     SD 23-LARIMER   6889.400798  10217.484434   1097.880777    SD 23   \n",
      "17        SD 23-WELD  31253.080758  41313.245222   4689.226162    SD 23   \n",
      "18       SD 25-ADAMS  46118.528801  38004.072155   6297.884200    SD 25   \n",
      "19    SD 26-ARAPAHOE  53426.482847  42760.456096   7365.667139    SD 26   \n",
      "20    SD 27-ARAPAHOE  49595.177591  49767.529076   6891.828225    SD 27   \n",
      "21    SD 28-ARAPAHOE  53075.349051  39184.428670   7385.681172    SD 28   \n",
      "22    SD 29-ARAPAHOE  46610.456491  34539.683936   6484.666946    SD 29   \n",
      "23    SD 31-ARAPAHOE   2744.961549   1647.517281    405.811935    SD 31   \n",
      "24      SD 31-DENVER  64934.751131  35927.406625  10026.610784    SD 31   \n",
      "25      SD 33-DENVER  68737.345167  32686.505630  11805.148864    SD 33   \n",
      "26     SD 35-ALAMOSA   4406.020116   4213.617966    604.055180    SD 35   \n",
      "27        SD 35-BACA    825.395177   1701.372738    169.636709    SD 35   \n",
      "28        SD 35-BENT   1063.766521   1451.326343    161.184254    SD 35   \n",
      "29     SD 35-CONEJOS   2334.673221   2484.216367    333.675910    SD 35   \n",
      "30    SD 35-COSTILLA   1526.074479    887.526306    232.191554    SD 35   \n",
      "31     SD 35-CROWLEY    691.717968   1284.907703    129.123543    SD 35   \n",
      "32      SD 35-CUSTER   1180.953310   2526.628924    254.741659    SD 35   \n",
      "33    SD 35-HUERFANO   2505.348810   2148.219072    344.146719    SD 35   \n",
      "34       SD 35-KIOWA    282.514485    672.948781     69.330138    SD 35   \n",
      "35  SD 35-LAS ANIMAS   4928.683911   3936.946290    683.319327    SD 35   \n",
      "36     SD 35-MINERAL    313.385127    438.001526     48.516352    SD 35   \n",
      "37       SD 35-OTERO   4875.125927   6083.893663    711.519637    SD 35   \n",
      "38     SD 35-PROWERS   2291.773153   3977.814371    403.253495    SD 35   \n",
      "39      SD 35-PUEBLO   5552.245750   7005.781088    811.705458    SD 35   \n",
      "40  SD 35-RIO GRANDE   2868.524559   3903.773232    435.683481    SD 35   \n",
      "41    SD 35-SAGUACHE   2193.031552   1595.010778    305.660153    SD 35   \n",
      "\n",
      "        COUNTY  \n",
      "0      DOUGLAS  \n",
      "1     GARFIELD  \n",
      "2        GRAND  \n",
      "3      JACKSON  \n",
      "4       MOFFAT  \n",
      "5   RIO BLANCO  \n",
      "6        ROUTT  \n",
      "7       SUMMIT  \n",
      "8      EL PASO  \n",
      "9      EL PASO  \n",
      "10     LARIMER  \n",
      "11     BOULDER  \n",
      "12     BOULDER  \n",
      "13   JEFFERSON  \n",
      "14       ADAMS  \n",
      "15  BROOMFIELD  \n",
      "16     LARIMER  \n",
      "17        WELD  \n",
      "18       ADAMS  \n",
      "19    ARAPAHOE  \n",
      "20    ARAPAHOE  \n",
      "21    ARAPAHOE  \n",
      "22    ARAPAHOE  \n",
      "23    ARAPAHOE  \n",
      "24      DENVER  \n",
      "25      DENVER  \n",
      "26     ALAMOSA  \n",
      "27        BACA  \n",
      "28        BENT  \n",
      "29     CONEJOS  \n",
      "30    COSTILLA  \n",
      "31     CROWLEY  \n",
      "32      CUSTER  \n",
      "33    HUERFANO  \n",
      "34       KIOWA  \n",
      "35  LAS ANIMAS  \n",
      "36     MINERAL  \n",
      "37       OTERO  \n",
      "38     PROWERS  \n",
      "39      PUEBLO  \n",
      "40  RIO GRANDE  \n",
      "41    SAGUACHE  \n",
      "         DIST_COUNTY           DEM           REP        OTHER DISTRICT  \\\n",
      "0       SD 4-DOUGLAS   4931.111553   4862.611977  1986.652253     SD 4   \n",
      "1      SD 8-GARFIELD   1275.506904   1288.396268   524.316827     SD 8   \n",
      "2         SD 8-GRAND    253.114708    256.312901   135.363654     SD 8   \n",
      "3       SD 8-JACKSON     79.845339     80.303440    35.367767     SD 8   \n",
      "4        SD 8-MOFFAT    534.745425    531.577601   218.784104     SD 8   \n",
      "5    SD 8-RIO BLANCO    346.277066    348.154667   165.605038     SD 8   \n",
      "6         SD 8-ROUTT    996.543149    998.149512   382.219182     SD 8   \n",
      "7        SD 8-SUMMIT   1523.036610   1514.360083   600.622899     SD 8   \n",
      "8      SD 10-EL PASO   2726.680912   2708.346275  1270.522428    SD 10   \n",
      "9      SD 12-EL PASO   4500.365468   4448.792840  1814.013265    SD 12   \n",
      "10     SD 14-LARIMER   7676.980870   7651.602498  3097.070999    SD 14   \n",
      "11     SD 17-BOULDER  11385.757167  11174.421211  6325.061631    SD 17   \n",
      "12     SD 18-BOULDER  10902.476409  10740.399686  5674.991068    SD 18   \n",
      "13   SD 19-JEFFERSON   4783.009808   4812.788639  1865.861165    SD 19   \n",
      "14       SD 21-ADAMS   8748.591696   8583.166505  4859.208072    SD 21   \n",
      "15  SD 23-BROOMFIELD   2634.490333   2643.501461  1028.787518    SD 23   \n",
      "16     SD 23-LARIMER    583.221234    577.142982   249.013399    SD 23   \n",
      "17        SD 23-WELD   1937.356742   1936.124653   947.662514    SD 23   \n",
      "18       SD 25-ADAMS   4586.044148   4608.953985  1745.868302    SD 25   \n",
      "19    SD 26-ARAPAHOE   5349.312611   5380.052821  2126.476448    SD 26   \n",
      "20    SD 27-ARAPAHOE   3126.480637   3193.033550  1486.855618    SD 27   \n",
      "21    SD 28-ARAPAHOE   6035.605559   6047.083491  2376.275434    SD 28   \n",
      "22    SD 29-ARAPAHOE   5287.734840   5295.258721  2057.376133    SD 29   \n",
      "23    SD 31-ARAPAHOE    394.814700    392.536048   169.221465    SD 31   \n",
      "24      SD 31-DENVER   9942.569460   9856.343699  4600.842000    SD 31   \n",
      "25      SD 33-DENVER  11658.973128  11462.686538  6378.481242    SD 33   \n",
      "26     SD 35-ALAMOSA    330.345002    336.820342   137.138181    SD 35   \n",
      "27        SD 35-BACA    164.271006    163.329280    65.022908    SD 35   \n",
      "28        SD 35-BENT     71.295188     70.315641    32.798726    SD 35   \n",
      "29     SD 35-CONEJOS    189.954859    196.851362    75.204033    SD 35   \n",
      "30    SD 35-COSTILLA    226.595145    225.993844   103.940388    SD 35   \n",
      "31     SD 35-CROWLEY    110.259728    109.299505    41.186087    SD 35   \n",
      "32      SD 35-CUSTER    264.790731    264.418501   105.052330    SD 35   \n",
      "33    SD 35-HUERFANO    228.127103    231.939762    91.239528    SD 35   \n",
      "34       SD 35-KIOWA     76.821441     76.960429    34.331977    SD 35   \n",
      "35  SD 35-LAS ANIMAS    493.556521    499.372452   200.300183    SD 35   \n",
      "36     SD 35-MINERAL     25.346439     25.267830    10.155508    SD 35   \n",
      "37       SD 35-OTERO    264.355100    264.580055   136.871114    SD 35   \n",
      "38     SD 35-PROWERS    296.474239    291.757679   114.902786    SD 35   \n",
      "39      SD 35-PUEBLO    321.723529    322.005522   157.311182    SD 35   \n",
      "40  SD 35-RIO GRANDE    191.105415    188.900258    87.974841    SD 35   \n",
      "41    SD 35-SAGUACHE    255.912660    257.139480   100.044012    SD 35   \n",
      "\n",
      "        COUNTY  \n",
      "0      DOUGLAS  \n",
      "1     GARFIELD  \n",
      "2        GRAND  \n",
      "3      JACKSON  \n",
      "4       MOFFAT  \n",
      "5   RIO BLANCO  \n",
      "6        ROUTT  \n",
      "7       SUMMIT  \n",
      "8      EL PASO  \n",
      "9      EL PASO  \n",
      "10     LARIMER  \n",
      "11     BOULDER  \n",
      "12     BOULDER  \n",
      "13   JEFFERSON  \n",
      "14       ADAMS  \n",
      "15  BROOMFIELD  \n",
      "16     LARIMER  \n",
      "17        WELD  \n",
      "18       ADAMS  \n",
      "19    ARAPAHOE  \n",
      "20    ARAPAHOE  \n",
      "21    ARAPAHOE  \n",
      "22    ARAPAHOE  \n",
      "23    ARAPAHOE  \n",
      "24      DENVER  \n",
      "25      DENVER  \n",
      "26     ALAMOSA  \n",
      "27        BACA  \n",
      "28        BENT  \n",
      "29     CONEJOS  \n",
      "30    COSTILLA  \n",
      "31     CROWLEY  \n",
      "32      CUSTER  \n",
      "33    HUERFANO  \n",
      "34       KIOWA  \n",
      "35  LAS ANIMAS  \n",
      "36     MINERAL  \n",
      "37       OTERO  \n",
      "38     PROWERS  \n",
      "39      PUEBLO  \n",
      "40  RIO GRANDE  \n",
      "41    SAGUACHE  \n"
     ]
    }
   ],
   "source": [
    "mean_df['DISTRICT'] = mean_df['DIST_COUNTY'].str.split('-').str[0]\n",
    "std_df['DISTRICT'] = std_df['DIST_COUNTY'].str.split('-').str[0]\n",
    "\n",
    "mean_df['COUNTY'] = mean_df['DIST_COUNTY'].str.split('-').str[1]\n",
    "std_df['COUNTY'] = std_df['DIST_COUNTY'].str.split('-').str[1]\n",
    "\n",
    "print(mean_df)\n",
    "print(std_df)"
   ]
  },
  {
   "cell_type": "markdown",
   "metadata": {},
   "source": [
    "### Election Predictions\n",
    "\n",
    "Here are the total vote predictions for each district. We start with a bar chart and STD range of predictions. We will also look at the individual predictions and win percentages."
   ]
  },
  {
   "cell_type": "code",
   "execution_count": 17,
   "metadata": {},
   "outputs": [
    {
     "data": {
      "text/plain": [
       "Text(0.5, 1.0, 'District SD 4 Predictions')"
      ]
     },
     "execution_count": 17,
     "metadata": {},
     "output_type": "execute_result"
    },
    {
     "data": {
      "text/plain": [
       "<BarContainer object of 2 artists>"
      ]
     },
     "execution_count": 17,
     "metadata": {},
     "output_type": "execute_result"
    },
    {
     "data": {
      "text/plain": [
       "<BarContainer object of 2 artists>"
      ]
     },
     "execution_count": 17,
     "metadata": {},
     "output_type": "execute_result"
    },
    {
     "data": {
      "text/plain": [
       "<BarContainer object of 2 artists>"
      ]
     },
     "execution_count": 17,
     "metadata": {},
     "output_type": "execute_result"
    },
    {
     "data": {
      "text/plain": [
       "[<matplotlib.axis.XTick at 0x7fcfea4e6890>,\n",
       " <matplotlib.axis.XTick at 0x7fcfea5f6f10>]"
      ]
     },
     "execution_count": 17,
     "metadata": {},
     "output_type": "execute_result"
    },
    {
     "data": {
      "text/plain": [
       "[Text(0, 0, 'DOUGLAS'), Text(0, 0, 'TOTAL')]"
      ]
     },
     "execution_count": 17,
     "metadata": {},
     "output_type": "execute_result"
    },
    {
     "data": {
      "text/plain": [
       "Text(0, 3, '48,710')"
      ]
     },
     "execution_count": 17,
     "metadata": {},
     "output_type": "execute_result"
    },
    {
     "data": {
      "text/plain": [
       "Text(0, 3, '76,798')"
      ]
     },
     "execution_count": 17,
     "metadata": {},
     "output_type": "execute_result"
    },
    {
     "data": {
      "text/plain": [
       "Text(0, 3, '8,043')"
      ]
     },
     "execution_count": 17,
     "metadata": {},
     "output_type": "execute_result"
    },
    {
     "data": {
      "text/plain": [
       "Text(0.5, 1.0, 'District SD 8 Predictions')"
      ]
     },
     "execution_count": 17,
     "metadata": {},
     "output_type": "execute_result"
    },
    {
     "data": {
      "text/plain": [
       "<BarContainer object of 8 artists>"
      ]
     },
     "execution_count": 17,
     "metadata": {},
     "output_type": "execute_result"
    },
    {
     "data": {
      "text/plain": [
       "<BarContainer object of 8 artists>"
      ]
     },
     "execution_count": 17,
     "metadata": {},
     "output_type": "execute_result"
    },
    {
     "data": {
      "text/plain": [
       "<BarContainer object of 8 artists>"
      ]
     },
     "execution_count": 17,
     "metadata": {},
     "output_type": "execute_result"
    },
    {
     "data": {
      "text/plain": [
       "[<matplotlib.axis.XTick at 0x7fcfea62b210>,\n",
       " <matplotlib.axis.XTick at 0x7fcfea6178d0>,\n",
       " <matplotlib.axis.XTick at 0x7fcfea6174d0>,\n",
       " <matplotlib.axis.XTick at 0x7fcfea67bfd0>,\n",
       " <matplotlib.axis.XTick at 0x7fcfea6a0bd0>,\n",
       " <matplotlib.axis.XTick at 0x7fcfea6a0e10>,\n",
       " <matplotlib.axis.XTick at 0x7fcfea6ab710>,\n",
       " <matplotlib.axis.XTick at 0x7fcfea6abd10>]"
      ]
     },
     "execution_count": 17,
     "metadata": {},
     "output_type": "execute_result"
    },
    {
     "data": {
      "text/plain": [
       "[Text(0, 0, 'GARFIELD'),\n",
       " Text(0, 0, 'GRAND'),\n",
       " Text(0, 0, 'JACKSON'),\n",
       " Text(0, 0, 'MOFFAT'),\n",
       " Text(0, 0, 'RIO BLANCO'),\n",
       " Text(0, 0, 'ROUTT'),\n",
       " Text(0, 0, 'SUMMIT'),\n",
       " Text(0, 0, 'TOTAL')]"
      ]
     },
     "execution_count": 17,
     "metadata": {},
     "output_type": "execute_result"
    },
    {
     "data": {
      "text/plain": [
       "Text(0, 3, '46,573')"
      ]
     },
     "execution_count": 17,
     "metadata": {},
     "output_type": "execute_result"
    },
    {
     "data": {
      "text/plain": [
       "Text(0, 3, '46,347')"
      ]
     },
     "execution_count": 17,
     "metadata": {},
     "output_type": "execute_result"
    },
    {
     "data": {
      "text/plain": [
       "Text(0, 3, '6,870')"
      ]
     },
     "execution_count": 17,
     "metadata": {},
     "output_type": "execute_result"
    },
    {
     "data": {
      "text/plain": [
       "Text(0.5, 1.0, 'District SD 10 Predictions')"
      ]
     },
     "execution_count": 17,
     "metadata": {},
     "output_type": "execute_result"
    },
    {
     "data": {
      "text/plain": [
       "<BarContainer object of 2 artists>"
      ]
     },
     "execution_count": 17,
     "metadata": {},
     "output_type": "execute_result"
    },
    {
     "data": {
      "text/plain": [
       "<BarContainer object of 2 artists>"
      ]
     },
     "execution_count": 17,
     "metadata": {},
     "output_type": "execute_result"
    },
    {
     "data": {
      "text/plain": [
       "<BarContainer object of 2 artists>"
      ]
     },
     "execution_count": 17,
     "metadata": {},
     "output_type": "execute_result"
    },
    {
     "data": {
      "text/plain": [
       "[<matplotlib.axis.XTick at 0x7fcfea6e0d10>,\n",
       " <matplotlib.axis.XTick at 0x7fcfea6e0410>]"
      ]
     },
     "execution_count": 17,
     "metadata": {},
     "output_type": "execute_result"
    },
    {
     "data": {
      "text/plain": [
       "[Text(0, 0, 'EL PASO'), Text(0, 0, 'TOTAL')]"
      ]
     },
     "execution_count": 17,
     "metadata": {},
     "output_type": "execute_result"
    },
    {
     "data": {
      "text/plain": [
       "Text(0, 3, '39,555')"
      ]
     },
     "execution_count": 17,
     "metadata": {},
     "output_type": "execute_result"
    },
    {
     "data": {
      "text/plain": [
       "Text(0, 3, '54,731')"
      ]
     },
     "execution_count": 17,
     "metadata": {},
     "output_type": "execute_result"
    },
    {
     "data": {
      "text/plain": [
       "Text(0, 3, '6,059')"
      ]
     },
     "execution_count": 17,
     "metadata": {},
     "output_type": "execute_result"
    },
    {
     "data": {
      "text/plain": [
       "Text(0.5, 1.0, 'District SD 12 Predictions')"
      ]
     },
     "execution_count": 17,
     "metadata": {},
     "output_type": "execute_result"
    },
    {
     "data": {
      "text/plain": [
       "<BarContainer object of 2 artists>"
      ]
     },
     "execution_count": 17,
     "metadata": {},
     "output_type": "execute_result"
    },
    {
     "data": {
      "text/plain": [
       "<BarContainer object of 2 artists>"
      ]
     },
     "execution_count": 17,
     "metadata": {},
     "output_type": "execute_result"
    },
    {
     "data": {
      "text/plain": [
       "<BarContainer object of 2 artists>"
      ]
     },
     "execution_count": 17,
     "metadata": {},
     "output_type": "execute_result"
    },
    {
     "data": {
      "text/plain": [
       "[<matplotlib.axis.XTick at 0x7fcfea751d50>,\n",
       " <matplotlib.axis.XTick at 0x7fcfea751450>]"
      ]
     },
     "execution_count": 17,
     "metadata": {},
     "output_type": "execute_result"
    },
    {
     "data": {
      "text/plain": [
       "[Text(0, 0, 'EL PASO'), Text(0, 0, 'TOTAL')]"
      ]
     },
     "execution_count": 17,
     "metadata": {},
     "output_type": "execute_result"
    },
    {
     "data": {
      "text/plain": [
       "Text(0, 3, '31,247')"
      ]
     },
     "execution_count": 17,
     "metadata": {},
     "output_type": "execute_result"
    },
    {
     "data": {
      "text/plain": [
       "Text(0, 3, '56,614')"
      ]
     },
     "execution_count": 17,
     "metadata": {},
     "output_type": "execute_result"
    },
    {
     "data": {
      "text/plain": [
       "Text(0, 3, '5,698')"
      ]
     },
     "execution_count": 17,
     "metadata": {},
     "output_type": "execute_result"
    },
    {
     "data": {
      "text/plain": [
       "Text(0.5, 1.0, 'District SD 14 Predictions')"
      ]
     },
     "execution_count": 17,
     "metadata": {},
     "output_type": "execute_result"
    },
    {
     "data": {
      "text/plain": [
       "<BarContainer object of 2 artists>"
      ]
     },
     "execution_count": 17,
     "metadata": {},
     "output_type": "execute_result"
    },
    {
     "data": {
      "text/plain": [
       "<BarContainer object of 2 artists>"
      ]
     },
     "execution_count": 17,
     "metadata": {},
     "output_type": "execute_result"
    },
    {
     "data": {
      "text/plain": [
       "<BarContainer object of 2 artists>"
      ]
     },
     "execution_count": 17,
     "metadata": {},
     "output_type": "execute_result"
    },
    {
     "data": {
      "text/plain": [
       "[<matplotlib.axis.XTick at 0x7fcfea8e4d90>,\n",
       " <matplotlib.axis.XTick at 0x7fcfea8e4490>]"
      ]
     },
     "execution_count": 17,
     "metadata": {},
     "output_type": "execute_result"
    },
    {
     "data": {
      "text/plain": [
       "[Text(0, 0, 'LARIMER'), Text(0, 0, 'TOTAL')]"
      ]
     },
     "execution_count": 17,
     "metadata": {},
     "output_type": "execute_result"
    },
    {
     "data": {
      "text/plain": [
       "Text(0, 3, '61,041')"
      ]
     },
     "execution_count": 17,
     "metadata": {},
     "output_type": "execute_result"
    },
    {
     "data": {
      "text/plain": [
       "Text(0, 3, '41,777')"
      ]
     },
     "execution_count": 17,
     "metadata": {},
     "output_type": "execute_result"
    },
    {
     "data": {
      "text/plain": [
       "Text(0, 3, '8,670')"
      ]
     },
     "execution_count": 17,
     "metadata": {},
     "output_type": "execute_result"
    },
    {
     "data": {
      "text/plain": [
       "Text(0.5, 1.0, 'District SD 17 Predictions')"
      ]
     },
     "execution_count": 17,
     "metadata": {},
     "output_type": "execute_result"
    },
    {
     "data": {
      "text/plain": [
       "<BarContainer object of 2 artists>"
      ]
     },
     "execution_count": 17,
     "metadata": {},
     "output_type": "execute_result"
    },
    {
     "data": {
      "text/plain": [
       "<BarContainer object of 2 artists>"
      ]
     },
     "execution_count": 17,
     "metadata": {},
     "output_type": "execute_result"
    },
    {
     "data": {
      "text/plain": [
       "<BarContainer object of 2 artists>"
      ]
     },
     "execution_count": 17,
     "metadata": {},
     "output_type": "execute_result"
    },
    {
     "data": {
      "text/plain": [
       "[<matplotlib.axis.XTick at 0x7fcfea9520d0>,\n",
       " <matplotlib.axis.XTick at 0x7fcfeaa7c550>]"
      ]
     },
     "execution_count": 17,
     "metadata": {},
     "output_type": "execute_result"
    },
    {
     "data": {
      "text/plain": [
       "[Text(0, 0, 'BOULDER'), Text(0, 0, 'TOTAL')]"
      ]
     },
     "execution_count": 17,
     "metadata": {},
     "output_type": "execute_result"
    },
    {
     "data": {
      "text/plain": [
       "Text(0, 3, '68,986')"
      ]
     },
     "execution_count": 17,
     "metadata": {},
     "output_type": "execute_result"
    },
    {
     "data": {
      "text/plain": [
       "Text(0, 3, '34,579')"
      ]
     },
     "execution_count": 17,
     "metadata": {},
     "output_type": "execute_result"
    },
    {
     "data": {
      "text/plain": [
       "Text(0, 3, '11,798')"
      ]
     },
     "execution_count": 17,
     "metadata": {},
     "output_type": "execute_result"
    },
    {
     "data": {
      "text/plain": [
       "Text(0.5, 1.0, 'District SD 18 Predictions')"
      ]
     },
     "execution_count": 17,
     "metadata": {},
     "output_type": "execute_result"
    },
    {
     "data": {
      "text/plain": [
       "<BarContainer object of 2 artists>"
      ]
     },
     "execution_count": 17,
     "metadata": {},
     "output_type": "execute_result"
    },
    {
     "data": {
      "text/plain": [
       "<BarContainer object of 2 artists>"
      ]
     },
     "execution_count": 17,
     "metadata": {},
     "output_type": "execute_result"
    },
    {
     "data": {
      "text/plain": [
       "<BarContainer object of 2 artists>"
      ]
     },
     "execution_count": 17,
     "metadata": {},
     "output_type": "execute_result"
    },
    {
     "data": {
      "text/plain": [
       "[<matplotlib.axis.XTick at 0x7fcfeaaee290>,\n",
       " <matplotlib.axis.XTick at 0x7fcfeaae9950>]"
      ]
     },
     "execution_count": 17,
     "metadata": {},
     "output_type": "execute_result"
    },
    {
     "data": {
      "text/plain": [
       "[Text(0, 0, 'BOULDER'), Text(0, 0, 'TOTAL')]"
      ]
     },
     "execution_count": 17,
     "metadata": {},
     "output_type": "execute_result"
    },
    {
     "data": {
      "text/plain": [
       "Text(0, 3, '65,810')"
      ]
     },
     "execution_count": 17,
     "metadata": {},
     "output_type": "execute_result"
    },
    {
     "data": {
      "text/plain": [
       "Text(0, 3, '32,569')"
      ]
     },
     "execution_count": 17,
     "metadata": {},
     "output_type": "execute_result"
    },
    {
     "data": {
      "text/plain": [
       "Text(0, 3, '10,949')"
      ]
     },
     "execution_count": 17,
     "metadata": {},
     "output_type": "execute_result"
    },
    {
     "data": {
      "text/plain": [
       "Text(0.5, 1.0, 'District SD 19 Predictions')"
      ]
     },
     "execution_count": 17,
     "metadata": {},
     "output_type": "execute_result"
    },
    {
     "data": {
      "text/plain": [
       "<BarContainer object of 2 artists>"
      ]
     },
     "execution_count": 17,
     "metadata": {},
     "output_type": "execute_result"
    },
    {
     "data": {
      "text/plain": [
       "<BarContainer object of 2 artists>"
      ]
     },
     "execution_count": 17,
     "metadata": {},
     "output_type": "execute_result"
    },
    {
     "data": {
      "text/plain": [
       "<BarContainer object of 2 artists>"
      ]
     },
     "execution_count": 17,
     "metadata": {},
     "output_type": "execute_result"
    },
    {
     "data": {
      "text/plain": [
       "[<matplotlib.axis.XTick at 0x7fcfeac7cb50>,\n",
       " <matplotlib.axis.XTick at 0x7fcfeac7c250>]"
      ]
     },
     "execution_count": 17,
     "metadata": {},
     "output_type": "execute_result"
    },
    {
     "data": {
      "text/plain": [
       "[Text(0, 0, 'JEFFERSON'), Text(0, 0, 'TOTAL')]"
      ]
     },
     "execution_count": 17,
     "metadata": {},
     "output_type": "execute_result"
    },
    {
     "data": {
      "text/plain": [
       "Text(0, 3, '53,788')"
      ]
     },
     "execution_count": 17,
     "metadata": {},
     "output_type": "execute_result"
    },
    {
     "data": {
      "text/plain": [
       "Text(0, 3, '46,930')"
      ]
     },
     "execution_count": 17,
     "metadata": {},
     "output_type": "execute_result"
    },
    {
     "data": {
      "text/plain": [
       "Text(0, 3, '7,366')"
      ]
     },
     "execution_count": 17,
     "metadata": {},
     "output_type": "execute_result"
    },
    {
     "data": {
      "text/plain": [
       "Text(0.5, 1.0, 'District SD 21 Predictions')"
      ]
     },
     "execution_count": 17,
     "metadata": {},
     "output_type": "execute_result"
    },
    {
     "data": {
      "text/plain": [
       "<BarContainer object of 2 artists>"
      ]
     },
     "execution_count": 17,
     "metadata": {},
     "output_type": "execute_result"
    },
    {
     "data": {
      "text/plain": [
       "<BarContainer object of 2 artists>"
      ]
     },
     "execution_count": 17,
     "metadata": {},
     "output_type": "execute_result"
    },
    {
     "data": {
      "text/plain": [
       "<BarContainer object of 2 artists>"
      ]
     },
     "execution_count": 17,
     "metadata": {},
     "output_type": "execute_result"
    },
    {
     "data": {
      "text/plain": [
       "[<matplotlib.axis.XTick at 0x7fcfeae0fad0>,\n",
       " <matplotlib.axis.XTick at 0x7fcfeae0f1d0>]"
      ]
     },
     "execution_count": 17,
     "metadata": {},
     "output_type": "execute_result"
    },
    {
     "data": {
      "text/plain": [
       "[Text(0, 0, 'ADAMS'), Text(0, 0, 'TOTAL')]"
      ]
     },
     "execution_count": 17,
     "metadata": {},
     "output_type": "execute_result"
    },
    {
     "data": {
      "text/plain": [
       "Text(0, 3, '52,864')"
      ]
     },
     "execution_count": 17,
     "metadata": {},
     "output_type": "execute_result"
    },
    {
     "data": {
      "text/plain": [
       "Text(0, 3, '26,344')"
      ]
     },
     "execution_count": 17,
     "metadata": {},
     "output_type": "execute_result"
    },
    {
     "data": {
      "text/plain": [
       "Text(0, 3, '9,051')"
      ]
     },
     "execution_count": 17,
     "metadata": {},
     "output_type": "execute_result"
    },
    {
     "data": {
      "text/plain": [
       "Text(0.5, 1.0, 'District SD 23 Predictions')"
      ]
     },
     "execution_count": 17,
     "metadata": {},
     "output_type": "execute_result"
    },
    {
     "data": {
      "text/plain": [
       "<BarContainer object of 4 artists>"
      ]
     },
     "execution_count": 17,
     "metadata": {},
     "output_type": "execute_result"
    },
    {
     "data": {
      "text/plain": [
       "<BarContainer object of 4 artists>"
      ]
     },
     "execution_count": 17,
     "metadata": {},
     "output_type": "execute_result"
    },
    {
     "data": {
      "text/plain": [
       "<BarContainer object of 4 artists>"
      ]
     },
     "execution_count": 17,
     "metadata": {},
     "output_type": "execute_result"
    },
    {
     "data": {
      "text/plain": [
       "[<matplotlib.axis.XTick at 0x7fcfeaf891d0>,\n",
       " <matplotlib.axis.XTick at 0x7fcfeb0cc150>,\n",
       " <matplotlib.axis.XTick at 0x7fcfeb0c1e90>,\n",
       " <matplotlib.axis.XTick at 0x7fcfeb0fe210>]"
      ]
     },
     "execution_count": 17,
     "metadata": {},
     "output_type": "execute_result"
    },
    {
     "data": {
      "text/plain": [
       "[Text(0, 0, 'BROOMFIELD'),\n",
       " Text(0, 0, 'LARIMER'),\n",
       " Text(0, 0, 'WELD'),\n",
       " Text(0, 0, 'TOTAL')]"
      ]
     },
     "execution_count": 17,
     "metadata": {},
     "output_type": "execute_result"
    },
    {
     "data": {
      "text/plain": [
       "Text(0, 3, '64,111')"
      ]
     },
     "execution_count": 17,
     "metadata": {},
     "output_type": "execute_result"
    },
    {
     "data": {
      "text/plain": [
       "Text(0, 3, '72,415')"
      ]
     },
     "execution_count": 17,
     "metadata": {},
     "output_type": "execute_result"
    },
    {
     "data": {
      "text/plain": [
       "Text(0, 3, '9,363')"
      ]
     },
     "execution_count": 17,
     "metadata": {},
     "output_type": "execute_result"
    },
    {
     "data": {
      "text/plain": [
       "Text(0.5, 1.0, 'District SD 25 Predictions')"
      ]
     },
     "execution_count": 17,
     "metadata": {},
     "output_type": "execute_result"
    },
    {
     "data": {
      "text/plain": [
       "<BarContainer object of 2 artists>"
      ]
     },
     "execution_count": 17,
     "metadata": {},
     "output_type": "execute_result"
    },
    {
     "data": {
      "text/plain": [
       "<BarContainer object of 2 artists>"
      ]
     },
     "execution_count": 17,
     "metadata": {},
     "output_type": "execute_result"
    },
    {
     "data": {
      "text/plain": [
       "<BarContainer object of 2 artists>"
      ]
     },
     "execution_count": 17,
     "metadata": {},
     "output_type": "execute_result"
    },
    {
     "data": {
      "text/plain": [
       "[<matplotlib.axis.XTick at 0x7fcfeb129890>,\n",
       " <matplotlib.axis.XTick at 0x7fcfeb14ff50>]"
      ]
     },
     "execution_count": 17,
     "metadata": {},
     "output_type": "execute_result"
    },
    {
     "data": {
      "text/plain": [
       "[Text(0, 0, 'ADAMS'), Text(0, 0, 'TOTAL')]"
      ]
     },
     "execution_count": 17,
     "metadata": {},
     "output_type": "execute_result"
    },
    {
     "data": {
      "text/plain": [
       "Text(0, 3, '46,118')"
      ]
     },
     "execution_count": 17,
     "metadata": {},
     "output_type": "execute_result"
    },
    {
     "data": {
      "text/plain": [
       "Text(0, 3, '38,004')"
      ]
     },
     "execution_count": 17,
     "metadata": {},
     "output_type": "execute_result"
    },
    {
     "data": {
      "text/plain": [
       "Text(0, 3, '6,297')"
      ]
     },
     "execution_count": 17,
     "metadata": {},
     "output_type": "execute_result"
    },
    {
     "data": {
      "text/plain": [
       "Text(0.5, 1.0, 'District SD 26 Predictions')"
      ]
     },
     "execution_count": 17,
     "metadata": {},
     "output_type": "execute_result"
    },
    {
     "data": {
      "text/plain": [
       "<BarContainer object of 2 artists>"
      ]
     },
     "execution_count": 17,
     "metadata": {},
     "output_type": "execute_result"
    },
    {
     "data": {
      "text/plain": [
       "<BarContainer object of 2 artists>"
      ]
     },
     "execution_count": 17,
     "metadata": {},
     "output_type": "execute_result"
    },
    {
     "data": {
      "text/plain": [
       "<BarContainer object of 2 artists>"
      ]
     },
     "execution_count": 17,
     "metadata": {},
     "output_type": "execute_result"
    },
    {
     "data": {
      "text/plain": [
       "[<matplotlib.axis.XTick at 0x7fcfeb407dd0>,\n",
       " <matplotlib.axis.XTick at 0x7fcfeb4074d0>]"
      ]
     },
     "execution_count": 17,
     "metadata": {},
     "output_type": "execute_result"
    },
    {
     "data": {
      "text/plain": [
       "[Text(0, 0, 'ARAPAHOE'), Text(0, 0, 'TOTAL')]"
      ]
     },
     "execution_count": 17,
     "metadata": {},
     "output_type": "execute_result"
    },
    {
     "data": {
      "text/plain": [
       "Text(0, 3, '53,426')"
      ]
     },
     "execution_count": 17,
     "metadata": {},
     "output_type": "execute_result"
    },
    {
     "data": {
      "text/plain": [
       "Text(0, 3, '42,760')"
      ]
     },
     "execution_count": 17,
     "metadata": {},
     "output_type": "execute_result"
    },
    {
     "data": {
      "text/plain": [
       "Text(0, 3, '7,365')"
      ]
     },
     "execution_count": 17,
     "metadata": {},
     "output_type": "execute_result"
    },
    {
     "data": {
      "text/plain": [
       "Text(0.5, 1.0, 'District SD 27 Predictions')"
      ]
     },
     "execution_count": 17,
     "metadata": {},
     "output_type": "execute_result"
    },
    {
     "data": {
      "text/plain": [
       "<BarContainer object of 2 artists>"
      ]
     },
     "execution_count": 17,
     "metadata": {},
     "output_type": "execute_result"
    },
    {
     "data": {
      "text/plain": [
       "<BarContainer object of 2 artists>"
      ]
     },
     "execution_count": 17,
     "metadata": {},
     "output_type": "execute_result"
    },
    {
     "data": {
      "text/plain": [
       "<BarContainer object of 2 artists>"
      ]
     },
     "execution_count": 17,
     "metadata": {},
     "output_type": "execute_result"
    },
    {
     "data": {
      "text/plain": [
       "[<matplotlib.axis.XTick at 0x7fcfeb478dd0>,\n",
       " <matplotlib.axis.XTick at 0x7fcfeb4784d0>]"
      ]
     },
     "execution_count": 17,
     "metadata": {},
     "output_type": "execute_result"
    },
    {
     "data": {
      "text/plain": [
       "[Text(0, 0, 'ARAPAHOE'), Text(0, 0, 'TOTAL')]"
      ]
     },
     "execution_count": 17,
     "metadata": {},
     "output_type": "execute_result"
    },
    {
     "data": {
      "text/plain": [
       "Text(0, 3, '49,595')"
      ]
     },
     "execution_count": 17,
     "metadata": {},
     "output_type": "execute_result"
    },
    {
     "data": {
      "text/plain": [
       "Text(0, 3, '49,767')"
      ]
     },
     "execution_count": 17,
     "metadata": {},
     "output_type": "execute_result"
    },
    {
     "data": {
      "text/plain": [
       "Text(0, 3, '6,891')"
      ]
     },
     "execution_count": 17,
     "metadata": {},
     "output_type": "execute_result"
    },
    {
     "data": {
      "text/plain": [
       "Text(0.5, 1.0, 'District SD 28 Predictions')"
      ]
     },
     "execution_count": 17,
     "metadata": {},
     "output_type": "execute_result"
    },
    {
     "data": {
      "text/plain": [
       "<BarContainer object of 2 artists>"
      ]
     },
     "execution_count": 17,
     "metadata": {},
     "output_type": "execute_result"
    },
    {
     "data": {
      "text/plain": [
       "<BarContainer object of 2 artists>"
      ]
     },
     "execution_count": 17,
     "metadata": {},
     "output_type": "execute_result"
    },
    {
     "data": {
      "text/plain": [
       "<BarContainer object of 2 artists>"
      ]
     },
     "execution_count": 17,
     "metadata": {},
     "output_type": "execute_result"
    },
    {
     "data": {
      "text/plain": [
       "[<matplotlib.axis.XTick at 0x7fcfeb60c7d0>,\n",
       " <matplotlib.axis.XTick at 0x7fcfeb602e90>]"
      ]
     },
     "execution_count": 17,
     "metadata": {},
     "output_type": "execute_result"
    },
    {
     "data": {
      "text/plain": [
       "[Text(0, 0, 'ARAPAHOE'), Text(0, 0, 'TOTAL')]"
      ]
     },
     "execution_count": 17,
     "metadata": {},
     "output_type": "execute_result"
    },
    {
     "data": {
      "text/plain": [
       "Text(0, 3, '53,075')"
      ]
     },
     "execution_count": 17,
     "metadata": {},
     "output_type": "execute_result"
    },
    {
     "data": {
      "text/plain": [
       "Text(0, 3, '39,184')"
      ]
     },
     "execution_count": 17,
     "metadata": {},
     "output_type": "execute_result"
    },
    {
     "data": {
      "text/plain": [
       "Text(0, 3, '7,385')"
      ]
     },
     "execution_count": 17,
     "metadata": {},
     "output_type": "execute_result"
    },
    {
     "data": {
      "text/plain": [
       "Text(0.5, 1.0, 'District SD 29 Predictions')"
      ]
     },
     "execution_count": 17,
     "metadata": {},
     "output_type": "execute_result"
    },
    {
     "data": {
      "text/plain": [
       "<BarContainer object of 2 artists>"
      ]
     },
     "execution_count": 17,
     "metadata": {},
     "output_type": "execute_result"
    },
    {
     "data": {
      "text/plain": [
       "<BarContainer object of 2 artists>"
      ]
     },
     "execution_count": 17,
     "metadata": {},
     "output_type": "execute_result"
    },
    {
     "data": {
      "text/plain": [
       "<BarContainer object of 2 artists>"
      ]
     },
     "execution_count": 17,
     "metadata": {},
     "output_type": "execute_result"
    },
    {
     "data": {
      "text/plain": [
       "[<matplotlib.axis.XTick at 0x7fcfeb79d7d0>,\n",
       " <matplotlib.axis.XTick at 0x7fcfeb793e90>]"
      ]
     },
     "execution_count": 17,
     "metadata": {},
     "output_type": "execute_result"
    },
    {
     "data": {
      "text/plain": [
       "[Text(0, 0, 'ARAPAHOE'), Text(0, 0, 'TOTAL')]"
      ]
     },
     "execution_count": 17,
     "metadata": {},
     "output_type": "execute_result"
    },
    {
     "data": {
      "text/plain": [
       "Text(0, 3, '46,610')"
      ]
     },
     "execution_count": 17,
     "metadata": {},
     "output_type": "execute_result"
    },
    {
     "data": {
      "text/plain": [
       "Text(0, 3, '34,539')"
      ]
     },
     "execution_count": 17,
     "metadata": {},
     "output_type": "execute_result"
    },
    {
     "data": {
      "text/plain": [
       "Text(0, 3, '6,484')"
      ]
     },
     "execution_count": 17,
     "metadata": {},
     "output_type": "execute_result"
    },
    {
     "data": {
      "text/plain": [
       "Text(0.5, 1.0, 'District SD 31 Predictions')"
      ]
     },
     "execution_count": 17,
     "metadata": {},
     "output_type": "execute_result"
    },
    {
     "data": {
      "text/plain": [
       "<BarContainer object of 3 artists>"
      ]
     },
     "execution_count": 17,
     "metadata": {},
     "output_type": "execute_result"
    },
    {
     "data": {
      "text/plain": [
       "<BarContainer object of 3 artists>"
      ]
     },
     "execution_count": 17,
     "metadata": {},
     "output_type": "execute_result"
    },
    {
     "data": {
      "text/plain": [
       "<BarContainer object of 3 artists>"
      ]
     },
     "execution_count": 17,
     "metadata": {},
     "output_type": "execute_result"
    },
    {
     "data": {
      "text/plain": [
       "[<matplotlib.axis.XTick at 0x7fcfeb9317d0>,\n",
       " <matplotlib.axis.XTick at 0x7fcfeb928e90>,\n",
       " <matplotlib.axis.XTick at 0x7fcfeb928c10>]"
      ]
     },
     "execution_count": 17,
     "metadata": {},
     "output_type": "execute_result"
    },
    {
     "data": {
      "text/plain": [
       "[Text(0, 0, 'ARAPAHOE'), Text(0, 0, 'DENVER'), Text(0, 0, 'TOTAL')]"
      ]
     },
     "execution_count": 17,
     "metadata": {},
     "output_type": "execute_result"
    },
    {
     "data": {
      "text/plain": [
       "Text(0, 3, '67,679')"
      ]
     },
     "execution_count": 17,
     "metadata": {},
     "output_type": "execute_result"
    },
    {
     "data": {
      "text/plain": [
       "Text(0, 3, '37,574')"
      ]
     },
     "execution_count": 17,
     "metadata": {},
     "output_type": "execute_result"
    },
    {
     "data": {
      "text/plain": [
       "Text(0, 3, '10,432')"
      ]
     },
     "execution_count": 17,
     "metadata": {},
     "output_type": "execute_result"
    },
    {
     "data": {
      "text/plain": [
       "Text(0.5, 1.0, 'District SD 33 Predictions')"
      ]
     },
     "execution_count": 17,
     "metadata": {},
     "output_type": "execute_result"
    },
    {
     "data": {
      "text/plain": [
       "<BarContainer object of 2 artists>"
      ]
     },
     "execution_count": 17,
     "metadata": {},
     "output_type": "execute_result"
    },
    {
     "data": {
      "text/plain": [
       "<BarContainer object of 2 artists>"
      ]
     },
     "execution_count": 17,
     "metadata": {},
     "output_type": "execute_result"
    },
    {
     "data": {
      "text/plain": [
       "<BarContainer object of 2 artists>"
      ]
     },
     "execution_count": 17,
     "metadata": {},
     "output_type": "execute_result"
    },
    {
     "data": {
      "text/plain": [
       "[<matplotlib.axis.XTick at 0x7fcfebbea990>,\n",
       " <matplotlib.axis.XTick at 0x7fcfebbea090>]"
      ]
     },
     "execution_count": 17,
     "metadata": {},
     "output_type": "execute_result"
    },
    {
     "data": {
      "text/plain": [
       "[Text(0, 0, 'DENVER'), Text(0, 0, 'TOTAL')]"
      ]
     },
     "execution_count": 17,
     "metadata": {},
     "output_type": "execute_result"
    },
    {
     "data": {
      "text/plain": [
       "Text(0, 3, '68,737')"
      ]
     },
     "execution_count": 17,
     "metadata": {},
     "output_type": "execute_result"
    },
    {
     "data": {
      "text/plain": [
       "Text(0, 3, '32,686')"
      ]
     },
     "execution_count": 17,
     "metadata": {},
     "output_type": "execute_result"
    },
    {
     "data": {
      "text/plain": [
       "Text(0, 3, '11,805')"
      ]
     },
     "execution_count": 17,
     "metadata": {},
     "output_type": "execute_result"
    },
    {
     "data": {
      "text/plain": [
       "Text(0.5, 1.0, 'District SD 35 Predictions')"
      ]
     },
     "execution_count": 17,
     "metadata": {},
     "output_type": "execute_result"
    },
    {
     "data": {
      "text/plain": [
       "<BarContainer object of 17 artists>"
      ]
     },
     "execution_count": 17,
     "metadata": {},
     "output_type": "execute_result"
    },
    {
     "data": {
      "text/plain": [
       "<BarContainer object of 17 artists>"
      ]
     },
     "execution_count": 17,
     "metadata": {},
     "output_type": "execute_result"
    },
    {
     "data": {
      "text/plain": [
       "<BarContainer object of 17 artists>"
      ]
     },
     "execution_count": 17,
     "metadata": {},
     "output_type": "execute_result"
    },
    {
     "data": {
      "text/plain": [
       "[<matplotlib.axis.XTick at 0x7fcfebc5a410>,\n",
       " <matplotlib.axis.XTick at 0x7fcfebc46ad0>,\n",
       " <matplotlib.axis.XTick at 0x7fcfebc46850>,\n",
       " <matplotlib.axis.XTick at 0x7fcfebf75cd0>,\n",
       " <matplotlib.axis.XTick at 0x7fcfebf812d0>,\n",
       " <matplotlib.axis.XTick at 0x7fcfebf81910>,\n",
       " <matplotlib.axis.XTick at 0x7fcfebf81c50>,\n",
       " <matplotlib.axis.XTick at 0x7fcfebf86390>,\n",
       " <matplotlib.axis.XTick at 0x7fcfebf86990>,\n",
       " <matplotlib.axis.XTick at 0x7fcfebf86a90>,\n",
       " <matplotlib.axis.XTick at 0x7fcfebf8e610>,\n",
       " <matplotlib.axis.XTick at 0x7fcfebf8ec50>,\n",
       " <matplotlib.axis.XTick at 0x7fcfebf8e350>,\n",
       " <matplotlib.axis.XTick at 0x7fcfebf86890>,\n",
       " <matplotlib.axis.XTick at 0x7fcfebf81150>,\n",
       " <matplotlib.axis.XTick at 0x7fcfebf94810>,\n",
       " <matplotlib.axis.XTick at 0x7fcfebf94e50>]"
      ]
     },
     "execution_count": 17,
     "metadata": {},
     "output_type": "execute_result"
    },
    {
     "data": {
      "text/plain": [
       "[Text(0, 0, 'ALAMOSA'),\n",
       " Text(0, 0, 'BACA'),\n",
       " Text(0, 0, 'BENT'),\n",
       " Text(0, 0, 'CONEJOS'),\n",
       " Text(0, 0, 'COSTILLA'),\n",
       " Text(0, 0, 'CROWLEY'),\n",
       " Text(0, 0, 'CUSTER'),\n",
       " Text(0, 0, 'HUERFANO'),\n",
       " Text(0, 0, 'KIOWA'),\n",
       " Text(0, 0, 'LAS ANIMAS'),\n",
       " Text(0, 0, 'MINERAL'),\n",
       " Text(0, 0, 'OTERO'),\n",
       " Text(0, 0, 'PROWERS'),\n",
       " Text(0, 0, 'PUEBLO'),\n",
       " Text(0, 0, 'RIO GRANDE'),\n",
       " Text(0, 0, 'SAGUACHE'),\n",
       " Text(0, 0, 'TOTAL')]"
      ]
     },
     "execution_count": 17,
     "metadata": {},
     "output_type": "execute_result"
    },
    {
     "data": {
      "text/plain": [
       "Text(0, 3, '37,839')"
      ]
     },
     "execution_count": 17,
     "metadata": {},
     "output_type": "execute_result"
    },
    {
     "data": {
      "text/plain": [
       "Text(0, 3, '44,311')"
      ]
     },
     "execution_count": 17,
     "metadata": {},
     "output_type": "execute_result"
    },
    {
     "data": {
      "text/plain": [
       "Text(0, 3, '5,697')"
      ]
     },
     "execution_count": 17,
     "metadata": {},
     "output_type": "execute_result"
    },
    {
     "data": {
      "image/png": "[encoded data removed]",
      "text/plain": [
       "<Figure size 684x432 with 1 Axes>"
      ]
     },
     "metadata": {
      "needs_background": "light"
     },
     "output_type": "display_data"
    },
    {
     "data": {
      "image/png": "[encoded data removed]",
      "text/plain": [
       "<Figure size 684x432 with 1 Axes>"
      ]
     },
     "metadata": {
      "needs_background": "light"
     },
     "output_type": "display_data"
    },
    {
     "data": {
      "image/png": "[encoded data removed]",
      "text/plain": [
       "<Figure size 684x432 with 1 Axes>"
      ]
     },
     "metadata": {
      "needs_background": "light"
     },
     "output_type": "display_data"
    },
    {
     "data": {
      "image/png": "[encoded data removed]",
      "text/plain": [
       "<Figure size 684x432 with 1 Axes>"
      ]
     },
     "metadata": {
      "needs_background": "light"
     },
     "output_type": "display_data"
    },
    {
     "data": {
      "image/png": "[encoded data removed]",
      "text/plain": [
       "<Figure size 684x432 with 1 Axes>"
      ]
     },
     "metadata": {
      "needs_background": "light"
     },
     "output_type": "display_data"
    },
    {
     "data": {
      "image/png": "[encoded data removed]",
      "text/plain": [
       "<Figure size 684x432 with 1 Axes>"
      ]
     },
     "metadata": {
      "needs_background": "light"
     },
     "output_type": "display_data"
    },
    {
     "data": {
      "image/png": "[encoded data removed]",
      "text/plain": [
       "<Figure size 684x432 with 1 Axes>"
      ]
     },
     "metadata": {
      "needs_background": "light"
     },
     "output_type": "display_data"
    },
    {
     "data": {
      "image/png": "[encoded data removed]",
      "text/plain": [
       "<Figure size 684x432 with 1 Axes>"
      ]
     },
     "metadata": {
      "needs_background": "light"
     },
     "output_type": "display_data"
    },
    {
     "data": {
      "image/png": "[encoded data removed]",
      "text/plain": [
       "<Figure size 684x432 with 1 Axes>"
      ]
     },
     "metadata": {
      "needs_background": "light"
     },
     "output_type": "display_data"
    },
    {
     "data": {
      "image/png": "[encoded data removed]",
      "text/plain": [
       "<Figure size 684x432 with 1 Axes>"
      ]
     },
     "metadata": {
      "needs_background": "light"
     },
     "output_type": "display_data"
    },
    {
     "data": {
      "image/png": "[encoded data removed]",
      "text/plain": [
       "<Figure size 684x432 with 1 Axes>"
      ]
     },
     "metadata": {
      "needs_background": "light"
     },
     "output_type": "display_data"
    },
    {
     "data": {
      "image/png": "[encoded data removed]",
      "text/plain": [
       "<Figure size 684x432 with 1 Axes>"
      ]
     },
     "metadata": {
      "needs_background": "light"
     },
     "output_type": "display_data"
    },
    {
     "data": {
      "image/png": "[encoded data removed]",
      "text/plain": [
       "<Figure size 684x432 with 1 Axes>"
      ]
     },
     "metadata": {
      "needs_background": "light"
     },
     "output_type": "display_data"
    },
    {
     "data": {
      "image/png": "[encoded data removed]",
      "text/plain": [
       "<Figure size 684x432 with 1 Axes>"
      ]
     },
     "metadata": {
      "needs_background": "light"
     },
     "output_type": "display_data"
    },
    {
     "data": {
      "image/png": "[encoded data removed]",
      "text/plain": [
       "<Figure size 684x432 with 1 Axes>"
      ]
     },
     "metadata": {
      "needs_background": "light"
     },
     "output_type": "display_data"
    },
    {
     "data": {
      "image/png": "[encoded data removed]",
      "text/plain": [
       "<Figure size 684x432 with 1 Axes>"
      ]
     },
     "metadata": {
      "needs_background": "light"
     },
     "output_type": "display_data"
    },
    {
     "data": {
      "image/png": "[encoded data removed]",
      "text/plain": [
       "<Figure size 684x432 with 1 Axes>"
      ]
     },
     "metadata": {
      "needs_background": "light"
     },
     "output_type": "display_data"
    },
    {
     "data": {
      "image/png": "[encoded data removed]",
      "text/plain": [
       "<Figure size 684x432 with 1 Axes>"
      ]
     },
     "metadata": {
      "needs_background": "light"
     },
     "output_type": "display_data"
    }
   ],
   "source": [
    "import matplotlib as mpl\n",
    "\n",
    "# Use the Gill Sans font\n",
    "import matplotlib.pylab as pylab\n",
    "\n",
    "import matplotlib.font_manager as fm\n",
    "font = fm.FontProperties(\n",
    "       family = 'Gill Sans',\n",
    "       fname = '/usr/share/fonts/truetype/adf/GilliusADF-Regular.otf')\n",
    "params = {\n",
    "         'font.size': 14,\n",
    "         'font.style': 'italic',\n",
    "         'legend.fontsize': 14,\n",
    "         'figure.figsize': (9.5, 6),\n",
    "         'axes.labelsize': 14,\n",
    "         'axes.titlesize': 16,\n",
    "         'xtick.labelsize': 14,\n",
    "         'ytick.labelsize': 14,\n",
    "         'axes.spines.right' : False,\n",
    "         'axes.spines.left' : False,\n",
    "         'axes.spines.top' : False,\n",
    "         'axes.spines.bottom' : False,\n",
    "         'font.family' : 'Gill Sans'}\n",
    "pylab.rcParams.update(params)\n",
    "\n",
    "\n",
    "width = .25\n",
    "\n",
    "for district in mean_df.DISTRICT.unique():\n",
    "    fig, ax = plt.subplots()\n",
    "    \n",
    "    ax.set_title('District {} Predictions'.format(district));\n",
    "    \n",
    "    counties = mean_df[mean_df.DISTRICT == district].COUNTY.values\n",
    "    \n",
    "    dem_votes   = mean_df[mean_df.DISTRICT == district].DEM.values\n",
    "    rep_votes   = mean_df[mean_df.DISTRICT == district].REP.values\n",
    "    other_votes = mean_df[mean_df.DISTRICT == district].OTHER.values\n",
    "    \n",
    "    dem_std   = std_df[mean_df.DISTRICT == district].DEM.values\n",
    "    rep_std   = std_df[mean_df.DISTRICT == district].REP.values\n",
    "    other_std = std_df[mean_df.DISTRICT == district].OTHER.values\n",
    "    \n",
    "    counties = np.append(counties, 'TOTAL')\n",
    "    \n",
    "    dem_votes = np.append(dem_votes, np.sum(dem_votes))\n",
    "    dem_std = np.append(dem_std, np.sum(dem_std))\n",
    "    \n",
    "    rep_votes = np.append(rep_votes, np.sum(rep_votes))\n",
    "    rep_std = np.append(rep_std, np.sum(rep_std))\n",
    "    \n",
    "    other_votes = np.append(other_votes, np.sum(other_votes))\n",
    "    other_std = np.append(other_std, np.sum(other_std))\n",
    "    \n",
    "    \n",
    "    x = np.arange(len(counties))\n",
    "    \n",
    "    ax.bar(x - width, dem_votes, width, label=counties, yerr=2.*dem_std, color='tab:blue', alpha=0.5);\n",
    "    ax.bar(x, rep_votes, width, label=counties, yerr = 2.*rep_std, color='tab:red', alpha=0.5);\n",
    "    ax.bar(x+width, other_votes, width, label=counties, yerr = 2.*other_std, color='tab:green', alpha=0.5);\n",
    "    \n",
    "    ax.set_xticks(x)\n",
    "    for tick in ax.get_xticklabels():\n",
    "        tick.set_rotation(85)\n",
    "    ax.set_xticklabels(counties)\n",
    "    ax.get_yaxis().set_major_formatter(\n",
    "        mpl.ticker.FuncFormatter(lambda x, p: format(int(x), ',')))\n",
    "    \n",
    "    ax.annotate(format(int(dem_votes[-1]), ','),\n",
    "            xy=(x[-1]-width, dem_votes[-1]),\n",
    "            xytext=(0, 3),  # 3 points vertical offset\n",
    "            textcoords=\"offset points\",\n",
    "            ha='center', va='bottom');\n",
    "    \n",
    "    ax.annotate(format(int(rep_votes[-1]), ','),\n",
    "            xy=(x[-1], rep_votes[-1]),\n",
    "            xytext=(0, 3),  # 3 points vertical offset\n",
    "            textcoords=\"offset points\",\n",
    "            ha='center', va='bottom');\n",
    "    \n",
    "    ax.annotate(format(int(other_votes[-1]), ','),\n",
    "            xy=(x[-1]+width, other_votes[-1]),\n",
    "            xytext=(0, 3),  # 3 points vertical offset\n",
    "            textcoords=\"offset points\",\n",
    "            ha='center', va='bottom');\n",
    "    \n",
    "    \n",
    "    fig.tight_layout()\n",
    "    \n",
    "    fig.savefig('figs/forecasts/{}_projection.png'.format(district))"
   ]
  },
  {
   "cell_type": "markdown",
   "metadata": {},
   "source": [
    "### Spread in Projections\n",
    "\n",
    "Now we want to look at each model's predictions for each district, to figure out whether things are clustered, driven by outliers, etc. Key questions here are what percentage of models predict a Dem versus Rep win?"
   ]
  },
  {
   "cell_type": "markdown",
   "metadata": {},
   "source": [
    "First, some data cleaning. Pandas doesn't like multidimensional arrays, so I'm using a dictionary instead."
   ]
  },
  {
   "cell_type": "code",
   "execution_count": 38,
   "metadata": {},
   "outputs": [
    {
     "name": "stdout",
     "output_type": "stream",
     "text": [
      "(1000, 42, 3)\n",
      "dict_keys(['SD 4-DOUGLAS', 'SD 8-GARFIELD', 'SD 8-GRAND', 'SD 8-JACKSON', 'SD 8-MOFFAT', 'SD 8-RIO BLANCO', 'SD 8-ROUTT', 'SD 8-SUMMIT', 'SD 10-EL PASO', 'SD 12-EL PASO', 'SD 14-LARIMER', 'SD 17-BOULDER', 'SD 18-BOULDER', 'SD 19-JEFFERSON', 'SD 21-ADAMS', 'SD 23-BROOMFIELD', 'SD 23-LARIMER', 'SD 23-WELD', 'SD 25-ADAMS', 'SD 26-ARAPAHOE', 'SD 27-ARAPAHOE', 'SD 28-ARAPAHOE', 'SD 29-ARAPAHOE', 'SD 31-ARAPAHOE', 'SD 31-DENVER', 'SD 33-DENVER', 'SD 35-ALAMOSA', 'SD 35-BACA', 'SD 35-BENT', 'SD 35-CONEJOS', 'SD 35-COSTILLA', 'SD 35-CROWLEY', 'SD 35-CUSTER', 'SD 35-HUERFANO', 'SD 35-KIOWA', 'SD 35-LAS ANIMAS', 'SD 35-MINERAL', 'SD 35-OTERO', 'SD 35-PROWERS', 'SD 35-PUEBLO', 'SD 35-RIO GRANDE', 'SD 35-SAGUACHE'])\n"
     ]
    }
   ],
   "source": [
    "print(np.shape(preds_array))\n",
    "preds_array = np.array(preds_array)\n",
    "\n",
    "preds_dict = {}\n",
    "\n",
    "dem_votes = preds_array[:,:,0].T\n",
    "rep_votes = preds_array[:,:,2].T\n",
    "oth_votes = preds_array[:,:,1].T\n",
    "\n",
    "dist_county = current_reg.DIST_COUNTY.values\n",
    "\n",
    "for idx in range(len(dist_county)):\n",
    "    preds_dict[dist_county[idx]] = preds_array[:,idx,:]\n",
    "\n",
    "print(preds_dict.keys())\n",
    "\n",
    "\n",
    "#dems_df = pd.DataFrame(data = {'DIST_COUNTY' : current_reg.DIST_COUNTY.values,\n",
    "#                              'votes' : [dem_votes]})"
   ]
  },
  {
   "cell_type": "code",
   "execution_count": 47,
   "metadata": {},
   "outputs": [
    {
     "name": "stdout",
     "output_type": "stream",
     "text": [
      "[[48097.50199714  7903.76226432 77257.03755701]\n",
      " [48810.61552128 11936.94315049 72807.30689591]\n",
      " [47672.02840844  7585.63608066 77908.01975906]\n",
      " ...\n",
      " [43743.07285312 11183.09947355 80924.36871761]\n",
      " [49232.6107302   9284.61957581 80010.05718195]\n",
      " [46402.40456387  3841.94730056 80710.57394779]]\n",
      "[[16472.08654317  2623.17707986 16399.63051137]\n",
      " [17883.51968831  1757.3658501  15761.83089271]\n",
      " [17747.68275881  2821.40555628 16087.09236097]\n",
      " ...\n",
      " [17630.22977465  2415.70551388 15535.33125839]\n",
      " [17219.8987447   1897.85806655 16135.25100544]\n",
      " [16325.04016113  1683.08106799 16633.0135493 ]]\n",
      "[[21289.88759622  3395.62221724 22095.50721511]\n",
      " [22902.931858    2477.48540403 21263.98488298]\n",
      " [22599.41553903  3586.04787692 21925.95010567]\n",
      " ...\n",
      " [22291.69573468  3260.4216461  21411.31584987]\n",
      " [22092.05408466  2551.74962162 22077.06681517]\n",
      " [20996.00412726  2120.06578249 22556.5893335 ]]\n",
      "[[21576.55229166  3445.6157829  22763.24939832]\n",
      " [23117.54432991  2660.39863513 21934.42209467]\n",
      " [22842.12251094  3627.67470709 22622.01047826]\n",
      " ...\n",
      " [22480.6233715   3363.12916437 22166.1144416 ]\n",
      " [22314.84673445  2698.16120691 22822.32125011]\n",
      " [21296.07269973  2142.58442646 23224.11979118]]\n",
      "[[23978.17014259  3860.07316764 28148.32558033]\n",
      " [25199.21207163  3886.37124195 27135.35925493]\n",
      " [25085.48354772  4001.55784234 28061.7279982 ]\n",
      " ...\n",
      " [24347.91739939  4160.54195873 27996.57357749]\n",
      " [24529.48879384  3607.4675573  28547.68159923]\n",
      " [23776.66456851  2331.27531784 28645.30684802]]\n",
      "[[25078.47907037  4056.12175034 31020.36354229]\n",
      " [26015.23736522  4723.21818223 29985.84670028]\n",
      " [26045.29240742  4167.97334488 30998.28348964]\n",
      " ...\n",
      " [25093.87878834  4596.40757142 31172.27413091]\n",
      " [25419.40766476  4244.22334158 31677.07920417]\n",
      " [24979.22085389  2420.01914937 31468.70809218]]\n",
      "[[34566.8409602   5569.59030228 38648.13828012]\n",
      " [36112.6523771   5496.03124004 37693.16081509]\n",
      " [36529.79684392  5876.03859409 38334.50961179]\n",
      " ...\n",
      " [35207.54885565  5784.95391934 38425.40856871]\n",
      " [34972.4393339   5342.80655827 39097.91980395]\n",
      " [34616.89857206  3552.16544849 38879.06804344]]\n",
      "[[46151.65529472  7435.98206211 46217.27672234]\n",
      " [48018.83283886  6269.86838919 45937.8207213 ]\n",
      " [49514.22109392  8089.26537421 45472.23886061]\n",
      " ...\n",
      " [47338.93186496  7059.85800086 45816.38620666]\n",
      " [46196.07418059  6889.49260572 46211.22271493]\n",
      " [46671.02654418  5187.61271239 45790.04825094]]\n",
      "[[38709.15346429  6283.75099348 55384.24038774]\n",
      " [41112.26293439  7469.29300664 51629.76857561]\n",
      " [39529.07870013  6238.8417834  55359.07130098]\n",
      " ...\n",
      " [38136.39495981  7901.58280931 55748.91439807]\n",
      " [41132.79907662  6010.05077607 55966.89758766]\n",
      " [37252.22126338  3219.73681109 58001.00075752]]\n",
      "[[23798.67581868  4287.43439713 64663.85656977]\n",
      " [34818.94530201  8153.92221099 50370.18394709]\n",
      " [27008.47259545  4447.03210151 60095.67094755]\n",
      " ...\n",
      " [25393.25269318  8716.46864122 61757.44265842]\n",
      " [33844.28657937  6315.25934243 56918.3139739 ]\n",
      " [28856.02358198  2321.92462838 60898.68632317]]\n",
      "[[61713.3244493   9951.93964434 40091.5301249 ]\n",
      " [63110.77209663  4120.93923931 43924.52615905]\n",
      " [68230.0050416  11530.59810555 38652.58317125]\n",
      " ...\n",
      " [63821.90461135  6774.30447078 39889.86928618]\n",
      " [59192.73181987  7879.17290989 38937.36498392]\n",
      " [64169.74328184  8718.72910202 36614.80314124]]\n",
      "[[74206.78465647 12786.46606931 28063.49109751]\n",
      " [67841.04512918  3537.74036623 41216.69203353]\n",
      " [80062.42636615 15446.8818087  28479.29703441]\n",
      " ...\n",
      " [68991.15781248  6280.26905269 35595.63189647]\n",
      " [64549.89747179 18373.79458342 23945.93052238]\n",
      " [77405.95564264 14649.18317387 23148.05027153]]\n",
      "[[67636.94285774 11368.03567004 29521.54917049]\n",
      " [64900.97358227  3263.93831372 38794.6853528 ]\n",
      " [76931.58531666 14573.25857782 26312.4868207 ]\n",
      " ...\n",
      " [66763.78862762  6029.80654997 32731.5897603 ]\n",
      " [61742.54265499 16496.35841417 22832.05739045]\n",
      " [71034.9405632  12619.12812805 24713.42148685]]\n",
      "[[51102.67863858  8151.44034051 49057.13199618]\n",
      " [58232.73906112  4646.75984317 45477.47527349]\n",
      " [57058.25752437  9144.79020607 46454.99177921]\n",
      " ...\n",
      " [55875.96371698  7178.20461517 45326.74819806]\n",
      " [54436.03080493  5983.53178282 46005.03385636]\n",
      " [54017.42944479  6103.02167527 45903.2470943 ]]\n",
      "[[56681.68098074  9755.25731872 21535.1356025 ]\n",
      " [51955.09978455  2686.29389801 31461.73154998]\n",
      " [61255.71638399 11770.31820309 21768.13584584]\n",
      " ...\n",
      " [52922.94955069  4799.4742448  27078.46776831]\n",
      " [49561.59860677 14612.58152622 17817.29329585]\n",
      " [59182.91696048 11194.95353369 17724.02483457]]\n",
      "[[25881.53655624  4131.00003862 20598.0012989 ]\n",
      " [27379.6192646   2106.99642187 20963.35727978]\n",
      " [28501.67075729  4643.60280561 19901.0971055 ]\n",
      " ...\n",
      " [27266.15881062  3233.76227403 19886.52047968]\n",
      " [25839.17573833  2951.39981282 20364.49804401]\n",
      " [26229.87504101  3088.95242822 20063.19490099]]\n",
      "[[32738.16332066  5248.75999828 30813.50860798]\n",
      " [34409.83928347  3599.70600687 30625.27790451]\n",
      " [35258.00489545  5718.00974286 30299.85909963]\n",
      " ...\n",
      " [33709.05863625  4707.76866969 30453.62246811]\n",
      " [32871.51263416  4140.91453023 30946.46592808]\n",
      " [32853.34997374  3652.81820353 30725.50236654]]\n",
      "[[63340.51686376 10195.81739553 72594.67197752]\n",
      " [67186.9711915   9007.91503403 69582.68058187]\n",
      " [66406.69824532 10632.38310171 72294.72986758]\n",
      " ...\n",
      " [64614.0327737  10648.04524569 71877.15754807]\n",
      " [65495.35763678  8626.06212005 72937.37245554]\n",
      " [62485.88449126  6269.78494089 74265.69052106]]\n",
      "[[44530.74331379  7086.70770067 39032.46182537]\n",
      " [49016.93213177  3789.35843197 37717.15238559]\n",
      " [50203.84416771  8074.31421673 36602.55064344]\n",
      " ...\n",
      " [49016.97318363  5844.29418519 35660.97994494]\n",
      " [46448.67103457  5094.01330929 36868.92593002]\n",
      " [44655.16638398  4967.56426543 38856.90096056]]\n",
      "[[53077.96911478  8471.23469836 42358.26045394]\n",
      " [56519.6125288   4256.59113553 42814.89804506]\n",
      " [58629.2796669   9516.8210811  40776.20375872]\n",
      " ...\n",
      " [56131.07519054  6618.04604071 40686.7101264 ]\n",
      " [53160.40888834  6010.94544637 41752.15089154]\n",
      " [53709.01365709  6310.5840649  41374.26476264]]\n",
      "[[49435.86075854  7879.8454246  49365.69560999]\n",
      " [53245.01278925  5372.10394879 47710.99022743]\n",
      " [52856.98238361  8347.27857267 48790.16762879]\n",
      " ...\n",
      " [50972.71303046  7371.07695765 48601.77702025]\n",
      " [50801.60790807  5673.07461085 49936.27104208]\n",
      " [48433.81719035  4936.79539239 50736.1955114 ]]\n",
      "[[52682.45693088  8432.12497965 38786.11834466]\n",
      " [55624.43957329  3844.76232067 40097.77908683]\n",
      " [58939.85449195  9714.33808193 36737.26864278]\n",
      " ...\n",
      " [55741.32929206  6213.38656351 37244.6728307 ]\n",
      " [52209.85897779  6284.03781518 37431.09619558]\n",
      " [53847.54806638  6685.63755214 37066.61039412]]\n",
      "[[44686.87679839  7142.02087512 35854.41880777]\n",
      " [49544.09197277  3288.24087471 34842.49753541]\n",
      " [50653.88471979  8293.02155638 33362.89437461]\n",
      " ...\n",
      " [48559.46933192  5501.97790003 33203.88634568]\n",
      " [45989.35207671  5581.45220169 32736.43720749]\n",
      " [48066.40528733  6125.69220465 31879.57959035]]\n",
      "[[2749.32279873  447.09405632 1596.26675129]\n",
      " [2794.36763644  160.51060641 1807.231013  ]\n",
      " [3140.19656694  549.1439158  1449.5198155 ]\n",
      " ...\n",
      " [2850.33681381  281.36146569 1587.94071919]\n",
      " [2622.59086072  421.98190917 1429.02732861]\n",
      " [2871.29164207  421.66816317 1424.75016826]]\n",
      "[[68432.38471353 11252.8905286  35619.42246491]\n",
      " [68097.87463343  3670.18094099 42479.61826164]\n",
      " [78129.27287388 14024.64848748 32091.709768  ]\n",
      " ...\n",
      " [69641.05767405  6612.81963296 36762.36479789]\n",
      " [64061.00875247 12230.93353449 30598.18902129]\n",
      " [71791.98901498 11373.78964277 30914.25288755]]\n",
      "[[70708.58110458 11961.80485798 29432.16623601]\n",
      " [67343.86413324  3297.93308095 39660.65121523]\n",
      " [80755.1311422  15557.62269236 25753.70412502]\n",
      " ...\n",
      " [69406.79765695  6178.18548292 33183.25447947]\n",
      " [64423.63233048 19760.0640541  21310.88452345]\n",
      " [74124.80228603 13560.00969552 24563.36673185]]\n",
      "[[4065.11130476  649.44870758 4526.59487629]\n",
      " [4849.40545177  417.20531261 3978.98392439]\n",
      " [4598.34474754  719.36309624 4227.40490723]\n",
      " ...\n",
      " [4653.89739132  626.60698581 4000.12980843]\n",
      " [4577.45976162  470.09002358 4138.23424101]\n",
      " [4122.08246708  416.39696854 4509.14491749]]\n",
      "[[4814.53464073  780.22170229 6311.07309902]\n",
      " [5608.08014184  759.90367156 5603.75531578]\n",
      " [5327.25538942  839.62844796 5996.37780797]\n",
      " ...\n",
      " [5298.35153231  881.26178038 5857.23465645]\n",
      " [5361.31144264  729.43019945 5941.94116342]\n",
      " [4927.40569744  478.04686988 6274.38757139]]\n",
      "[[5790.628025    940.20076035 7851.00906456]\n",
      " [6773.67600995  937.44577742 6932.09041882]\n",
      " [6354.21555886 1000.12186207 7499.27708161]\n",
      " ...\n",
      " [6346.74711987 1089.77245671 7315.18924081]\n",
      " [6501.453172    879.32955053 7394.2972616 ]\n",
      " [5905.87094602  562.22810936 7842.50944597]]\n",
      "[[ 8019.64202482  1297.15587562 10426.98547304]\n",
      " [ 9408.73982924  1182.46840162  9205.74213502]\n",
      " [ 8761.2487309   1370.28990849 10006.42438889]\n",
      " ...\n",
      " [ 8757.77173606  1449.81413901  9730.62246233]\n",
      " [ 8951.78256634  1136.29420322  9875.66691428]\n",
      " [ 8096.81887653   773.77257476 10493.14933896]]\n",
      "[[ 9474.98739177  1531.99611211 11361.8791362 ]\n",
      " [10977.49721593  1264.25732056 10173.56305668]\n",
      " [10507.77594733  1670.79895493 10785.6534555 ]\n",
      " ...\n",
      " [10343.03931227  1603.00694236 10585.54861075]\n",
      " [10408.06694821  1370.54335612 10639.23227507]\n",
      " [ 9641.90536669   996.86250863 11317.47977948]]\n",
      "[[10127.42505991  1642.95544592 12689.15370136]\n",
      " [11666.40829289  1483.81165969 11375.07581434]\n",
      " [11136.94165131  1773.24639066 12118.58372337]\n",
      " ...\n",
      " [10909.5171299   1792.39972686 11978.22981423]\n",
      " [11080.69530037  1548.79755066 11997.2860266 ]\n",
      " [10320.81345332  1050.95652658 12645.6688894 ]]\n",
      "[[11298.59434032  1844.79407916 15227.60971266]\n",
      " [12700.67361724  2039.02300453 13820.75420079]\n",
      " [12196.95260593  1950.56120569 14720.30033022]\n",
      " ...\n",
      " [11745.63031542  2176.5659193  14812.14760369]\n",
      " [12090.83417073  2013.20263036 14766.16901076]\n",
      " [11544.94765174  1145.97930331 15182.71381629]]\n",
      "[[13642.89901716  2218.37439509 17514.32746008]\n",
      " [15438.53608161  2242.07067949 15887.2698549 ]\n",
      " [14863.84992424  2370.10471737 16844.46806809]\n",
      " ...\n",
      " [14364.7917856   2505.23012232 16872.56713918]\n",
      " [14641.88081995  2291.23528986 16840.03674349]\n",
      " [13963.43431067  1410.6982085  17396.63514054]]\n",
      "[[13906.21791649  2265.29802763 18208.5797334 ]\n",
      " [15660.77880257  2418.25997073 16552.05792415]\n",
      " [15105.00167757  2411.31286831 17543.05890784]\n",
      " ...\n",
      " [14564.2177214   2607.64399911 17617.73905423]\n",
      " [14880.76036924  2423.87843235 17572.3122035 ]\n",
      " [14254.93610013  1432.39536257 18075.81968915]]\n",
      "[[18621.37114811  3017.07983643 22302.63734901]\n",
      " [20986.28087378  2786.5783635  20414.42399937]\n",
      " [20397.99912566  3253.2754074  21405.07304215]\n",
      " ...\n",
      " [19711.87196374  3218.78382654 21394.26752841]\n",
      " [19821.30347848  2990.83266815 21341.86218467]\n",
      " [19179.60967749  2010.99871366 21928.80833831]]\n",
      "[[18918.23912519  3065.7114269  22756.98021948]\n",
      " [21334.84423637  2839.51795223 20811.02252728]\n",
      " [20707.86487377  3301.45756022 21851.43768954]\n",
      " ...\n",
      " [19997.34261298  3283.06495006 21856.77837312]\n",
      " [20148.80142742  3038.66336358 21788.84845427]\n",
      " [19476.40859812  2036.85676774 22392.27688757]]\n",
      "[[23422.30419442  3796.98960721 29204.93488216]\n",
      " [26708.94710234  3539.19749875 26401.65333468]\n",
      " [25549.64626253  4055.74309868 28084.96307099]\n",
      " ...\n",
      " [24909.31463701  4160.68010326 27885.23762399]\n",
      " [25354.70119423  3656.83148282 27859.63218561]\n",
      " [23966.2732999   2437.26951928 28973.03604755]]\n",
      "[[25547.42362431  4155.52393861 33359.11365056]\n",
      " [29017.8618387   4183.51733765 30125.68672359]\n",
      " [27676.80623171  4398.35004021 32198.27295309]\n",
      " ...\n",
      " [26904.46213773  4742.20674562 32109.76838481]\n",
      " [27682.44482797  4151.13874103 31989.26524284]\n",
      " [26141.16958496  2611.59862545 33166.8351132 ]]\n",
      "[[30523.95219898  4968.34355505 40947.07816613]\n",
      " [35195.14597064  4980.07313273 36517.15109804]\n",
      " [33127.5120405   5247.20704396 39426.25156242]\n",
      " ...\n",
      " [32517.40530556  5753.0744762  39032.92417276]\n",
      " [33670.63444147  4846.89264758 38937.41510913]\n",
      " [31180.69237107  3055.96479639 40834.54362252]]\n",
      "[[33215.10353899  5408.05112967 45026.21911836]\n",
      " [38343.14935109  5456.45669396 40088.56809685]\n",
      " [35957.4948146   5688.6305571  43416.6316666 ]\n",
      " ...\n",
      " [35265.41072956  6318.6641014  43031.86616915]\n",
      " [36706.77822092  5257.80212406 42884.023913  ]\n",
      " [33852.70940685  3288.15694    45014.93245879]]\n",
      "[[35277.29091215  5737.16771313 46725.74338868]\n",
      " [40679.43100688  5605.02040032 41697.69146731]\n",
      " [38356.66114774  6078.67289264 44945.16989005]\n",
      " ...\n",
      " [37557.91044459  6574.43732743 44558.3830705 ]\n",
      " [38874.78853998  5522.1181093  44377.1899823 ]\n",
      " [36048.70703149  3561.29223621 46559.79038718]]\n"
     ]
    }
   ],
   "source": [
    "dists = mean_df.DISTRICT.unique()\n",
    "\n",
    "dist_tots = {}\n",
    "\n",
    "for dist in dists:\n",
    "    tot_votes = 0\n",
    "    for key in preds_dict.keys():\n",
    "        if dist in key:\n",
    "            tot_votes += preds_dict[key]\n",
    "    \n",
    "    dist_tots[dist] = tot_votes\n",
    "    "
   ]
  },
  {
   "cell_type": "code",
   "execution_count": 73,
   "metadata": {},
   "outputs": [
    {
     "data": {
      "image/png": "[encoded data removed]",
      "text/plain": [
       "<Figure size 684x432 with 1 Axes>"
      ]
     },
     "metadata": {
      "needs_background": "light"
     },
     "output_type": "display_data"
    }
   ],
   "source": [
    "fig, ax = plt.subplots()\n",
    "for idx, dist in enumerate(dists):\n",
    "    \n",
    "    ax.scatter([2*idx-.2]*np.shape(dist_tots[dist])[0], dist_tots[dist][:,0], c='tab:blue', alpha=0.5, s=5);\n",
    "    ax.scatter([2*idx]*np.shape(dist_tots[dist])[0], dist_tots[dist][:,1],  c='tab:green', alpha=0.5, s=5);\n",
    "    ax.scatter([2*idx+.2]*np.shape(dist_tots[dist])[0], dist_tots[dist][:,2],  c='tab:red', alpha=0.5, s=5);\n",
    "    \n",
    "ax.set_xticks(np.linspace(0,2*len(dists)-2, len(dists)));\n",
    "ax.set_xticklabels(dists, rotation='vertical', fontsize=18);\n",
    "ax.set_title('Prediction Ranges');\n",
    "fig.tight_layout();\n",
    "fig.savefig('full_predictions.png');"
   ]
  },
  {
   "cell_type": "code",
   "execution_count": null,
   "metadata": {},
   "outputs": [],
   "source": []
  }
 ],
 "metadata": {
  "kernelspec": {
   "display_name": "Python 3",
   "language": "python",
   "name": "python3"
  },
  "language_info": {
   "codemirror_mode": {
    "name": "ipython",
    "version": 3
   },
   "file_extension": ".py",
   "mimetype": "text/x-python",
   "name": "python",
   "nbconvert_exporter": "python",
   "pygments_lexer": "ipython3",
   "version": "3.7.7"
  }
 },
 "nbformat": 4,
 "nbformat_minor": 4
}
